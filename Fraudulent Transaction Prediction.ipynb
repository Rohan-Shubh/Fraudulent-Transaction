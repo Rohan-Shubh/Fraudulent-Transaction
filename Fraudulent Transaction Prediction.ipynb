{
  "cells": [
    {
      "cell_type": "code",
      "execution_count": 2,
      "id": "90025ae9",
      "metadata": {
        "id": "90025ae9"
      },
      "outputs": [],
      "source": [
        "import pandas as pd\n",
        "import numpy as np\n",
        "import matplotlib.pyplot as plt\n",
        "import seaborn as sns\n",
        "import warnings\n",
        "warnings.filterwarnings('ignore')"
      ]
    },
    {
      "cell_type": "markdown",
      "id": "062cb244",
      "metadata": {
        "id": "062cb244"
      },
      "source": [
        "### DATA EXPLORATION"
      ]
    },
    {
      "cell_type": "code",
      "execution_count": 3,
      "id": "b2aeab9f",
      "metadata": {
        "colab": {
          "base_uri": "https://localhost:8080/",
          "height": 443
        },
        "id": "b2aeab9f",
        "outputId": "839c156d-122e-4e4d-fccc-20de1b59951f"
      },
      "outputs": [
        {
          "data": {
            "text/html": [
              "<div>\n",
              "<style scoped>\n",
              "    .dataframe tbody tr th:only-of-type {\n",
              "        vertical-align: middle;\n",
              "    }\n",
              "\n",
              "    .dataframe tbody tr th {\n",
              "        vertical-align: top;\n",
              "    }\n",
              "\n",
              "    .dataframe thead th {\n",
              "        text-align: right;\n",
              "    }\n",
              "</style>\n",
              "<table border=\"1\" class=\"dataframe\">\n",
              "  <thead>\n",
              "    <tr style=\"text-align: right;\">\n",
              "      <th></th>\n",
              "      <th>step</th>\n",
              "      <th>type</th>\n",
              "      <th>amount</th>\n",
              "      <th>nameOrig</th>\n",
              "      <th>oldbalanceOrg</th>\n",
              "      <th>newbalanceOrig</th>\n",
              "      <th>nameDest</th>\n",
              "      <th>oldbalanceDest</th>\n",
              "      <th>newbalanceDest</th>\n",
              "      <th>isFraud</th>\n",
              "      <th>isFlaggedFraud</th>\n",
              "    </tr>\n",
              "  </thead>\n",
              "  <tbody>\n",
              "    <tr>\n",
              "      <th>0</th>\n",
              "      <td>1</td>\n",
              "      <td>PAYMENT</td>\n",
              "      <td>9839.64</td>\n",
              "      <td>C1231006815</td>\n",
              "      <td>170136.00</td>\n",
              "      <td>160296.36</td>\n",
              "      <td>M1979787155</td>\n",
              "      <td>0.00</td>\n",
              "      <td>0.00</td>\n",
              "      <td>0.0</td>\n",
              "      <td>0.0</td>\n",
              "    </tr>\n",
              "    <tr>\n",
              "      <th>1</th>\n",
              "      <td>1</td>\n",
              "      <td>PAYMENT</td>\n",
              "      <td>1864.28</td>\n",
              "      <td>C1666544295</td>\n",
              "      <td>21249.00</td>\n",
              "      <td>19384.72</td>\n",
              "      <td>M2044282225</td>\n",
              "      <td>0.00</td>\n",
              "      <td>0.00</td>\n",
              "      <td>0.0</td>\n",
              "      <td>0.0</td>\n",
              "    </tr>\n",
              "    <tr>\n",
              "      <th>2</th>\n",
              "      <td>1</td>\n",
              "      <td>TRANSFER</td>\n",
              "      <td>181.00</td>\n",
              "      <td>C1305486145</td>\n",
              "      <td>181.00</td>\n",
              "      <td>0.00</td>\n",
              "      <td>C553264065</td>\n",
              "      <td>0.00</td>\n",
              "      <td>0.00</td>\n",
              "      <td>1.0</td>\n",
              "      <td>0.0</td>\n",
              "    </tr>\n",
              "    <tr>\n",
              "      <th>3</th>\n",
              "      <td>1</td>\n",
              "      <td>CASH_OUT</td>\n",
              "      <td>181.00</td>\n",
              "      <td>C840083671</td>\n",
              "      <td>181.00</td>\n",
              "      <td>0.00</td>\n",
              "      <td>C38997010</td>\n",
              "      <td>21182.00</td>\n",
              "      <td>0.00</td>\n",
              "      <td>1.0</td>\n",
              "      <td>0.0</td>\n",
              "    </tr>\n",
              "    <tr>\n",
              "      <th>4</th>\n",
              "      <td>1</td>\n",
              "      <td>PAYMENT</td>\n",
              "      <td>11668.14</td>\n",
              "      <td>C2048537720</td>\n",
              "      <td>41554.00</td>\n",
              "      <td>29885.86</td>\n",
              "      <td>M1230701703</td>\n",
              "      <td>0.00</td>\n",
              "      <td>0.00</td>\n",
              "      <td>0.0</td>\n",
              "      <td>0.0</td>\n",
              "    </tr>\n",
              "    <tr>\n",
              "      <th>...</th>\n",
              "      <td>...</td>\n",
              "      <td>...</td>\n",
              "      <td>...</td>\n",
              "      <td>...</td>\n",
              "      <td>...</td>\n",
              "      <td>...</td>\n",
              "      <td>...</td>\n",
              "      <td>...</td>\n",
              "      <td>...</td>\n",
              "      <td>...</td>\n",
              "      <td>...</td>\n",
              "    </tr>\n",
              "    <tr>\n",
              "      <th>1280494</th>\n",
              "      <td>135</td>\n",
              "      <td>PAYMENT</td>\n",
              "      <td>5414.49</td>\n",
              "      <td>C1142941278</td>\n",
              "      <td>0.00</td>\n",
              "      <td>0.00</td>\n",
              "      <td>M1434508404</td>\n",
              "      <td>0.00</td>\n",
              "      <td>0.00</td>\n",
              "      <td>0.0</td>\n",
              "      <td>0.0</td>\n",
              "    </tr>\n",
              "    <tr>\n",
              "      <th>1280495</th>\n",
              "      <td>135</td>\n",
              "      <td>PAYMENT</td>\n",
              "      <td>15257.53</td>\n",
              "      <td>C2087171711</td>\n",
              "      <td>0.00</td>\n",
              "      <td>0.00</td>\n",
              "      <td>M1141654505</td>\n",
              "      <td>0.00</td>\n",
              "      <td>0.00</td>\n",
              "      <td>0.0</td>\n",
              "      <td>0.0</td>\n",
              "    </tr>\n",
              "    <tr>\n",
              "      <th>1280496</th>\n",
              "      <td>135</td>\n",
              "      <td>CASH_OUT</td>\n",
              "      <td>214843.43</td>\n",
              "      <td>C2132434976</td>\n",
              "      <td>286955.00</td>\n",
              "      <td>72111.57</td>\n",
              "      <td>C1255744224</td>\n",
              "      <td>0.00</td>\n",
              "      <td>214843.43</td>\n",
              "      <td>0.0</td>\n",
              "      <td>0.0</td>\n",
              "    </tr>\n",
              "    <tr>\n",
              "      <th>1280497</th>\n",
              "      <td>135</td>\n",
              "      <td>CASH_OUT</td>\n",
              "      <td>134807.38</td>\n",
              "      <td>C749363403</td>\n",
              "      <td>72111.57</td>\n",
              "      <td>0.00</td>\n",
              "      <td>C710063170</td>\n",
              "      <td>2221631.34</td>\n",
              "      <td>2356438.72</td>\n",
              "      <td>0.0</td>\n",
              "      <td>0.0</td>\n",
              "    </tr>\n",
              "    <tr>\n",
              "      <th>1280498</th>\n",
              "      <td>135</td>\n",
              "      <td>PAYMENT</td>\n",
              "      <td>37170.63</td>\n",
              "      <td>C1841299311</td>\n",
              "      <td>NaN</td>\n",
              "      <td>NaN</td>\n",
              "      <td>NaN</td>\n",
              "      <td>NaN</td>\n",
              "      <td>NaN</td>\n",
              "      <td>NaN</td>\n",
              "      <td>NaN</td>\n",
              "    </tr>\n",
              "  </tbody>\n",
              "</table>\n",
              "<p>1280499 rows × 11 columns</p>\n",
              "</div>"
            ],
            "text/plain": [
              "         step      type     amount     nameOrig  oldbalanceOrg  \\\n",
              "0           1   PAYMENT    9839.64  C1231006815      170136.00   \n",
              "1           1   PAYMENT    1864.28  C1666544295       21249.00   \n",
              "2           1  TRANSFER     181.00  C1305486145         181.00   \n",
              "3           1  CASH_OUT     181.00   C840083671         181.00   \n",
              "4           1   PAYMENT   11668.14  C2048537720       41554.00   \n",
              "...       ...       ...        ...          ...            ...   \n",
              "1280494   135   PAYMENT    5414.49  C1142941278           0.00   \n",
              "1280495   135   PAYMENT   15257.53  C2087171711           0.00   \n",
              "1280496   135  CASH_OUT  214843.43  C2132434976      286955.00   \n",
              "1280497   135  CASH_OUT  134807.38   C749363403       72111.57   \n",
              "1280498   135   PAYMENT   37170.63  C1841299311            NaN   \n",
              "\n",
              "         newbalanceOrig     nameDest  oldbalanceDest  newbalanceDest  isFraud  \\\n",
              "0             160296.36  M1979787155            0.00            0.00      0.0   \n",
              "1              19384.72  M2044282225            0.00            0.00      0.0   \n",
              "2                  0.00   C553264065            0.00            0.00      1.0   \n",
              "3                  0.00    C38997010        21182.00            0.00      1.0   \n",
              "4              29885.86  M1230701703            0.00            0.00      0.0   \n",
              "...                 ...          ...             ...             ...      ...   \n",
              "1280494            0.00  M1434508404            0.00            0.00      0.0   \n",
              "1280495            0.00  M1141654505            0.00            0.00      0.0   \n",
              "1280496        72111.57  C1255744224            0.00       214843.43      0.0   \n",
              "1280497            0.00   C710063170      2221631.34      2356438.72      0.0   \n",
              "1280498             NaN          NaN             NaN             NaN      NaN   \n",
              "\n",
              "         isFlaggedFraud  \n",
              "0                   0.0  \n",
              "1                   0.0  \n",
              "2                   0.0  \n",
              "3                   0.0  \n",
              "4                   0.0  \n",
              "...                 ...  \n",
              "1280494             0.0  \n",
              "1280495             0.0  \n",
              "1280496             0.0  \n",
              "1280497             0.0  \n",
              "1280498             NaN  \n",
              "\n",
              "[1280499 rows x 11 columns]"
            ]
          },
          "execution_count": 3,
          "metadata": {},
          "output_type": "execute_result"
        }
      ],
      "source": [
        "df = pd.read_csv(\"/Users/shubh_rohan/Downloads/Fraud_deploy/Fraudulent-Transaction/Fraud.csv\")\n",
        "df"
      ]
    },
    {
      "cell_type": "code",
      "execution_count": 4,
      "id": "dba39c56",
      "metadata": {
        "colab": {
          "base_uri": "https://localhost:8080/"
        },
        "id": "dba39c56",
        "outputId": "69a00843-2c1e-4fb3-e3d2-e39dddd99701"
      },
      "outputs": [
        {
          "data": {
            "text/plain": [
              "(1280499, 11)"
            ]
          },
          "execution_count": 4,
          "metadata": {},
          "output_type": "execute_result"
        }
      ],
      "source": [
        "#Shape of the data\n",
        "df.shape"
      ]
    },
    {
      "cell_type": "code",
      "execution_count": 5,
      "id": "844a6889",
      "metadata": {
        "colab": {
          "base_uri": "https://localhost:8080/"
        },
        "id": "844a6889",
        "outputId": "efcea75d-ee8a-46bd-d930-9d6654d7fe9c"
      },
      "outputs": [
        {
          "name": "stdout",
          "output_type": "stream",
          "text": [
            "<class 'pandas.core.frame.DataFrame'>\n",
            "RangeIndex: 1280499 entries, 0 to 1280498\n",
            "Data columns (total 11 columns):\n",
            " #   Column          Non-Null Count    Dtype  \n",
            "---  ------          --------------    -----  \n",
            " 0   step            1280499 non-null  int64  \n",
            " 1   type            1280499 non-null  object \n",
            " 2   amount          1280499 non-null  float64\n",
            " 3   nameOrig        1280499 non-null  object \n",
            " 4   oldbalanceOrg   1280498 non-null  float64\n",
            " 5   newbalanceOrig  1280498 non-null  float64\n",
            " 6   nameDest        1280498 non-null  object \n",
            " 7   oldbalanceDest  1280498 non-null  float64\n",
            " 8   newbalanceDest  1280498 non-null  float64\n",
            " 9   isFraud         1280498 non-null  float64\n",
            " 10  isFlaggedFraud  1280498 non-null  float64\n",
            "dtypes: float64(7), int64(1), object(3)\n",
            "memory usage: 107.5+ MB\n"
          ]
        }
      ],
      "source": [
        "#Information of data\n",
        "df.info()"
      ]
    },
    {
      "cell_type": "code",
      "execution_count": 6,
      "id": "c131d59d",
      "metadata": {
        "colab": {
          "base_uri": "https://localhost:8080/",
          "height": 300
        },
        "id": "c131d59d",
        "outputId": "952e9d77-bbc1-47aa-b468-05cbf99036fd"
      },
      "outputs": [
        {
          "data": {
            "text/html": [
              "<div>\n",
              "<style scoped>\n",
              "    .dataframe tbody tr th:only-of-type {\n",
              "        vertical-align: middle;\n",
              "    }\n",
              "\n",
              "    .dataframe tbody tr th {\n",
              "        vertical-align: top;\n",
              "    }\n",
              "\n",
              "    .dataframe thead th {\n",
              "        text-align: right;\n",
              "    }\n",
              "</style>\n",
              "<table border=\"1\" class=\"dataframe\">\n",
              "  <thead>\n",
              "    <tr style=\"text-align: right;\">\n",
              "      <th></th>\n",
              "      <th>step</th>\n",
              "      <th>amount</th>\n",
              "      <th>oldbalanceOrg</th>\n",
              "      <th>newbalanceOrig</th>\n",
              "      <th>oldbalanceDest</th>\n",
              "      <th>newbalanceDest</th>\n",
              "      <th>isFraud</th>\n",
              "      <th>isFlaggedFraud</th>\n",
              "    </tr>\n",
              "  </thead>\n",
              "  <tbody>\n",
              "    <tr>\n",
              "      <th>count</th>\n",
              "      <td>1.280499e+06</td>\n",
              "      <td>1.280499e+06</td>\n",
              "      <td>1.280498e+06</td>\n",
              "      <td>1.280498e+06</td>\n",
              "      <td>1.280498e+06</td>\n",
              "      <td>1.280498e+06</td>\n",
              "      <td>1.280498e+06</td>\n",
              "      <td>1280498.0</td>\n",
              "    </tr>\n",
              "    <tr>\n",
              "      <th>mean</th>\n",
              "      <td>4.555897e+01</td>\n",
              "      <td>1.629530e+05</td>\n",
              "      <td>8.753618e+05</td>\n",
              "      <td>8.958151e+05</td>\n",
              "      <td>9.861776e+05</td>\n",
              "      <td>1.118442e+06</td>\n",
              "      <td>1.204219e-03</td>\n",
              "      <td>0.0</td>\n",
              "    </tr>\n",
              "    <tr>\n",
              "      <th>std</th>\n",
              "      <td>4.212963e+01</td>\n",
              "      <td>2.734228e+05</td>\n",
              "      <td>2.974531e+06</td>\n",
              "      <td>3.010888e+06</td>\n",
              "      <td>2.305078e+06</td>\n",
              "      <td>2.417105e+06</td>\n",
              "      <td>3.468097e-02</td>\n",
              "      <td>0.0</td>\n",
              "    </tr>\n",
              "    <tr>\n",
              "      <th>min</th>\n",
              "      <td>1.000000e+00</td>\n",
              "      <td>1.000000e-01</td>\n",
              "      <td>0.000000e+00</td>\n",
              "      <td>0.000000e+00</td>\n",
              "      <td>0.000000e+00</td>\n",
              "      <td>0.000000e+00</td>\n",
              "      <td>0.000000e+00</td>\n",
              "      <td>0.0</td>\n",
              "    </tr>\n",
              "    <tr>\n",
              "      <th>25%</th>\n",
              "      <td>1.600000e+01</td>\n",
              "      <td>1.282232e+04</td>\n",
              "      <td>0.000000e+00</td>\n",
              "      <td>0.000000e+00</td>\n",
              "      <td>0.000000e+00</td>\n",
              "      <td>0.000000e+00</td>\n",
              "      <td>0.000000e+00</td>\n",
              "      <td>0.0</td>\n",
              "    </tr>\n",
              "    <tr>\n",
              "      <th>50%</th>\n",
              "      <td>3.500000e+01</td>\n",
              "      <td>7.842198e+04</td>\n",
              "      <td>1.554500e+04</td>\n",
              "      <td>0.000000e+00</td>\n",
              "      <td>1.294892e+05</td>\n",
              "      <td>2.232652e+05</td>\n",
              "      <td>0.000000e+00</td>\n",
              "      <td>0.0</td>\n",
              "    </tr>\n",
              "    <tr>\n",
              "      <th>75%</th>\n",
              "      <td>4.400000e+01</td>\n",
              "      <td>2.184391e+05</td>\n",
              "      <td>1.304279e+05</td>\n",
              "      <td>1.710595e+05</td>\n",
              "      <td>9.289908e+05</td>\n",
              "      <td>1.157453e+06</td>\n",
              "      <td>0.000000e+00</td>\n",
              "      <td>0.0</td>\n",
              "    </tr>\n",
              "    <tr>\n",
              "      <th>max</th>\n",
              "      <td>1.350000e+02</td>\n",
              "      <td>1.000000e+07</td>\n",
              "      <td>3.893942e+07</td>\n",
              "      <td>3.894623e+07</td>\n",
              "      <td>4.220740e+07</td>\n",
              "      <td>4.220740e+07</td>\n",
              "      <td>1.000000e+00</td>\n",
              "      <td>0.0</td>\n",
              "    </tr>\n",
              "  </tbody>\n",
              "</table>\n",
              "</div>"
            ],
            "text/plain": [
              "               step        amount  oldbalanceOrg  newbalanceOrig  \\\n",
              "count  1.280499e+06  1.280499e+06   1.280498e+06    1.280498e+06   \n",
              "mean   4.555897e+01  1.629530e+05   8.753618e+05    8.958151e+05   \n",
              "std    4.212963e+01  2.734228e+05   2.974531e+06    3.010888e+06   \n",
              "min    1.000000e+00  1.000000e-01   0.000000e+00    0.000000e+00   \n",
              "25%    1.600000e+01  1.282232e+04   0.000000e+00    0.000000e+00   \n",
              "50%    3.500000e+01  7.842198e+04   1.554500e+04    0.000000e+00   \n",
              "75%    4.400000e+01  2.184391e+05   1.304279e+05    1.710595e+05   \n",
              "max    1.350000e+02  1.000000e+07   3.893942e+07    3.894623e+07   \n",
              "\n",
              "       oldbalanceDest  newbalanceDest       isFraud  isFlaggedFraud  \n",
              "count    1.280498e+06    1.280498e+06  1.280498e+06       1280498.0  \n",
              "mean     9.861776e+05    1.118442e+06  1.204219e-03             0.0  \n",
              "std      2.305078e+06    2.417105e+06  3.468097e-02             0.0  \n",
              "min      0.000000e+00    0.000000e+00  0.000000e+00             0.0  \n",
              "25%      0.000000e+00    0.000000e+00  0.000000e+00             0.0  \n",
              "50%      1.294892e+05    2.232652e+05  0.000000e+00             0.0  \n",
              "75%      9.289908e+05    1.157453e+06  0.000000e+00             0.0  \n",
              "max      4.220740e+07    4.220740e+07  1.000000e+00             0.0  "
            ]
          },
          "execution_count": 6,
          "metadata": {},
          "output_type": "execute_result"
        }
      ],
      "source": [
        "#Description of data\n",
        "df.describe()"
      ]
    },
    {
      "cell_type": "markdown",
      "id": "cb3442d5",
      "metadata": {
        "id": "cb3442d5"
      },
      "source": [
        "### EXPLORATORY DATA ANALYSIS (EDA)"
      ]
    },
    {
      "cell_type": "code",
      "execution_count": 7,
      "id": "6ab77f50",
      "metadata": {
        "colab": {
          "base_uri": "https://localhost:8080/"
        },
        "id": "6ab77f50",
        "outputId": "b8c4989d-6e1a-430f-cbfe-70dfa11b3fbd"
      },
      "outputs": [
        {
          "name": "stdout",
          "output_type": "stream",
          "text": [
            "Null Values: True\n"
          ]
        }
      ],
      "source": [
        "#Checking for Null values\n",
        "print('Null Values:',df.isnull().values.any())"
      ]
    },
    {
      "cell_type": "markdown",
      "id": "df692728",
      "metadata": {
        "id": "df692728"
      },
      "source": [
        "#### Distribution of the Transaction Type column"
      ]
    },
    {
      "cell_type": "code",
      "execution_count": 8,
      "id": "7b71a2c5",
      "metadata": {
        "colab": {
          "base_uri": "https://localhost:8080/",
          "height": 410
        },
        "id": "7b71a2c5",
        "outputId": "8395691e-b380-49ac-825a-bdff9599c737",
        "scrolled": true
      },
      "outputs": [
        {
          "data": {
            "image/png": "[encoded data removed]",
            "text/plain": [
              "<Figure size 800x400 with 1 Axes>"
            ]
          },
          "metadata": {},
          "output_type": "display_data"
        }
      ],
      "source": [
        "#Visualization\n",
        "fig, ax=plt.subplots(1,1, figsize=(8,4))\n",
        "sns.countplot(x=df.type).set_title(\"Transaction Type\")\n",
        "ax.bar_label(ax.containers[0])\n",
        "plt.show()"
      ]
    },
    {
      "cell_type": "markdown",
      "id": "9c6e935b",
      "metadata": {
        "id": "9c6e935b"
      },
      "source": [
        "#### Pie chart to visualize the percentage distribution of each class"
      ]
    },
    {
      "cell_type": "code",
      "execution_count": 9,
      "id": "8690de17",
      "metadata": {
        "colab": {
          "base_uri": "https://localhost:8080/",
          "height": 450
        },
        "id": "8690de17",
        "outputId": "972160e1-3394-4533-d342-048faa4c95a5"
      },
      "outputs": [
        {
          "data": {
            "text/plain": [
              "Text(0.5, 1.0, 'Percentage distribution of each transaction type')"
            ]
          },
          "execution_count": 9,
          "metadata": {},
          "output_type": "execute_result"
        },
        {
          "data": {
            "image/png": "[encoded data removed]",
            "text/plain": [
              "<Figure size 640x480 with 1 Axes>"
            ]
          },
          "metadata": {},
          "output_type": "display_data"
        }
      ],
      "source": [
        "plt.pie(df['type'].value_counts(), labels=['CASH_OUT','PAYMENT','CASH_IN','TRANSFER','DEBIT'], autopct='%.2f')\n",
        "plt.title('Percentage distribution of each transaction type', fontsize=18)"
      ]
    },
    {
      "cell_type": "markdown",
      "id": "5aaa0661",
      "metadata": {
        "id": "5aaa0661"
      },
      "source": [
        "#### Fraud Dataset And Valid Dataset"
      ]
    },
    {
      "cell_type": "code",
      "execution_count": 10,
      "id": "3fadf045",
      "metadata": {
        "colab": {
          "base_uri": "https://localhost:8080/"
        },
        "id": "3fadf045",
        "outputId": "a6e4cb0d-3a11-4add-fa20-5f5e95d562ce"
      },
      "outputs": [
        {
          "name": "stdout",
          "output_type": "stream",
          "text": [
            "Fraud: (1542, 11)\n",
            "Valid: (1278956, 11)\n"
          ]
        }
      ],
      "source": [
        "#Fraud and non-Fraud Distribution\n",
        "fraud = df[df['isFraud']==1]\n",
        "valid = df[df['isFraud']==0]\n",
        "print(\"Fraud:\",fraud.shape)\n",
        "print(\"Valid:\",valid.shape)"
      ]
    },
    {
      "cell_type": "markdown",
      "id": "79449411",
      "metadata": {
        "id": "79449411"
      },
      "source": [
        "#### Relation between the Fraud Transaction and the Transactions Flagged by the system"
      ]
    },
    {
      "cell_type": "code",
      "execution_count": 11,
      "id": "6ebf079b",
      "metadata": {
        "colab": {
          "base_uri": "https://localhost:8080/",
          "height": 428
        },
        "id": "6ebf079b",
        "outputId": "0e2f19e6-fa9a-4acc-862e-84ef7c243db2"
      },
      "outputs": [
        {
          "data": {
            "image/png": "[encoded data removed]",
            "text/plain": [
              "<Figure size 800x400 with 1 Axes>"
            ]
          },
          "metadata": {},
          "output_type": "display_data"
        }
      ],
      "source": [
        "# chart for label class\n",
        "plt.figure(figsize=(8,4))\n",
        "ax = sns.countplot(data=df, x='isFraud')\n",
        "ax.bar_label(ax.containers[0])\n",
        "\n",
        "plt.suptitle('COUNT PLOT OF ISFRAUD')\n",
        "plt.show()"
      ]
    },
    {
      "cell_type": "markdown",
      "id": "1d0fdf94",
      "metadata": {
        "id": "1d0fdf94"
      },
      "source": [
        "#### Fraud Transactions and Transaction types"
      ]
    },
    {
      "cell_type": "code",
      "execution_count": 12,
      "id": "f28177cf",
      "metadata": {
        "colab": {
          "base_uri": "https://localhost:8080/",
          "height": 564
        },
        "id": "f28177cf",
        "outputId": "a6051994-021e-4474-a443-b9e13b7311cf"
      },
      "outputs": [
        {
          "data": {
            "image/png": "[encoded data removed]",
            "text/plain": [
              "<Figure size 800x600 with 1 Axes>"
            ]
          },
          "metadata": {},
          "output_type": "display_data"
        }
      ],
      "source": [
        "plt.figure(figsize=(8,6))\n",
        "ax=sns.countplot(x = 'isFraud',hue = 'type', data=fraud)\n",
        "for i in range(len(ax.containers)):\n",
        "    ax.bar_label(ax.containers[i])\n",
        "plt.title('Fraud Distribution')\n",
        "plt.show()"
      ]
    },
    {
      "cell_type": "markdown",
      "id": "c40f4601",
      "metadata": {
        "id": "c40f4601"
      },
      "source": [
        "#### Dealing with Account Ids 'nameOrig' and 'nameDest'"
      ]
    },
    {
      "cell_type": "markdown",
      "id": "fe017581",
      "metadata": {
        "id": "fe017581"
      },
      "source": [
        "We do not get any beneficial information from the nameOrig or nameDest, so we'll be dropping these columns."
      ]
    },
    {
      "cell_type": "markdown",
      "id": "338f0c7a",
      "metadata": {
        "id": "338f0c7a"
      },
      "source": [
        "#### Feature Engineering and Data Cleaning"
      ]
    },
    {
      "cell_type": "markdown",
      "id": "cf3cfce7",
      "metadata": {
        "id": "cf3cfce7"
      },
      "source": [
        "As We know Dataset is totally Biased, 8231 are fraud transactions(minority class) where as remainings are non fraud transactions(majority class). However We are trying to make content small so that we could balanced the dataset. Hence we are going to take 12000 data from each type(Payment,Transfer,Cash_out,Debit,Cash_in) which is non fraud and will make one dataframe of fraud data i.e 8231 and we will combine all the dataframe to perform further steps."
      ]
    },
    {
      "cell_type": "code",
      "execution_count": 13,
      "id": "0188a5fc",
      "metadata": {
        "colab": {
          "base_uri": "https://localhost:8080/",
          "height": 443
        },
        "id": "0188a5fc",
        "outputId": "f9d39c94-380f-47e6-d12e-a68462a6f9b4"
      },
      "outputs": [
        {
          "data": {
            "text/html": [
              "<div>\n",
              "<style scoped>\n",
              "    .dataframe tbody tr th:only-of-type {\n",
              "        vertical-align: middle;\n",
              "    }\n",
              "\n",
              "    .dataframe tbody tr th {\n",
              "        vertical-align: top;\n",
              "    }\n",
              "\n",
              "    .dataframe thead th {\n",
              "        text-align: right;\n",
              "    }\n",
              "</style>\n",
              "<table border=\"1\" class=\"dataframe\">\n",
              "  <thead>\n",
              "    <tr style=\"text-align: right;\">\n",
              "      <th></th>\n",
              "      <th>step</th>\n",
              "      <th>type</th>\n",
              "      <th>amount</th>\n",
              "      <th>nameOrig</th>\n",
              "      <th>oldbalanceOrg</th>\n",
              "      <th>newbalanceOrig</th>\n",
              "      <th>nameDest</th>\n",
              "      <th>oldbalanceDest</th>\n",
              "      <th>newbalanceDest</th>\n",
              "      <th>isFraud</th>\n",
              "      <th>isFlaggedFraud</th>\n",
              "    </tr>\n",
              "  </thead>\n",
              "  <tbody>\n",
              "    <tr>\n",
              "      <th>2</th>\n",
              "      <td>1</td>\n",
              "      <td>TRANSFER</td>\n",
              "      <td>181.00</td>\n",
              "      <td>C1305486145</td>\n",
              "      <td>181.00</td>\n",
              "      <td>0.0</td>\n",
              "      <td>C553264065</td>\n",
              "      <td>0.00</td>\n",
              "      <td>0.00</td>\n",
              "      <td>1.0</td>\n",
              "      <td>0.0</td>\n",
              "    </tr>\n",
              "    <tr>\n",
              "      <th>3</th>\n",
              "      <td>1</td>\n",
              "      <td>CASH_OUT</td>\n",
              "      <td>181.00</td>\n",
              "      <td>C840083671</td>\n",
              "      <td>181.00</td>\n",
              "      <td>0.0</td>\n",
              "      <td>C38997010</td>\n",
              "      <td>21182.00</td>\n",
              "      <td>0.00</td>\n",
              "      <td>1.0</td>\n",
              "      <td>0.0</td>\n",
              "    </tr>\n",
              "    <tr>\n",
              "      <th>251</th>\n",
              "      <td>1</td>\n",
              "      <td>TRANSFER</td>\n",
              "      <td>2806.00</td>\n",
              "      <td>C1420196421</td>\n",
              "      <td>2806.00</td>\n",
              "      <td>0.0</td>\n",
              "      <td>C972765878</td>\n",
              "      <td>0.00</td>\n",
              "      <td>0.00</td>\n",
              "      <td>1.0</td>\n",
              "      <td>0.0</td>\n",
              "    </tr>\n",
              "    <tr>\n",
              "      <th>252</th>\n",
              "      <td>1</td>\n",
              "      <td>CASH_OUT</td>\n",
              "      <td>2806.00</td>\n",
              "      <td>C2101527076</td>\n",
              "      <td>2806.00</td>\n",
              "      <td>0.0</td>\n",
              "      <td>C1007251739</td>\n",
              "      <td>26202.00</td>\n",
              "      <td>0.00</td>\n",
              "      <td>1.0</td>\n",
              "      <td>0.0</td>\n",
              "    </tr>\n",
              "    <tr>\n",
              "      <th>680</th>\n",
              "      <td>1</td>\n",
              "      <td>TRANSFER</td>\n",
              "      <td>20128.00</td>\n",
              "      <td>C137533655</td>\n",
              "      <td>20128.00</td>\n",
              "      <td>0.0</td>\n",
              "      <td>C1848415041</td>\n",
              "      <td>0.00</td>\n",
              "      <td>0.00</td>\n",
              "      <td>1.0</td>\n",
              "      <td>0.0</td>\n",
              "    </tr>\n",
              "    <tr>\n",
              "      <th>...</th>\n",
              "      <td>...</td>\n",
              "      <td>...</td>\n",
              "      <td>...</td>\n",
              "      <td>...</td>\n",
              "      <td>...</td>\n",
              "      <td>...</td>\n",
              "      <td>...</td>\n",
              "      <td>...</td>\n",
              "      <td>...</td>\n",
              "      <td>...</td>\n",
              "      <td>...</td>\n",
              "    </tr>\n",
              "    <tr>\n",
              "      <th>1262331</th>\n",
              "      <td>134</td>\n",
              "      <td>CASH_OUT</td>\n",
              "      <td>1525742.02</td>\n",
              "      <td>C566299980</td>\n",
              "      <td>1525742.02</td>\n",
              "      <td>0.0</td>\n",
              "      <td>C2132741249</td>\n",
              "      <td>0.00</td>\n",
              "      <td>1525742.02</td>\n",
              "      <td>1.0</td>\n",
              "      <td>0.0</td>\n",
              "    </tr>\n",
              "    <tr>\n",
              "      <th>1268132</th>\n",
              "      <td>135</td>\n",
              "      <td>TRANSFER</td>\n",
              "      <td>60646.82</td>\n",
              "      <td>C16325193</td>\n",
              "      <td>60646.82</td>\n",
              "      <td>0.0</td>\n",
              "      <td>C1142308678</td>\n",
              "      <td>0.00</td>\n",
              "      <td>0.00</td>\n",
              "      <td>1.0</td>\n",
              "      <td>0.0</td>\n",
              "    </tr>\n",
              "    <tr>\n",
              "      <th>1268133</th>\n",
              "      <td>135</td>\n",
              "      <td>CASH_OUT</td>\n",
              "      <td>60646.82</td>\n",
              "      <td>C1591547495</td>\n",
              "      <td>60646.82</td>\n",
              "      <td>0.0</td>\n",
              "      <td>C1132157369</td>\n",
              "      <td>43264.78</td>\n",
              "      <td>103911.60</td>\n",
              "      <td>1.0</td>\n",
              "      <td>0.0</td>\n",
              "    </tr>\n",
              "    <tr>\n",
              "      <th>1279179</th>\n",
              "      <td>135</td>\n",
              "      <td>TRANSFER</td>\n",
              "      <td>515645.16</td>\n",
              "      <td>C885687058</td>\n",
              "      <td>515645.16</td>\n",
              "      <td>0.0</td>\n",
              "      <td>C1873143762</td>\n",
              "      <td>0.00</td>\n",
              "      <td>0.00</td>\n",
              "      <td>1.0</td>\n",
              "      <td>0.0</td>\n",
              "    </tr>\n",
              "    <tr>\n",
              "      <th>1279180</th>\n",
              "      <td>135</td>\n",
              "      <td>CASH_OUT</td>\n",
              "      <td>515645.16</td>\n",
              "      <td>C1386605683</td>\n",
              "      <td>515645.16</td>\n",
              "      <td>0.0</td>\n",
              "      <td>C509021077</td>\n",
              "      <td>283377.85</td>\n",
              "      <td>799023.01</td>\n",
              "      <td>1.0</td>\n",
              "      <td>0.0</td>\n",
              "    </tr>\n",
              "  </tbody>\n",
              "</table>\n",
              "<p>1542 rows × 11 columns</p>\n",
              "</div>"
            ],
            "text/plain": [
              "         step      type      amount     nameOrig  oldbalanceOrg  \\\n",
              "2           1  TRANSFER      181.00  C1305486145         181.00   \n",
              "3           1  CASH_OUT      181.00   C840083671         181.00   \n",
              "251         1  TRANSFER     2806.00  C1420196421        2806.00   \n",
              "252         1  CASH_OUT     2806.00  C2101527076        2806.00   \n",
              "680         1  TRANSFER    20128.00   C137533655       20128.00   \n",
              "...       ...       ...         ...          ...            ...   \n",
              "1262331   134  CASH_OUT  1525742.02   C566299980     1525742.02   \n",
              "1268132   135  TRANSFER    60646.82    C16325193       60646.82   \n",
              "1268133   135  CASH_OUT    60646.82  C1591547495       60646.82   \n",
              "1279179   135  TRANSFER   515645.16   C885687058      515645.16   \n",
              "1279180   135  CASH_OUT   515645.16  C1386605683      515645.16   \n",
              "\n",
              "         newbalanceOrig     nameDest  oldbalanceDest  newbalanceDest  isFraud  \\\n",
              "2                   0.0   C553264065            0.00            0.00      1.0   \n",
              "3                   0.0    C38997010        21182.00            0.00      1.0   \n",
              "251                 0.0   C972765878            0.00            0.00      1.0   \n",
              "252                 0.0  C1007251739        26202.00            0.00      1.0   \n",
              "680                 0.0  C1848415041            0.00            0.00      1.0   \n",
              "...                 ...          ...             ...             ...      ...   \n",
              "1262331             0.0  C2132741249            0.00      1525742.02      1.0   \n",
              "1268132             0.0  C1142308678            0.00            0.00      1.0   \n",
              "1268133             0.0  C1132157369        43264.78       103911.60      1.0   \n",
              "1279179             0.0  C1873143762            0.00            0.00      1.0   \n",
              "1279180             0.0   C509021077       283377.85       799023.01      1.0   \n",
              "\n",
              "         isFlaggedFraud  \n",
              "2                   0.0  \n",
              "3                   0.0  \n",
              "251                 0.0  \n",
              "252                 0.0  \n",
              "680                 0.0  \n",
              "...                 ...  \n",
              "1262331             0.0  \n",
              "1268132             0.0  \n",
              "1268133             0.0  \n",
              "1279179             0.0  \n",
              "1279180             0.0  \n",
              "\n",
              "[1542 rows x 11 columns]"
            ]
          },
          "execution_count": 13,
          "metadata": {},
          "output_type": "execute_result"
        }
      ],
      "source": [
        "fraud = df[df['isFraud']==1]\n",
        "fraud"
      ]
    },
    {
      "cell_type": "code",
      "execution_count": 14,
      "id": "086b908e",
      "metadata": {
        "colab": {
          "base_uri": "https://localhost:8080/",
          "height": 443
        },
        "id": "086b908e",
        "outputId": "bfa2ca5c-a551-49f6-f772-a97baeece0fe"
      },
      "outputs": [
        {
          "data": {
            "text/html": [
              "<div>\n",
              "<style scoped>\n",
              "    .dataframe tbody tr th:only-of-type {\n",
              "        vertical-align: middle;\n",
              "    }\n",
              "\n",
              "    .dataframe tbody tr th {\n",
              "        vertical-align: top;\n",
              "    }\n",
              "\n",
              "    .dataframe thead th {\n",
              "        text-align: right;\n",
              "    }\n",
              "</style>\n",
              "<table border=\"1\" class=\"dataframe\">\n",
              "  <thead>\n",
              "    <tr style=\"text-align: right;\">\n",
              "      <th></th>\n",
              "      <th>step</th>\n",
              "      <th>type</th>\n",
              "      <th>amount</th>\n",
              "      <th>nameOrig</th>\n",
              "      <th>oldbalanceOrg</th>\n",
              "      <th>newbalanceOrig</th>\n",
              "      <th>nameDest</th>\n",
              "      <th>oldbalanceDest</th>\n",
              "      <th>newbalanceDest</th>\n",
              "      <th>isFraud</th>\n",
              "      <th>isFlaggedFraud</th>\n",
              "    </tr>\n",
              "  </thead>\n",
              "  <tbody>\n",
              "    <tr>\n",
              "      <th>19</th>\n",
              "      <td>1</td>\n",
              "      <td>TRANSFER</td>\n",
              "      <td>215310.30</td>\n",
              "      <td>C1670993182</td>\n",
              "      <td>705.00</td>\n",
              "      <td>0.00</td>\n",
              "      <td>C1100439041</td>\n",
              "      <td>22425.00</td>\n",
              "      <td>0.00</td>\n",
              "      <td>0.0</td>\n",
              "      <td>0.0</td>\n",
              "    </tr>\n",
              "    <tr>\n",
              "      <th>24</th>\n",
              "      <td>1</td>\n",
              "      <td>TRANSFER</td>\n",
              "      <td>311685.89</td>\n",
              "      <td>C1984094095</td>\n",
              "      <td>10835.00</td>\n",
              "      <td>0.00</td>\n",
              "      <td>C932583850</td>\n",
              "      <td>6267.00</td>\n",
              "      <td>2719172.89</td>\n",
              "      <td>0.0</td>\n",
              "      <td>0.0</td>\n",
              "    </tr>\n",
              "    <tr>\n",
              "      <th>58</th>\n",
              "      <td>1</td>\n",
              "      <td>TRANSFER</td>\n",
              "      <td>62610.80</td>\n",
              "      <td>C1976401987</td>\n",
              "      <td>79114.00</td>\n",
              "      <td>16503.20</td>\n",
              "      <td>C1937962514</td>\n",
              "      <td>517.00</td>\n",
              "      <td>8383.29</td>\n",
              "      <td>0.0</td>\n",
              "      <td>0.0</td>\n",
              "    </tr>\n",
              "    <tr>\n",
              "      <th>78</th>\n",
              "      <td>1</td>\n",
              "      <td>TRANSFER</td>\n",
              "      <td>42712.39</td>\n",
              "      <td>C283039401</td>\n",
              "      <td>10363.39</td>\n",
              "      <td>0.00</td>\n",
              "      <td>C1330106945</td>\n",
              "      <td>57901.66</td>\n",
              "      <td>24044.18</td>\n",
              "      <td>0.0</td>\n",
              "      <td>0.0</td>\n",
              "    </tr>\n",
              "    <tr>\n",
              "      <th>79</th>\n",
              "      <td>1</td>\n",
              "      <td>TRANSFER</td>\n",
              "      <td>77957.68</td>\n",
              "      <td>C207471778</td>\n",
              "      <td>0.00</td>\n",
              "      <td>0.00</td>\n",
              "      <td>C1761291320</td>\n",
              "      <td>94900.00</td>\n",
              "      <td>22233.65</td>\n",
              "      <td>0.0</td>\n",
              "      <td>0.0</td>\n",
              "    </tr>\n",
              "    <tr>\n",
              "      <th>...</th>\n",
              "      <td>...</td>\n",
              "      <td>...</td>\n",
              "      <td>...</td>\n",
              "      <td>...</td>\n",
              "      <td>...</td>\n",
              "      <td>...</td>\n",
              "      <td>...</td>\n",
              "      <td>...</td>\n",
              "      <td>...</td>\n",
              "      <td>...</td>\n",
              "      <td>...</td>\n",
              "    </tr>\n",
              "    <tr>\n",
              "      <th>142949</th>\n",
              "      <td>11</td>\n",
              "      <td>TRANSFER</td>\n",
              "      <td>689978.77</td>\n",
              "      <td>C1207589610</td>\n",
              "      <td>166088.00</td>\n",
              "      <td>0.00</td>\n",
              "      <td>C1005856130</td>\n",
              "      <td>10870.00</td>\n",
              "      <td>700848.77</td>\n",
              "      <td>0.0</td>\n",
              "      <td>0.0</td>\n",
              "    </tr>\n",
              "    <tr>\n",
              "      <th>142964</th>\n",
              "      <td>11</td>\n",
              "      <td>TRANSFER</td>\n",
              "      <td>216388.35</td>\n",
              "      <td>C942594959</td>\n",
              "      <td>462358.00</td>\n",
              "      <td>245969.65</td>\n",
              "      <td>C778384023</td>\n",
              "      <td>0.00</td>\n",
              "      <td>216388.35</td>\n",
              "      <td>0.0</td>\n",
              "      <td>0.0</td>\n",
              "    </tr>\n",
              "    <tr>\n",
              "      <th>142966</th>\n",
              "      <td>11</td>\n",
              "      <td>TRANSFER</td>\n",
              "      <td>2130918.93</td>\n",
              "      <td>C188286369</td>\n",
              "      <td>745503.96</td>\n",
              "      <td>0.00</td>\n",
              "      <td>C2018751567</td>\n",
              "      <td>0.00</td>\n",
              "      <td>2130918.93</td>\n",
              "      <td>0.0</td>\n",
              "      <td>0.0</td>\n",
              "    </tr>\n",
              "    <tr>\n",
              "      <th>142997</th>\n",
              "      <td>11</td>\n",
              "      <td>TRANSFER</td>\n",
              "      <td>2023924.17</td>\n",
              "      <td>C1540907040</td>\n",
              "      <td>545456.09</td>\n",
              "      <td>0.00</td>\n",
              "      <td>C173961721</td>\n",
              "      <td>2178730.76</td>\n",
              "      <td>4202654.93</td>\n",
              "      <td>0.0</td>\n",
              "      <td>0.0</td>\n",
              "    </tr>\n",
              "    <tr>\n",
              "      <th>143009</th>\n",
              "      <td>11</td>\n",
              "      <td>TRANSFER</td>\n",
              "      <td>408034.79</td>\n",
              "      <td>C1738964594</td>\n",
              "      <td>12457.00</td>\n",
              "      <td>0.00</td>\n",
              "      <td>C1408588829</td>\n",
              "      <td>568134.84</td>\n",
              "      <td>976169.63</td>\n",
              "      <td>0.0</td>\n",
              "      <td>0.0</td>\n",
              "    </tr>\n",
              "  </tbody>\n",
              "</table>\n",
              "<p>12000 rows × 11 columns</p>\n",
              "</div>"
            ],
            "text/plain": [
              "        step      type      amount     nameOrig  oldbalanceOrg  \\\n",
              "19         1  TRANSFER   215310.30  C1670993182         705.00   \n",
              "24         1  TRANSFER   311685.89  C1984094095       10835.00   \n",
              "58         1  TRANSFER    62610.80  C1976401987       79114.00   \n",
              "78         1  TRANSFER    42712.39   C283039401       10363.39   \n",
              "79         1  TRANSFER    77957.68   C207471778           0.00   \n",
              "...      ...       ...         ...          ...            ...   \n",
              "142949    11  TRANSFER   689978.77  C1207589610      166088.00   \n",
              "142964    11  TRANSFER   216388.35   C942594959      462358.00   \n",
              "142966    11  TRANSFER  2130918.93   C188286369      745503.96   \n",
              "142997    11  TRANSFER  2023924.17  C1540907040      545456.09   \n",
              "143009    11  TRANSFER   408034.79  C1738964594       12457.00   \n",
              "\n",
              "        newbalanceOrig     nameDest  oldbalanceDest  newbalanceDest  isFraud  \\\n",
              "19                0.00  C1100439041        22425.00            0.00      0.0   \n",
              "24                0.00   C932583850         6267.00      2719172.89      0.0   \n",
              "58            16503.20  C1937962514          517.00         8383.29      0.0   \n",
              "78                0.00  C1330106945        57901.66        24044.18      0.0   \n",
              "79                0.00  C1761291320        94900.00        22233.65      0.0   \n",
              "...                ...          ...             ...             ...      ...   \n",
              "142949            0.00  C1005856130        10870.00       700848.77      0.0   \n",
              "142964       245969.65   C778384023            0.00       216388.35      0.0   \n",
              "142966            0.00  C2018751567            0.00      2130918.93      0.0   \n",
              "142997            0.00   C173961721      2178730.76      4202654.93      0.0   \n",
              "143009            0.00  C1408588829       568134.84       976169.63      0.0   \n",
              "\n",
              "        isFlaggedFraud  \n",
              "19                 0.0  \n",
              "24                 0.0  \n",
              "58                 0.0  \n",
              "78                 0.0  \n",
              "79                 0.0  \n",
              "...                ...  \n",
              "142949             0.0  \n",
              "142964             0.0  \n",
              "142966             0.0  \n",
              "142997             0.0  \n",
              "143009             0.0  \n",
              "\n",
              "[12000 rows x 11 columns]"
            ]
          },
          "execution_count": 14,
          "metadata": {},
          "output_type": "execute_result"
        }
      ],
      "source": [
        "transfer = df[(df['type']=='TRANSFER') & (df['isFraud']==0)]\n",
        "transfer1=transfer.head(12000)\n",
        "transfer1"
      ]
    },
    {
      "cell_type": "code",
      "execution_count": 15,
      "id": "8c065af0",
      "metadata": {
        "colab": {
          "base_uri": "https://localhost:8080/",
          "height": 443
        },
        "id": "8c065af0",
        "outputId": "18d3aac9-e7cc-4cbd-ee8d-18227de2e866"
      },
      "outputs": [
        {
          "data": {
            "text/html": [
              "<div>\n",
              "<style scoped>\n",
              "    .dataframe tbody tr th:only-of-type {\n",
              "        vertical-align: middle;\n",
              "    }\n",
              "\n",
              "    .dataframe tbody tr th {\n",
              "        vertical-align: top;\n",
              "    }\n",
              "\n",
              "    .dataframe thead th {\n",
              "        text-align: right;\n",
              "    }\n",
              "</style>\n",
              "<table border=\"1\" class=\"dataframe\">\n",
              "  <thead>\n",
              "    <tr style=\"text-align: right;\">\n",
              "      <th></th>\n",
              "      <th>step</th>\n",
              "      <th>type</th>\n",
              "      <th>amount</th>\n",
              "      <th>nameOrig</th>\n",
              "      <th>oldbalanceOrg</th>\n",
              "      <th>newbalanceOrig</th>\n",
              "      <th>nameDest</th>\n",
              "      <th>oldbalanceDest</th>\n",
              "      <th>newbalanceDest</th>\n",
              "      <th>isFraud</th>\n",
              "      <th>isFlaggedFraud</th>\n",
              "    </tr>\n",
              "  </thead>\n",
              "  <tbody>\n",
              "    <tr>\n",
              "      <th>0</th>\n",
              "      <td>1</td>\n",
              "      <td>PAYMENT</td>\n",
              "      <td>9839.64</td>\n",
              "      <td>C1231006815</td>\n",
              "      <td>170136.00</td>\n",
              "      <td>160296.36</td>\n",
              "      <td>M1979787155</td>\n",
              "      <td>0.0</td>\n",
              "      <td>0.0</td>\n",
              "      <td>0.0</td>\n",
              "      <td>0.0</td>\n",
              "    </tr>\n",
              "    <tr>\n",
              "      <th>1</th>\n",
              "      <td>1</td>\n",
              "      <td>PAYMENT</td>\n",
              "      <td>1864.28</td>\n",
              "      <td>C1666544295</td>\n",
              "      <td>21249.00</td>\n",
              "      <td>19384.72</td>\n",
              "      <td>M2044282225</td>\n",
              "      <td>0.0</td>\n",
              "      <td>0.0</td>\n",
              "      <td>0.0</td>\n",
              "      <td>0.0</td>\n",
              "    </tr>\n",
              "    <tr>\n",
              "      <th>4</th>\n",
              "      <td>1</td>\n",
              "      <td>PAYMENT</td>\n",
              "      <td>11668.14</td>\n",
              "      <td>C2048537720</td>\n",
              "      <td>41554.00</td>\n",
              "      <td>29885.86</td>\n",
              "      <td>M1230701703</td>\n",
              "      <td>0.0</td>\n",
              "      <td>0.0</td>\n",
              "      <td>0.0</td>\n",
              "      <td>0.0</td>\n",
              "    </tr>\n",
              "    <tr>\n",
              "      <th>5</th>\n",
              "      <td>1</td>\n",
              "      <td>PAYMENT</td>\n",
              "      <td>7817.71</td>\n",
              "      <td>C90045638</td>\n",
              "      <td>53860.00</td>\n",
              "      <td>46042.29</td>\n",
              "      <td>M573487274</td>\n",
              "      <td>0.0</td>\n",
              "      <td>0.0</td>\n",
              "      <td>0.0</td>\n",
              "      <td>0.0</td>\n",
              "    </tr>\n",
              "    <tr>\n",
              "      <th>6</th>\n",
              "      <td>1</td>\n",
              "      <td>PAYMENT</td>\n",
              "      <td>7107.77</td>\n",
              "      <td>C154988899</td>\n",
              "      <td>183195.00</td>\n",
              "      <td>176087.23</td>\n",
              "      <td>M408069119</td>\n",
              "      <td>0.0</td>\n",
              "      <td>0.0</td>\n",
              "      <td>0.0</td>\n",
              "      <td>0.0</td>\n",
              "    </tr>\n",
              "    <tr>\n",
              "      <th>...</th>\n",
              "      <td>...</td>\n",
              "      <td>...</td>\n",
              "      <td>...</td>\n",
              "      <td>...</td>\n",
              "      <td>...</td>\n",
              "      <td>...</td>\n",
              "      <td>...</td>\n",
              "      <td>...</td>\n",
              "      <td>...</td>\n",
              "      <td>...</td>\n",
              "      <td>...</td>\n",
              "    </tr>\n",
              "    <tr>\n",
              "      <th>24108</th>\n",
              "      <td>8</td>\n",
              "      <td>PAYMENT</td>\n",
              "      <td>13802.70</td>\n",
              "      <td>C1653572480</td>\n",
              "      <td>56710.00</td>\n",
              "      <td>42907.30</td>\n",
              "      <td>M2087721404</td>\n",
              "      <td>0.0</td>\n",
              "      <td>0.0</td>\n",
              "      <td>0.0</td>\n",
              "      <td>0.0</td>\n",
              "    </tr>\n",
              "    <tr>\n",
              "      <th>24110</th>\n",
              "      <td>8</td>\n",
              "      <td>PAYMENT</td>\n",
              "      <td>1942.96</td>\n",
              "      <td>C1427144523</td>\n",
              "      <td>274.00</td>\n",
              "      <td>0.00</td>\n",
              "      <td>M1260221930</td>\n",
              "      <td>0.0</td>\n",
              "      <td>0.0</td>\n",
              "      <td>0.0</td>\n",
              "      <td>0.0</td>\n",
              "    </tr>\n",
              "    <tr>\n",
              "      <th>24112</th>\n",
              "      <td>8</td>\n",
              "      <td>PAYMENT</td>\n",
              "      <td>6402.51</td>\n",
              "      <td>C1299972350</td>\n",
              "      <td>99926.00</td>\n",
              "      <td>93523.49</td>\n",
              "      <td>M465622077</td>\n",
              "      <td>0.0</td>\n",
              "      <td>0.0</td>\n",
              "      <td>0.0</td>\n",
              "      <td>0.0</td>\n",
              "    </tr>\n",
              "    <tr>\n",
              "      <th>24113</th>\n",
              "      <td>8</td>\n",
              "      <td>PAYMENT</td>\n",
              "      <td>11738.52</td>\n",
              "      <td>C1003638922</td>\n",
              "      <td>17829.85</td>\n",
              "      <td>6091.33</td>\n",
              "      <td>M1830688100</td>\n",
              "      <td>0.0</td>\n",
              "      <td>0.0</td>\n",
              "      <td>0.0</td>\n",
              "      <td>0.0</td>\n",
              "    </tr>\n",
              "    <tr>\n",
              "      <th>24114</th>\n",
              "      <td>8</td>\n",
              "      <td>PAYMENT</td>\n",
              "      <td>12550.45</td>\n",
              "      <td>C1078494153</td>\n",
              "      <td>6091.33</td>\n",
              "      <td>0.00</td>\n",
              "      <td>M1572128449</td>\n",
              "      <td>0.0</td>\n",
              "      <td>0.0</td>\n",
              "      <td>0.0</td>\n",
              "      <td>0.0</td>\n",
              "    </tr>\n",
              "  </tbody>\n",
              "</table>\n",
              "<p>12000 rows × 11 columns</p>\n",
              "</div>"
            ],
            "text/plain": [
              "       step     type    amount     nameOrig  oldbalanceOrg  newbalanceOrig  \\\n",
              "0         1  PAYMENT   9839.64  C1231006815      170136.00       160296.36   \n",
              "1         1  PAYMENT   1864.28  C1666544295       21249.00        19384.72   \n",
              "4         1  PAYMENT  11668.14  C2048537720       41554.00        29885.86   \n",
              "5         1  PAYMENT   7817.71    C90045638       53860.00        46042.29   \n",
              "6         1  PAYMENT   7107.77   C154988899      183195.00       176087.23   \n",
              "...     ...      ...       ...          ...            ...             ...   \n",
              "24108     8  PAYMENT  13802.70  C1653572480       56710.00        42907.30   \n",
              "24110     8  PAYMENT   1942.96  C1427144523         274.00            0.00   \n",
              "24112     8  PAYMENT   6402.51  C1299972350       99926.00        93523.49   \n",
              "24113     8  PAYMENT  11738.52  C1003638922       17829.85         6091.33   \n",
              "24114     8  PAYMENT  12550.45  C1078494153        6091.33            0.00   \n",
              "\n",
              "          nameDest  oldbalanceDest  newbalanceDest  isFraud  isFlaggedFraud  \n",
              "0      M1979787155             0.0             0.0      0.0             0.0  \n",
              "1      M2044282225             0.0             0.0      0.0             0.0  \n",
              "4      M1230701703             0.0             0.0      0.0             0.0  \n",
              "5       M573487274             0.0             0.0      0.0             0.0  \n",
              "6       M408069119             0.0             0.0      0.0             0.0  \n",
              "...            ...             ...             ...      ...             ...  \n",
              "24108  M2087721404             0.0             0.0      0.0             0.0  \n",
              "24110  M1260221930             0.0             0.0      0.0             0.0  \n",
              "24112   M465622077             0.0             0.0      0.0             0.0  \n",
              "24113  M1830688100             0.0             0.0      0.0             0.0  \n",
              "24114  M1572128449             0.0             0.0      0.0             0.0  \n",
              "\n",
              "[12000 rows x 11 columns]"
            ]
          },
          "execution_count": 15,
          "metadata": {},
          "output_type": "execute_result"
        }
      ],
      "source": [
        "payment = df[(df['type']=='PAYMENT') & (df['isFraud']==0)]\n",
        "payment1=payment.head(12000)\n",
        "payment1"
      ]
    },
    {
      "cell_type": "code",
      "execution_count": 16,
      "id": "1e93def4",
      "metadata": {
        "colab": {
          "base_uri": "https://localhost:8080/",
          "height": 443
        },
        "id": "1e93def4",
        "outputId": "89cd6412-aa97-46e5-a9f9-e6990e921ee0"
      },
      "outputs": [
        {
          "data": {
            "text/html": [
              "<div>\n",
              "<style scoped>\n",
              "    .dataframe tbody tr th:only-of-type {\n",
              "        vertical-align: middle;\n",
              "    }\n",
              "\n",
              "    .dataframe tbody tr th {\n",
              "        vertical-align: top;\n",
              "    }\n",
              "\n",
              "    .dataframe thead th {\n",
              "        text-align: right;\n",
              "    }\n",
              "</style>\n",
              "<table border=\"1\" class=\"dataframe\">\n",
              "  <thead>\n",
              "    <tr style=\"text-align: right;\">\n",
              "      <th></th>\n",
              "      <th>step</th>\n",
              "      <th>type</th>\n",
              "      <th>amount</th>\n",
              "      <th>nameOrig</th>\n",
              "      <th>oldbalanceOrg</th>\n",
              "      <th>newbalanceOrig</th>\n",
              "      <th>nameDest</th>\n",
              "      <th>oldbalanceDest</th>\n",
              "      <th>newbalanceDest</th>\n",
              "      <th>isFraud</th>\n",
              "      <th>isFlaggedFraud</th>\n",
              "    </tr>\n",
              "  </thead>\n",
              "  <tbody>\n",
              "    <tr>\n",
              "      <th>15</th>\n",
              "      <td>1</td>\n",
              "      <td>CASH_OUT</td>\n",
              "      <td>229133.94</td>\n",
              "      <td>C905080434</td>\n",
              "      <td>15325.00</td>\n",
              "      <td>0.0</td>\n",
              "      <td>C476402209</td>\n",
              "      <td>5083.00</td>\n",
              "      <td>51513.44</td>\n",
              "      <td>0.0</td>\n",
              "      <td>0.0</td>\n",
              "    </tr>\n",
              "    <tr>\n",
              "      <th>42</th>\n",
              "      <td>1</td>\n",
              "      <td>CASH_OUT</td>\n",
              "      <td>110414.71</td>\n",
              "      <td>C768216420</td>\n",
              "      <td>26845.41</td>\n",
              "      <td>0.0</td>\n",
              "      <td>C1509514333</td>\n",
              "      <td>288800.00</td>\n",
              "      <td>2415.16</td>\n",
              "      <td>0.0</td>\n",
              "      <td>0.0</td>\n",
              "    </tr>\n",
              "    <tr>\n",
              "      <th>47</th>\n",
              "      <td>1</td>\n",
              "      <td>CASH_OUT</td>\n",
              "      <td>56953.90</td>\n",
              "      <td>C1570470538</td>\n",
              "      <td>1942.02</td>\n",
              "      <td>0.0</td>\n",
              "      <td>C824009085</td>\n",
              "      <td>70253.00</td>\n",
              "      <td>64106.18</td>\n",
              "      <td>0.0</td>\n",
              "      <td>0.0</td>\n",
              "    </tr>\n",
              "    <tr>\n",
              "      <th>48</th>\n",
              "      <td>1</td>\n",
              "      <td>CASH_OUT</td>\n",
              "      <td>5346.89</td>\n",
              "      <td>C512549200</td>\n",
              "      <td>0.00</td>\n",
              "      <td>0.0</td>\n",
              "      <td>C248609774</td>\n",
              "      <td>652637.00</td>\n",
              "      <td>6453430.91</td>\n",
              "      <td>0.0</td>\n",
              "      <td>0.0</td>\n",
              "    </tr>\n",
              "    <tr>\n",
              "      <th>51</th>\n",
              "      <td>1</td>\n",
              "      <td>CASH_OUT</td>\n",
              "      <td>23261.30</td>\n",
              "      <td>C2072313080</td>\n",
              "      <td>20411.53</td>\n",
              "      <td>0.0</td>\n",
              "      <td>C2001112025</td>\n",
              "      <td>25742.00</td>\n",
              "      <td>0.00</td>\n",
              "      <td>0.0</td>\n",
              "      <td>0.0</td>\n",
              "    </tr>\n",
              "    <tr>\n",
              "      <th>...</th>\n",
              "      <td>...</td>\n",
              "      <td>...</td>\n",
              "      <td>...</td>\n",
              "      <td>...</td>\n",
              "      <td>...</td>\n",
              "      <td>...</td>\n",
              "      <td>...</td>\n",
              "      <td>...</td>\n",
              "      <td>...</td>\n",
              "      <td>...</td>\n",
              "      <td>...</td>\n",
              "    </tr>\n",
              "    <tr>\n",
              "      <th>45560</th>\n",
              "      <td>9</td>\n",
              "      <td>CASH_OUT</td>\n",
              "      <td>398135.92</td>\n",
              "      <td>C1956662442</td>\n",
              "      <td>0.00</td>\n",
              "      <td>0.0</td>\n",
              "      <td>C1423983240</td>\n",
              "      <td>549002.09</td>\n",
              "      <td>947138.01</td>\n",
              "      <td>0.0</td>\n",
              "      <td>0.0</td>\n",
              "    </tr>\n",
              "    <tr>\n",
              "      <th>45561</th>\n",
              "      <td>9</td>\n",
              "      <td>CASH_OUT</td>\n",
              "      <td>173296.72</td>\n",
              "      <td>C1399983549</td>\n",
              "      <td>11961.00</td>\n",
              "      <td>0.0</td>\n",
              "      <td>C685786661</td>\n",
              "      <td>150393.07</td>\n",
              "      <td>323689.79</td>\n",
              "      <td>0.0</td>\n",
              "      <td>0.0</td>\n",
              "    </tr>\n",
              "    <tr>\n",
              "      <th>45562</th>\n",
              "      <td>9</td>\n",
              "      <td>CASH_OUT</td>\n",
              "      <td>134749.83</td>\n",
              "      <td>C735655415</td>\n",
              "      <td>0.00</td>\n",
              "      <td>0.0</td>\n",
              "      <td>C1102319340</td>\n",
              "      <td>10388343.43</td>\n",
              "      <td>10523093.26</td>\n",
              "      <td>0.0</td>\n",
              "      <td>0.0</td>\n",
              "    </tr>\n",
              "    <tr>\n",
              "      <th>45564</th>\n",
              "      <td>9</td>\n",
              "      <td>CASH_OUT</td>\n",
              "      <td>260556.81</td>\n",
              "      <td>C1533020913</td>\n",
              "      <td>4846.00</td>\n",
              "      <td>0.0</td>\n",
              "      <td>C397672119</td>\n",
              "      <td>0.00</td>\n",
              "      <td>260556.81</td>\n",
              "      <td>0.0</td>\n",
              "      <td>0.0</td>\n",
              "    </tr>\n",
              "    <tr>\n",
              "      <th>45566</th>\n",
              "      <td>9</td>\n",
              "      <td>CASH_OUT</td>\n",
              "      <td>316468.08</td>\n",
              "      <td>C1368163464</td>\n",
              "      <td>51686.00</td>\n",
              "      <td>0.0</td>\n",
              "      <td>C168639687</td>\n",
              "      <td>0.00</td>\n",
              "      <td>316468.08</td>\n",
              "      <td>0.0</td>\n",
              "      <td>0.0</td>\n",
              "    </tr>\n",
              "  </tbody>\n",
              "</table>\n",
              "<p>12000 rows × 11 columns</p>\n",
              "</div>"
            ],
            "text/plain": [
              "       step      type     amount     nameOrig  oldbalanceOrg  newbalanceOrig  \\\n",
              "15        1  CASH_OUT  229133.94   C905080434       15325.00             0.0   \n",
              "42        1  CASH_OUT  110414.71   C768216420       26845.41             0.0   \n",
              "47        1  CASH_OUT   56953.90  C1570470538        1942.02             0.0   \n",
              "48        1  CASH_OUT    5346.89   C512549200           0.00             0.0   \n",
              "51        1  CASH_OUT   23261.30  C2072313080       20411.53             0.0   \n",
              "...     ...       ...        ...          ...            ...             ...   \n",
              "45560     9  CASH_OUT  398135.92  C1956662442           0.00             0.0   \n",
              "45561     9  CASH_OUT  173296.72  C1399983549       11961.00             0.0   \n",
              "45562     9  CASH_OUT  134749.83   C735655415           0.00             0.0   \n",
              "45564     9  CASH_OUT  260556.81  C1533020913        4846.00             0.0   \n",
              "45566     9  CASH_OUT  316468.08  C1368163464       51686.00             0.0   \n",
              "\n",
              "          nameDest  oldbalanceDest  newbalanceDest  isFraud  isFlaggedFraud  \n",
              "15      C476402209         5083.00        51513.44      0.0             0.0  \n",
              "42     C1509514333       288800.00         2415.16      0.0             0.0  \n",
              "47      C824009085        70253.00        64106.18      0.0             0.0  \n",
              "48      C248609774       652637.00      6453430.91      0.0             0.0  \n",
              "51     C2001112025        25742.00            0.00      0.0             0.0  \n",
              "...            ...             ...             ...      ...             ...  \n",
              "45560  C1423983240       549002.09       947138.01      0.0             0.0  \n",
              "45561   C685786661       150393.07       323689.79      0.0             0.0  \n",
              "45562  C1102319340     10388343.43     10523093.26      0.0             0.0  \n",
              "45564   C397672119            0.00       260556.81      0.0             0.0  \n",
              "45566   C168639687            0.00       316468.08      0.0             0.0  \n",
              "\n",
              "[12000 rows x 11 columns]"
            ]
          },
          "execution_count": 16,
          "metadata": {},
          "output_type": "execute_result"
        }
      ],
      "source": [
        "cash_out = df[(df['type']=='CASH_OUT') & (df['isFraud']==0)]\n",
        "cash_out1 = cash_out.head(12000)\n",
        "cash_out1"
      ]
    },
    {
      "cell_type": "code",
      "execution_count": 17,
      "id": "12ad4db1",
      "metadata": {
        "colab": {
          "base_uri": "https://localhost:8080/",
          "height": 443
        },
        "id": "12ad4db1",
        "outputId": "49609399-fbdc-491e-f750-c39f9182a332"
      },
      "outputs": [
        {
          "data": {
            "text/html": [
              "<div>\n",
              "<style scoped>\n",
              "    .dataframe tbody tr th:only-of-type {\n",
              "        vertical-align: middle;\n",
              "    }\n",
              "\n",
              "    .dataframe tbody tr th {\n",
              "        vertical-align: top;\n",
              "    }\n",
              "\n",
              "    .dataframe thead th {\n",
              "        text-align: right;\n",
              "    }\n",
              "</style>\n",
              "<table border=\"1\" class=\"dataframe\">\n",
              "  <thead>\n",
              "    <tr style=\"text-align: right;\">\n",
              "      <th></th>\n",
              "      <th>step</th>\n",
              "      <th>type</th>\n",
              "      <th>amount</th>\n",
              "      <th>nameOrig</th>\n",
              "      <th>oldbalanceOrg</th>\n",
              "      <th>newbalanceOrig</th>\n",
              "      <th>nameDest</th>\n",
              "      <th>oldbalanceDest</th>\n",
              "      <th>newbalanceDest</th>\n",
              "      <th>isFraud</th>\n",
              "      <th>isFlaggedFraud</th>\n",
              "    </tr>\n",
              "  </thead>\n",
              "  <tbody>\n",
              "    <tr>\n",
              "      <th>9</th>\n",
              "      <td>1</td>\n",
              "      <td>DEBIT</td>\n",
              "      <td>5337.77</td>\n",
              "      <td>C712410124</td>\n",
              "      <td>41720.0</td>\n",
              "      <td>36382.23</td>\n",
              "      <td>C195600860</td>\n",
              "      <td>41898.00</td>\n",
              "      <td>40348.79</td>\n",
              "      <td>0.0</td>\n",
              "      <td>0.0</td>\n",
              "    </tr>\n",
              "    <tr>\n",
              "      <th>10</th>\n",
              "      <td>1</td>\n",
              "      <td>DEBIT</td>\n",
              "      <td>9644.94</td>\n",
              "      <td>C1900366749</td>\n",
              "      <td>4465.0</td>\n",
              "      <td>0.00</td>\n",
              "      <td>C997608398</td>\n",
              "      <td>10845.00</td>\n",
              "      <td>157982.12</td>\n",
              "      <td>0.0</td>\n",
              "      <td>0.0</td>\n",
              "    </tr>\n",
              "    <tr>\n",
              "      <th>21</th>\n",
              "      <td>1</td>\n",
              "      <td>DEBIT</td>\n",
              "      <td>9302.79</td>\n",
              "      <td>C1566511282</td>\n",
              "      <td>11299.0</td>\n",
              "      <td>1996.21</td>\n",
              "      <td>C1973538135</td>\n",
              "      <td>29832.00</td>\n",
              "      <td>16896.70</td>\n",
              "      <td>0.0</td>\n",
              "      <td>0.0</td>\n",
              "    </tr>\n",
              "    <tr>\n",
              "      <th>22</th>\n",
              "      <td>1</td>\n",
              "      <td>DEBIT</td>\n",
              "      <td>1065.41</td>\n",
              "      <td>C1959239586</td>\n",
              "      <td>1817.0</td>\n",
              "      <td>751.59</td>\n",
              "      <td>C515132998</td>\n",
              "      <td>10330.00</td>\n",
              "      <td>0.00</td>\n",
              "      <td>0.0</td>\n",
              "      <td>0.0</td>\n",
              "    </tr>\n",
              "    <tr>\n",
              "      <th>41</th>\n",
              "      <td>1</td>\n",
              "      <td>DEBIT</td>\n",
              "      <td>5758.59</td>\n",
              "      <td>C1466917878</td>\n",
              "      <td>32604.0</td>\n",
              "      <td>26845.41</td>\n",
              "      <td>C1297685781</td>\n",
              "      <td>209699.00</td>\n",
              "      <td>16997.22</td>\n",
              "      <td>0.0</td>\n",
              "      <td>0.0</td>\n",
              "    </tr>\n",
              "    <tr>\n",
              "      <th>...</th>\n",
              "      <td>...</td>\n",
              "      <td>...</td>\n",
              "      <td>...</td>\n",
              "      <td>...</td>\n",
              "      <td>...</td>\n",
              "      <td>...</td>\n",
              "      <td>...</td>\n",
              "      <td>...</td>\n",
              "      <td>...</td>\n",
              "      <td>...</td>\n",
              "      <td>...</td>\n",
              "    </tr>\n",
              "    <tr>\n",
              "      <th>1280028</th>\n",
              "      <td>135</td>\n",
              "      <td>DEBIT</td>\n",
              "      <td>3883.13</td>\n",
              "      <td>C883508240</td>\n",
              "      <td>480.0</td>\n",
              "      <td>0.00</td>\n",
              "      <td>C804729149</td>\n",
              "      <td>315765.52</td>\n",
              "      <td>319648.65</td>\n",
              "      <td>0.0</td>\n",
              "      <td>0.0</td>\n",
              "    </tr>\n",
              "    <tr>\n",
              "      <th>1280086</th>\n",
              "      <td>135</td>\n",
              "      <td>DEBIT</td>\n",
              "      <td>5274.24</td>\n",
              "      <td>C1027455316</td>\n",
              "      <td>43181.0</td>\n",
              "      <td>37906.76</td>\n",
              "      <td>C866524632</td>\n",
              "      <td>142998.56</td>\n",
              "      <td>148272.80</td>\n",
              "      <td>0.0</td>\n",
              "      <td>0.0</td>\n",
              "    </tr>\n",
              "    <tr>\n",
              "      <th>1280138</th>\n",
              "      <td>135</td>\n",
              "      <td>DEBIT</td>\n",
              "      <td>2921.90</td>\n",
              "      <td>C1736749767</td>\n",
              "      <td>24702.0</td>\n",
              "      <td>21780.10</td>\n",
              "      <td>C1124603994</td>\n",
              "      <td>1207475.81</td>\n",
              "      <td>1210397.71</td>\n",
              "      <td>0.0</td>\n",
              "      <td>0.0</td>\n",
              "    </tr>\n",
              "    <tr>\n",
              "      <th>1280177</th>\n",
              "      <td>135</td>\n",
              "      <td>DEBIT</td>\n",
              "      <td>712.54</td>\n",
              "      <td>C26383539</td>\n",
              "      <td>32708.0</td>\n",
              "      <td>31995.46</td>\n",
              "      <td>C232670006</td>\n",
              "      <td>1880315.26</td>\n",
              "      <td>1881027.80</td>\n",
              "      <td>0.0</td>\n",
              "      <td>0.0</td>\n",
              "    </tr>\n",
              "    <tr>\n",
              "      <th>1280378</th>\n",
              "      <td>135</td>\n",
              "      <td>DEBIT</td>\n",
              "      <td>4478.21</td>\n",
              "      <td>C1724306246</td>\n",
              "      <td>8278.0</td>\n",
              "      <td>3799.79</td>\n",
              "      <td>C1578776001</td>\n",
              "      <td>79379.59</td>\n",
              "      <td>83857.80</td>\n",
              "      <td>0.0</td>\n",
              "      <td>0.0</td>\n",
              "    </tr>\n",
              "  </tbody>\n",
              "</table>\n",
              "<p>8648 rows × 11 columns</p>\n",
              "</div>"
            ],
            "text/plain": [
              "         step   type   amount     nameOrig  oldbalanceOrg  newbalanceOrig  \\\n",
              "9           1  DEBIT  5337.77   C712410124        41720.0        36382.23   \n",
              "10          1  DEBIT  9644.94  C1900366749         4465.0            0.00   \n",
              "21          1  DEBIT  9302.79  C1566511282        11299.0         1996.21   \n",
              "22          1  DEBIT  1065.41  C1959239586         1817.0          751.59   \n",
              "41          1  DEBIT  5758.59  C1466917878        32604.0        26845.41   \n",
              "...       ...    ...      ...          ...            ...             ...   \n",
              "1280028   135  DEBIT  3883.13   C883508240          480.0            0.00   \n",
              "1280086   135  DEBIT  5274.24  C1027455316        43181.0        37906.76   \n",
              "1280138   135  DEBIT  2921.90  C1736749767        24702.0        21780.10   \n",
              "1280177   135  DEBIT   712.54    C26383539        32708.0        31995.46   \n",
              "1280378   135  DEBIT  4478.21  C1724306246         8278.0         3799.79   \n",
              "\n",
              "            nameDest  oldbalanceDest  newbalanceDest  isFraud  isFlaggedFraud  \n",
              "9         C195600860        41898.00        40348.79      0.0             0.0  \n",
              "10        C997608398        10845.00       157982.12      0.0             0.0  \n",
              "21       C1973538135        29832.00        16896.70      0.0             0.0  \n",
              "22        C515132998        10330.00            0.00      0.0             0.0  \n",
              "41       C1297685781       209699.00        16997.22      0.0             0.0  \n",
              "...              ...             ...             ...      ...             ...  \n",
              "1280028   C804729149       315765.52       319648.65      0.0             0.0  \n",
              "1280086   C866524632       142998.56       148272.80      0.0             0.0  \n",
              "1280138  C1124603994      1207475.81      1210397.71      0.0             0.0  \n",
              "1280177   C232670006      1880315.26      1881027.80      0.0             0.0  \n",
              "1280378  C1578776001        79379.59        83857.80      0.0             0.0  \n",
              "\n",
              "[8648 rows x 11 columns]"
            ]
          },
          "execution_count": 17,
          "metadata": {},
          "output_type": "execute_result"
        }
      ],
      "source": [
        "debit = df[(df['type']=='DEBIT') & (df['isFraud']==0)]\n",
        "debit1 = debit.head(12000)\n",
        "debit1"
      ]
    },
    {
      "cell_type": "code",
      "execution_count": 18,
      "id": "70511ab7",
      "metadata": {
        "colab": {
          "base_uri": "https://localhost:8080/",
          "height": 443
        },
        "id": "70511ab7",
        "outputId": "3bf688e5-a04c-425f-f98f-e1d0359e815f"
      },
      "outputs": [
        {
          "data": {
            "text/html": [
              "<div>\n",
              "<style scoped>\n",
              "    .dataframe tbody tr th:only-of-type {\n",
              "        vertical-align: middle;\n",
              "    }\n",
              "\n",
              "    .dataframe tbody tr th {\n",
              "        vertical-align: top;\n",
              "    }\n",
              "\n",
              "    .dataframe thead th {\n",
              "        text-align: right;\n",
              "    }\n",
              "</style>\n",
              "<table border=\"1\" class=\"dataframe\">\n",
              "  <thead>\n",
              "    <tr style=\"text-align: right;\">\n",
              "      <th></th>\n",
              "      <th>step</th>\n",
              "      <th>type</th>\n",
              "      <th>amount</th>\n",
              "      <th>nameOrig</th>\n",
              "      <th>oldbalanceOrg</th>\n",
              "      <th>newbalanceOrig</th>\n",
              "      <th>nameDest</th>\n",
              "      <th>oldbalanceDest</th>\n",
              "      <th>newbalanceDest</th>\n",
              "      <th>isFraud</th>\n",
              "      <th>isFlaggedFraud</th>\n",
              "    </tr>\n",
              "  </thead>\n",
              "  <tbody>\n",
              "    <tr>\n",
              "      <th>389</th>\n",
              "      <td>1</td>\n",
              "      <td>CASH_IN</td>\n",
              "      <td>143236.26</td>\n",
              "      <td>C1862994526</td>\n",
              "      <td>0.00</td>\n",
              "      <td>143236.26</td>\n",
              "      <td>C1688019098</td>\n",
              "      <td>608932.17</td>\n",
              "      <td>97263.78</td>\n",
              "      <td>0.0</td>\n",
              "      <td>0.0</td>\n",
              "    </tr>\n",
              "    <tr>\n",
              "      <th>390</th>\n",
              "      <td>1</td>\n",
              "      <td>CASH_IN</td>\n",
              "      <td>228451.89</td>\n",
              "      <td>C1614133563</td>\n",
              "      <td>143236.26</td>\n",
              "      <td>371688.15</td>\n",
              "      <td>C2083562754</td>\n",
              "      <td>719678.38</td>\n",
              "      <td>1186556.81</td>\n",
              "      <td>0.0</td>\n",
              "      <td>0.0</td>\n",
              "    </tr>\n",
              "    <tr>\n",
              "      <th>391</th>\n",
              "      <td>1</td>\n",
              "      <td>CASH_IN</td>\n",
              "      <td>35902.49</td>\n",
              "      <td>C839771540</td>\n",
              "      <td>371688.15</td>\n",
              "      <td>407590.65</td>\n",
              "      <td>C2001112025</td>\n",
              "      <td>49003.30</td>\n",
              "      <td>0.00</td>\n",
              "      <td>0.0</td>\n",
              "      <td>0.0</td>\n",
              "    </tr>\n",
              "    <tr>\n",
              "      <th>392</th>\n",
              "      <td>1</td>\n",
              "      <td>CASH_IN</td>\n",
              "      <td>232953.64</td>\n",
              "      <td>C1037163664</td>\n",
              "      <td>407590.65</td>\n",
              "      <td>640544.28</td>\n",
              "      <td>C33524623</td>\n",
              "      <td>1172672.27</td>\n",
              "      <td>1517262.16</td>\n",
              "      <td>0.0</td>\n",
              "      <td>0.0</td>\n",
              "    </tr>\n",
              "    <tr>\n",
              "      <th>393</th>\n",
              "      <td>1</td>\n",
              "      <td>CASH_IN</td>\n",
              "      <td>65912.95</td>\n",
              "      <td>C180316302</td>\n",
              "      <td>640544.28</td>\n",
              "      <td>706457.23</td>\n",
              "      <td>C1330106945</td>\n",
              "      <td>104198.26</td>\n",
              "      <td>24044.18</td>\n",
              "      <td>0.0</td>\n",
              "      <td>0.0</td>\n",
              "    </tr>\n",
              "    <tr>\n",
              "      <th>...</th>\n",
              "      <td>...</td>\n",
              "      <td>...</td>\n",
              "      <td>...</td>\n",
              "      <td>...</td>\n",
              "      <td>...</td>\n",
              "      <td>...</td>\n",
              "      <td>...</td>\n",
              "      <td>...</td>\n",
              "      <td>...</td>\n",
              "      <td>...</td>\n",
              "      <td>...</td>\n",
              "    </tr>\n",
              "    <tr>\n",
              "      <th>63673</th>\n",
              "      <td>9</td>\n",
              "      <td>CASH_IN</td>\n",
              "      <td>60925.49</td>\n",
              "      <td>C569900309</td>\n",
              "      <td>8611069.67</td>\n",
              "      <td>8671995.16</td>\n",
              "      <td>C456930332</td>\n",
              "      <td>145527.37</td>\n",
              "      <td>18246.61</td>\n",
              "      <td>0.0</td>\n",
              "      <td>0.0</td>\n",
              "    </tr>\n",
              "    <tr>\n",
              "      <th>63674</th>\n",
              "      <td>9</td>\n",
              "      <td>CASH_IN</td>\n",
              "      <td>46388.49</td>\n",
              "      <td>C697840884</td>\n",
              "      <td>8671995.16</td>\n",
              "      <td>8718383.65</td>\n",
              "      <td>C352211689</td>\n",
              "      <td>81999.93</td>\n",
              "      <td>35611.44</td>\n",
              "      <td>0.0</td>\n",
              "      <td>0.0</td>\n",
              "    </tr>\n",
              "    <tr>\n",
              "      <th>63675</th>\n",
              "      <td>9</td>\n",
              "      <td>CASH_IN</td>\n",
              "      <td>122487.44</td>\n",
              "      <td>C258282341</td>\n",
              "      <td>8718383.65</td>\n",
              "      <td>8840871.10</td>\n",
              "      <td>C1910963690</td>\n",
              "      <td>204940.81</td>\n",
              "      <td>0.00</td>\n",
              "      <td>0.0</td>\n",
              "      <td>0.0</td>\n",
              "    </tr>\n",
              "    <tr>\n",
              "      <th>63676</th>\n",
              "      <td>9</td>\n",
              "      <td>CASH_IN</td>\n",
              "      <td>327979.11</td>\n",
              "      <td>C248222613</td>\n",
              "      <td>8840871.10</td>\n",
              "      <td>9168850.21</td>\n",
              "      <td>C459857341</td>\n",
              "      <td>329646.12</td>\n",
              "      <td>320251.43</td>\n",
              "      <td>0.0</td>\n",
              "      <td>0.0</td>\n",
              "    </tr>\n",
              "    <tr>\n",
              "      <th>63677</th>\n",
              "      <td>9</td>\n",
              "      <td>CASH_IN</td>\n",
              "      <td>666052.56</td>\n",
              "      <td>C273336332</td>\n",
              "      <td>9168850.21</td>\n",
              "      <td>9834902.77</td>\n",
              "      <td>C1703466391</td>\n",
              "      <td>773325.04</td>\n",
              "      <td>0.00</td>\n",
              "      <td>0.0</td>\n",
              "      <td>0.0</td>\n",
              "    </tr>\n",
              "  </tbody>\n",
              "</table>\n",
              "<p>12000 rows × 11 columns</p>\n",
              "</div>"
            ],
            "text/plain": [
              "       step     type     amount     nameOrig  oldbalanceOrg  newbalanceOrig  \\\n",
              "389       1  CASH_IN  143236.26  C1862994526           0.00       143236.26   \n",
              "390       1  CASH_IN  228451.89  C1614133563      143236.26       371688.15   \n",
              "391       1  CASH_IN   35902.49   C839771540      371688.15       407590.65   \n",
              "392       1  CASH_IN  232953.64  C1037163664      407590.65       640544.28   \n",
              "393       1  CASH_IN   65912.95   C180316302      640544.28       706457.23   \n",
              "...     ...      ...        ...          ...            ...             ...   \n",
              "63673     9  CASH_IN   60925.49   C569900309     8611069.67      8671995.16   \n",
              "63674     9  CASH_IN   46388.49   C697840884     8671995.16      8718383.65   \n",
              "63675     9  CASH_IN  122487.44   C258282341     8718383.65      8840871.10   \n",
              "63676     9  CASH_IN  327979.11   C248222613     8840871.10      9168850.21   \n",
              "63677     9  CASH_IN  666052.56   C273336332     9168850.21      9834902.77   \n",
              "\n",
              "          nameDest  oldbalanceDest  newbalanceDest  isFraud  isFlaggedFraud  \n",
              "389    C1688019098       608932.17        97263.78      0.0             0.0  \n",
              "390    C2083562754       719678.38      1186556.81      0.0             0.0  \n",
              "391    C2001112025        49003.30            0.00      0.0             0.0  \n",
              "392      C33524623      1172672.27      1517262.16      0.0             0.0  \n",
              "393    C1330106945       104198.26        24044.18      0.0             0.0  \n",
              "...            ...             ...             ...      ...             ...  \n",
              "63673   C456930332       145527.37        18246.61      0.0             0.0  \n",
              "63674   C352211689        81999.93        35611.44      0.0             0.0  \n",
              "63675  C1910963690       204940.81            0.00      0.0             0.0  \n",
              "63676   C459857341       329646.12       320251.43      0.0             0.0  \n",
              "63677  C1703466391       773325.04            0.00      0.0             0.0  \n",
              "\n",
              "[12000 rows x 11 columns]"
            ]
          },
          "execution_count": 18,
          "metadata": {},
          "output_type": "execute_result"
        }
      ],
      "source": [
        "cash_in = df[(df['type']=='CASH_IN') & (df['isFraud']==0)]\n",
        "cash_in1 = cash_in.head(12000)\n",
        "cash_in1"
      ]
    },
    {
      "cell_type": "code",
      "execution_count": 19,
      "id": "ed3120fe",
      "metadata": {
        "colab": {
          "base_uri": "https://localhost:8080/",
          "height": 443
        },
        "id": "ed3120fe",
        "outputId": "b4d19413-943e-4cd5-e62d-5a6eec12b67a"
      },
      "outputs": [
        {
          "data": {
            "text/html": [
              "<div>\n",
              "<style scoped>\n",
              "    .dataframe tbody tr th:only-of-type {\n",
              "        vertical-align: middle;\n",
              "    }\n",
              "\n",
              "    .dataframe tbody tr th {\n",
              "        vertical-align: top;\n",
              "    }\n",
              "\n",
              "    .dataframe thead th {\n",
              "        text-align: right;\n",
              "    }\n",
              "</style>\n",
              "<table border=\"1\" class=\"dataframe\">\n",
              "  <thead>\n",
              "    <tr style=\"text-align: right;\">\n",
              "      <th></th>\n",
              "      <th>step</th>\n",
              "      <th>type</th>\n",
              "      <th>amount</th>\n",
              "      <th>nameOrig</th>\n",
              "      <th>oldbalanceOrg</th>\n",
              "      <th>newbalanceOrig</th>\n",
              "      <th>nameDest</th>\n",
              "      <th>oldbalanceDest</th>\n",
              "      <th>newbalanceDest</th>\n",
              "      <th>isFraud</th>\n",
              "      <th>isFlaggedFraud</th>\n",
              "    </tr>\n",
              "  </thead>\n",
              "  <tbody>\n",
              "    <tr>\n",
              "      <th>19</th>\n",
              "      <td>1</td>\n",
              "      <td>TRANSFER</td>\n",
              "      <td>215310.30</td>\n",
              "      <td>C1670993182</td>\n",
              "      <td>705.00</td>\n",
              "      <td>0.0</td>\n",
              "      <td>C1100439041</td>\n",
              "      <td>22425.00</td>\n",
              "      <td>0.00</td>\n",
              "      <td>0.0</td>\n",
              "      <td>0.0</td>\n",
              "    </tr>\n",
              "    <tr>\n",
              "      <th>24</th>\n",
              "      <td>1</td>\n",
              "      <td>TRANSFER</td>\n",
              "      <td>311685.89</td>\n",
              "      <td>C1984094095</td>\n",
              "      <td>10835.00</td>\n",
              "      <td>0.0</td>\n",
              "      <td>C932583850</td>\n",
              "      <td>6267.00</td>\n",
              "      <td>2719172.89</td>\n",
              "      <td>0.0</td>\n",
              "      <td>0.0</td>\n",
              "    </tr>\n",
              "    <tr>\n",
              "      <th>58</th>\n",
              "      <td>1</td>\n",
              "      <td>TRANSFER</td>\n",
              "      <td>62610.80</td>\n",
              "      <td>C1976401987</td>\n",
              "      <td>79114.00</td>\n",
              "      <td>16503.2</td>\n",
              "      <td>C1937962514</td>\n",
              "      <td>517.00</td>\n",
              "      <td>8383.29</td>\n",
              "      <td>0.0</td>\n",
              "      <td>0.0</td>\n",
              "    </tr>\n",
              "    <tr>\n",
              "      <th>78</th>\n",
              "      <td>1</td>\n",
              "      <td>TRANSFER</td>\n",
              "      <td>42712.39</td>\n",
              "      <td>C283039401</td>\n",
              "      <td>10363.39</td>\n",
              "      <td>0.0</td>\n",
              "      <td>C1330106945</td>\n",
              "      <td>57901.66</td>\n",
              "      <td>24044.18</td>\n",
              "      <td>0.0</td>\n",
              "      <td>0.0</td>\n",
              "    </tr>\n",
              "    <tr>\n",
              "      <th>79</th>\n",
              "      <td>1</td>\n",
              "      <td>TRANSFER</td>\n",
              "      <td>77957.68</td>\n",
              "      <td>C207471778</td>\n",
              "      <td>0.00</td>\n",
              "      <td>0.0</td>\n",
              "      <td>C1761291320</td>\n",
              "      <td>94900.00</td>\n",
              "      <td>22233.65</td>\n",
              "      <td>0.0</td>\n",
              "      <td>0.0</td>\n",
              "    </tr>\n",
              "    <tr>\n",
              "      <th>...</th>\n",
              "      <td>...</td>\n",
              "      <td>...</td>\n",
              "      <td>...</td>\n",
              "      <td>...</td>\n",
              "      <td>...</td>\n",
              "      <td>...</td>\n",
              "      <td>...</td>\n",
              "      <td>...</td>\n",
              "      <td>...</td>\n",
              "      <td>...</td>\n",
              "      <td>...</td>\n",
              "    </tr>\n",
              "    <tr>\n",
              "      <th>1262331</th>\n",
              "      <td>134</td>\n",
              "      <td>CASH_OUT</td>\n",
              "      <td>1525742.02</td>\n",
              "      <td>C566299980</td>\n",
              "      <td>1525742.02</td>\n",
              "      <td>0.0</td>\n",
              "      <td>C2132741249</td>\n",
              "      <td>0.00</td>\n",
              "      <td>1525742.02</td>\n",
              "      <td>1.0</td>\n",
              "      <td>0.0</td>\n",
              "    </tr>\n",
              "    <tr>\n",
              "      <th>1268132</th>\n",
              "      <td>135</td>\n",
              "      <td>TRANSFER</td>\n",
              "      <td>60646.82</td>\n",
              "      <td>C16325193</td>\n",
              "      <td>60646.82</td>\n",
              "      <td>0.0</td>\n",
              "      <td>C1142308678</td>\n",
              "      <td>0.00</td>\n",
              "      <td>0.00</td>\n",
              "      <td>1.0</td>\n",
              "      <td>0.0</td>\n",
              "    </tr>\n",
              "    <tr>\n",
              "      <th>1268133</th>\n",
              "      <td>135</td>\n",
              "      <td>CASH_OUT</td>\n",
              "      <td>60646.82</td>\n",
              "      <td>C1591547495</td>\n",
              "      <td>60646.82</td>\n",
              "      <td>0.0</td>\n",
              "      <td>C1132157369</td>\n",
              "      <td>43264.78</td>\n",
              "      <td>103911.60</td>\n",
              "      <td>1.0</td>\n",
              "      <td>0.0</td>\n",
              "    </tr>\n",
              "    <tr>\n",
              "      <th>1279179</th>\n",
              "      <td>135</td>\n",
              "      <td>TRANSFER</td>\n",
              "      <td>515645.16</td>\n",
              "      <td>C885687058</td>\n",
              "      <td>515645.16</td>\n",
              "      <td>0.0</td>\n",
              "      <td>C1873143762</td>\n",
              "      <td>0.00</td>\n",
              "      <td>0.00</td>\n",
              "      <td>1.0</td>\n",
              "      <td>0.0</td>\n",
              "    </tr>\n",
              "    <tr>\n",
              "      <th>1279180</th>\n",
              "      <td>135</td>\n",
              "      <td>CASH_OUT</td>\n",
              "      <td>515645.16</td>\n",
              "      <td>C1386605683</td>\n",
              "      <td>515645.16</td>\n",
              "      <td>0.0</td>\n",
              "      <td>C509021077</td>\n",
              "      <td>283377.85</td>\n",
              "      <td>799023.01</td>\n",
              "      <td>1.0</td>\n",
              "      <td>0.0</td>\n",
              "    </tr>\n",
              "  </tbody>\n",
              "</table>\n",
              "<p>58190 rows × 11 columns</p>\n",
              "</div>"
            ],
            "text/plain": [
              "         step      type      amount     nameOrig  oldbalanceOrg  \\\n",
              "19          1  TRANSFER   215310.30  C1670993182         705.00   \n",
              "24          1  TRANSFER   311685.89  C1984094095       10835.00   \n",
              "58          1  TRANSFER    62610.80  C1976401987       79114.00   \n",
              "78          1  TRANSFER    42712.39   C283039401       10363.39   \n",
              "79          1  TRANSFER    77957.68   C207471778           0.00   \n",
              "...       ...       ...         ...          ...            ...   \n",
              "1262331   134  CASH_OUT  1525742.02   C566299980     1525742.02   \n",
              "1268132   135  TRANSFER    60646.82    C16325193       60646.82   \n",
              "1268133   135  CASH_OUT    60646.82  C1591547495       60646.82   \n",
              "1279179   135  TRANSFER   515645.16   C885687058      515645.16   \n",
              "1279180   135  CASH_OUT   515645.16  C1386605683      515645.16   \n",
              "\n",
              "         newbalanceOrig     nameDest  oldbalanceDest  newbalanceDest  isFraud  \\\n",
              "19                  0.0  C1100439041        22425.00            0.00      0.0   \n",
              "24                  0.0   C932583850         6267.00      2719172.89      0.0   \n",
              "58              16503.2  C1937962514          517.00         8383.29      0.0   \n",
              "78                  0.0  C1330106945        57901.66        24044.18      0.0   \n",
              "79                  0.0  C1761291320        94900.00        22233.65      0.0   \n",
              "...                 ...          ...             ...             ...      ...   \n",
              "1262331             0.0  C2132741249            0.00      1525742.02      1.0   \n",
              "1268132             0.0  C1142308678            0.00            0.00      1.0   \n",
              "1268133             0.0  C1132157369        43264.78       103911.60      1.0   \n",
              "1279179             0.0  C1873143762            0.00            0.00      1.0   \n",
              "1279180             0.0   C509021077       283377.85       799023.01      1.0   \n",
              "\n",
              "         isFlaggedFraud  \n",
              "19                  0.0  \n",
              "24                  0.0  \n",
              "58                  0.0  \n",
              "78                  0.0  \n",
              "79                  0.0  \n",
              "...                 ...  \n",
              "1262331             0.0  \n",
              "1268132             0.0  \n",
              "1268133             0.0  \n",
              "1279179             0.0  \n",
              "1279180             0.0  \n",
              "\n",
              "[58190 rows x 11 columns]"
            ]
          },
          "execution_count": 19,
          "metadata": {},
          "output_type": "execute_result"
        }
      ],
      "source": [
        "data = pd.concat([transfer1,payment1,cash_out1,debit1,cash_in1,fraud], axis=0)\n",
        "data"
      ]
    },
    {
      "cell_type": "code",
      "execution_count": 20,
      "id": "bb5eec16",
      "metadata": {
        "colab": {
          "base_uri": "https://localhost:8080/",
          "height": 423
        },
        "id": "bb5eec16",
        "outputId": "2d60032c-5f8f-4f2f-f0b1-c3a227105a5e",
        "scrolled": true
      },
      "outputs": [
        {
          "data": {
            "text/html": [
              "<div>\n",
              "<style scoped>\n",
              "    .dataframe tbody tr th:only-of-type {\n",
              "        vertical-align: middle;\n",
              "    }\n",
              "\n",
              "    .dataframe tbody tr th {\n",
              "        vertical-align: top;\n",
              "    }\n",
              "\n",
              "    .dataframe thead th {\n",
              "        text-align: right;\n",
              "    }\n",
              "</style>\n",
              "<table border=\"1\" class=\"dataframe\">\n",
              "  <thead>\n",
              "    <tr style=\"text-align: right;\">\n",
              "      <th></th>\n",
              "      <th>step</th>\n",
              "      <th>type</th>\n",
              "      <th>amount</th>\n",
              "      <th>oldbalanceOrg</th>\n",
              "      <th>newbalanceOrig</th>\n",
              "      <th>oldbalanceDest</th>\n",
              "      <th>newbalanceDest</th>\n",
              "      <th>isFraud</th>\n",
              "      <th>isFlaggedFraud</th>\n",
              "    </tr>\n",
              "  </thead>\n",
              "  <tbody>\n",
              "    <tr>\n",
              "      <th>19</th>\n",
              "      <td>1</td>\n",
              "      <td>TRANSFER</td>\n",
              "      <td>215310.30</td>\n",
              "      <td>705.00</td>\n",
              "      <td>0.0</td>\n",
              "      <td>22425.00</td>\n",
              "      <td>0.00</td>\n",
              "      <td>0.0</td>\n",
              "      <td>0.0</td>\n",
              "    </tr>\n",
              "    <tr>\n",
              "      <th>24</th>\n",
              "      <td>1</td>\n",
              "      <td>TRANSFER</td>\n",
              "      <td>311685.89</td>\n",
              "      <td>10835.00</td>\n",
              "      <td>0.0</td>\n",
              "      <td>6267.00</td>\n",
              "      <td>2719172.89</td>\n",
              "      <td>0.0</td>\n",
              "      <td>0.0</td>\n",
              "    </tr>\n",
              "    <tr>\n",
              "      <th>58</th>\n",
              "      <td>1</td>\n",
              "      <td>TRANSFER</td>\n",
              "      <td>62610.80</td>\n",
              "      <td>79114.00</td>\n",
              "      <td>16503.2</td>\n",
              "      <td>517.00</td>\n",
              "      <td>8383.29</td>\n",
              "      <td>0.0</td>\n",
              "      <td>0.0</td>\n",
              "    </tr>\n",
              "    <tr>\n",
              "      <th>78</th>\n",
              "      <td>1</td>\n",
              "      <td>TRANSFER</td>\n",
              "      <td>42712.39</td>\n",
              "      <td>10363.39</td>\n",
              "      <td>0.0</td>\n",
              "      <td>57901.66</td>\n",
              "      <td>24044.18</td>\n",
              "      <td>0.0</td>\n",
              "      <td>0.0</td>\n",
              "    </tr>\n",
              "    <tr>\n",
              "      <th>79</th>\n",
              "      <td>1</td>\n",
              "      <td>TRANSFER</td>\n",
              "      <td>77957.68</td>\n",
              "      <td>0.00</td>\n",
              "      <td>0.0</td>\n",
              "      <td>94900.00</td>\n",
              "      <td>22233.65</td>\n",
              "      <td>0.0</td>\n",
              "      <td>0.0</td>\n",
              "    </tr>\n",
              "    <tr>\n",
              "      <th>...</th>\n",
              "      <td>...</td>\n",
              "      <td>...</td>\n",
              "      <td>...</td>\n",
              "      <td>...</td>\n",
              "      <td>...</td>\n",
              "      <td>...</td>\n",
              "      <td>...</td>\n",
              "      <td>...</td>\n",
              "      <td>...</td>\n",
              "    </tr>\n",
              "    <tr>\n",
              "      <th>1262331</th>\n",
              "      <td>134</td>\n",
              "      <td>CASH_OUT</td>\n",
              "      <td>1525742.02</td>\n",
              "      <td>1525742.02</td>\n",
              "      <td>0.0</td>\n",
              "      <td>0.00</td>\n",
              "      <td>1525742.02</td>\n",
              "      <td>1.0</td>\n",
              "      <td>0.0</td>\n",
              "    </tr>\n",
              "    <tr>\n",
              "      <th>1268132</th>\n",
              "      <td>135</td>\n",
              "      <td>TRANSFER</td>\n",
              "      <td>60646.82</td>\n",
              "      <td>60646.82</td>\n",
              "      <td>0.0</td>\n",
              "      <td>0.00</td>\n",
              "      <td>0.00</td>\n",
              "      <td>1.0</td>\n",
              "      <td>0.0</td>\n",
              "    </tr>\n",
              "    <tr>\n",
              "      <th>1268133</th>\n",
              "      <td>135</td>\n",
              "      <td>CASH_OUT</td>\n",
              "      <td>60646.82</td>\n",
              "      <td>60646.82</td>\n",
              "      <td>0.0</td>\n",
              "      <td>43264.78</td>\n",
              "      <td>103911.60</td>\n",
              "      <td>1.0</td>\n",
              "      <td>0.0</td>\n",
              "    </tr>\n",
              "    <tr>\n",
              "      <th>1279179</th>\n",
              "      <td>135</td>\n",
              "      <td>TRANSFER</td>\n",
              "      <td>515645.16</td>\n",
              "      <td>515645.16</td>\n",
              "      <td>0.0</td>\n",
              "      <td>0.00</td>\n",
              "      <td>0.00</td>\n",
              "      <td>1.0</td>\n",
              "      <td>0.0</td>\n",
              "    </tr>\n",
              "    <tr>\n",
              "      <th>1279180</th>\n",
              "      <td>135</td>\n",
              "      <td>CASH_OUT</td>\n",
              "      <td>515645.16</td>\n",
              "      <td>515645.16</td>\n",
              "      <td>0.0</td>\n",
              "      <td>283377.85</td>\n",
              "      <td>799023.01</td>\n",
              "      <td>1.0</td>\n",
              "      <td>0.0</td>\n",
              "    </tr>\n",
              "  </tbody>\n",
              "</table>\n",
              "<p>58190 rows × 9 columns</p>\n",
              "</div>"
            ],
            "text/plain": [
              "         step      type      amount  oldbalanceOrg  newbalanceOrig  \\\n",
              "19          1  TRANSFER   215310.30         705.00             0.0   \n",
              "24          1  TRANSFER   311685.89       10835.00             0.0   \n",
              "58          1  TRANSFER    62610.80       79114.00         16503.2   \n",
              "78          1  TRANSFER    42712.39       10363.39             0.0   \n",
              "79          1  TRANSFER    77957.68           0.00             0.0   \n",
              "...       ...       ...         ...            ...             ...   \n",
              "1262331   134  CASH_OUT  1525742.02     1525742.02             0.0   \n",
              "1268132   135  TRANSFER    60646.82       60646.82             0.0   \n",
              "1268133   135  CASH_OUT    60646.82       60646.82             0.0   \n",
              "1279179   135  TRANSFER   515645.16      515645.16             0.0   \n",
              "1279180   135  CASH_OUT   515645.16      515645.16             0.0   \n",
              "\n",
              "         oldbalanceDest  newbalanceDest  isFraud  isFlaggedFraud  \n",
              "19             22425.00            0.00      0.0             0.0  \n",
              "24              6267.00      2719172.89      0.0             0.0  \n",
              "58               517.00         8383.29      0.0             0.0  \n",
              "78             57901.66        24044.18      0.0             0.0  \n",
              "79             94900.00        22233.65      0.0             0.0  \n",
              "...                 ...             ...      ...             ...  \n",
              "1262331            0.00      1525742.02      1.0             0.0  \n",
              "1268132            0.00            0.00      1.0             0.0  \n",
              "1268133        43264.78       103911.60      1.0             0.0  \n",
              "1279179            0.00            0.00      1.0             0.0  \n",
              "1279180       283377.85       799023.01      1.0             0.0  \n",
              "\n",
              "[58190 rows x 9 columns]"
            ]
          },
          "execution_count": 20,
          "metadata": {},
          "output_type": "execute_result"
        }
      ],
      "source": [
        "#We do not get any beneficial information from the nameOrig or nameDest. Hence, we'll be dropping these columns.\n",
        "data1 = data.drop(['nameOrig','nameDest'],axis=1)\n",
        "data1"
      ]
    },
    {
      "cell_type": "markdown",
      "id": "0575db7a",
      "metadata": {
        "id": "0575db7a"
      },
      "source": [
        "#### Taking note of the balances before and after transactions"
      ]
    },
    {
      "cell_type": "markdown",
      "id": "3fadef7a",
      "metadata": {
        "id": "3fadef7a"
      },
      "source": [
        "##### As most of the transactions has errors in showing the account balances before and after transaction, we calculate the error"
      ]
    },
    {
      "cell_type": "code",
      "execution_count": 21,
      "id": "7f9a9a81",
      "metadata": {
        "colab": {
          "base_uri": "https://localhost:8080/"
        },
        "id": "7f9a9a81",
        "outputId": "9291803a-eef6-479c-a409-ac34fcbe89d2"
      },
      "outputs": [
        {
          "name": "stdout",
          "output_type": "stream",
          "text": [
            "Number of transcation where oldbalanceorig & newbalanceorig is zero but amount of transaction is not zero :16640\n"
          ]
        }
      ],
      "source": [
        "zero_balance = list(data.loc[(data1.oldbalanceOrg == 0) & (data1.newbalanceOrig == 0) & (data1.amount != 0)].type.values)\n",
        "\n",
        "print('Number of transcation where oldbalanceorig & newbalanceorig is zero but amount of transaction is not zero :{}'.format(len(zero_balance)))\n"
      ]
    },
    {
      "cell_type": "code",
      "execution_count": 22,
      "id": "88eb797e",
      "metadata": {
        "colab": {
          "base_uri": "https://localhost:8080/"
        },
        "id": "88eb797e",
        "outputId": "f7804be2-242c-4a61-d89f-88047950c1a0"
      },
      "outputs": [
        {
          "name": "stdout",
          "output_type": "stream",
          "text": [
            "number of recipients who have newbalanceDest and oldbalanceDest is zero :13497\n"
          ]
        }
      ],
      "source": [
        "print('number of recipients who have newbalanceDest and oldbalanceDest is zero :{}'\n",
        "      .format(len(data1.loc[(data1.newbalanceDest == 0) & (data1.oldbalanceDest == 0) ].values)))"
      ]
    },
    {
      "cell_type": "markdown",
      "id": "e31c46f5",
      "metadata": {
        "id": "e31c46f5"
      },
      "source": [
        "#### Taking note of the balances before and after transactions"
      ]
    },
    {
      "cell_type": "markdown",
      "id": "f220cd9a",
      "metadata": {
        "id": "f220cd9a"
      },
      "source": [
        "##### As most of the transactions has errors in showing the account balances before and after transaction, we calculate the error"
      ]
    },
    {
      "cell_type": "code",
      "execution_count": 23,
      "id": "ae43fb51",
      "metadata": {
        "colab": {
          "base_uri": "https://localhost:8080/",
          "height": 443
        },
        "id": "ae43fb51",
        "outputId": "0a8fd397-a816-41b5-a80d-4a7451ffaa7a",
        "scrolled": true
      },
      "outputs": [
        {
          "data": {
            "text/html": [
              "<div>\n",
              "<style scoped>\n",
              "    .dataframe tbody tr th:only-of-type {\n",
              "        vertical-align: middle;\n",
              "    }\n",
              "\n",
              "    .dataframe tbody tr th {\n",
              "        vertical-align: top;\n",
              "    }\n",
              "\n",
              "    .dataframe thead th {\n",
              "        text-align: right;\n",
              "    }\n",
              "</style>\n",
              "<table border=\"1\" class=\"dataframe\">\n",
              "  <thead>\n",
              "    <tr style=\"text-align: right;\">\n",
              "      <th></th>\n",
              "      <th>step</th>\n",
              "      <th>type</th>\n",
              "      <th>amount</th>\n",
              "      <th>oldbalanceOrg</th>\n",
              "      <th>newbalanceOrig</th>\n",
              "      <th>oldbalanceDest</th>\n",
              "      <th>newbalanceDest</th>\n",
              "      <th>isFraud</th>\n",
              "      <th>isFlaggedFraud</th>\n",
              "      <th>origin_bal_change</th>\n",
              "      <th>dest_bal_increase</th>\n",
              "    </tr>\n",
              "  </thead>\n",
              "  <tbody>\n",
              "    <tr>\n",
              "      <th>19</th>\n",
              "      <td>1</td>\n",
              "      <td>TRANSFER</td>\n",
              "      <td>215310.30</td>\n",
              "      <td>705.00</td>\n",
              "      <td>0.0</td>\n",
              "      <td>22425.00</td>\n",
              "      <td>0.00</td>\n",
              "      <td>0.0</td>\n",
              "      <td>0.0</td>\n",
              "      <td>705.00</td>\n",
              "      <td>-22425.00</td>\n",
              "    </tr>\n",
              "    <tr>\n",
              "      <th>24</th>\n",
              "      <td>1</td>\n",
              "      <td>TRANSFER</td>\n",
              "      <td>311685.89</td>\n",
              "      <td>10835.00</td>\n",
              "      <td>0.0</td>\n",
              "      <td>6267.00</td>\n",
              "      <td>2719172.89</td>\n",
              "      <td>0.0</td>\n",
              "      <td>0.0</td>\n",
              "      <td>10835.00</td>\n",
              "      <td>2712905.89</td>\n",
              "    </tr>\n",
              "    <tr>\n",
              "      <th>58</th>\n",
              "      <td>1</td>\n",
              "      <td>TRANSFER</td>\n",
              "      <td>62610.80</td>\n",
              "      <td>79114.00</td>\n",
              "      <td>16503.2</td>\n",
              "      <td>517.00</td>\n",
              "      <td>8383.29</td>\n",
              "      <td>0.0</td>\n",
              "      <td>0.0</td>\n",
              "      <td>62610.80</td>\n",
              "      <td>7866.29</td>\n",
              "    </tr>\n",
              "    <tr>\n",
              "      <th>78</th>\n",
              "      <td>1</td>\n",
              "      <td>TRANSFER</td>\n",
              "      <td>42712.39</td>\n",
              "      <td>10363.39</td>\n",
              "      <td>0.0</td>\n",
              "      <td>57901.66</td>\n",
              "      <td>24044.18</td>\n",
              "      <td>0.0</td>\n",
              "      <td>0.0</td>\n",
              "      <td>10363.39</td>\n",
              "      <td>-33857.48</td>\n",
              "    </tr>\n",
              "    <tr>\n",
              "      <th>79</th>\n",
              "      <td>1</td>\n",
              "      <td>TRANSFER</td>\n",
              "      <td>77957.68</td>\n",
              "      <td>0.00</td>\n",
              "      <td>0.0</td>\n",
              "      <td>94900.00</td>\n",
              "      <td>22233.65</td>\n",
              "      <td>0.0</td>\n",
              "      <td>0.0</td>\n",
              "      <td>0.00</td>\n",
              "      <td>-72666.35</td>\n",
              "    </tr>\n",
              "    <tr>\n",
              "      <th>...</th>\n",
              "      <td>...</td>\n",
              "      <td>...</td>\n",
              "      <td>...</td>\n",
              "      <td>...</td>\n",
              "      <td>...</td>\n",
              "      <td>...</td>\n",
              "      <td>...</td>\n",
              "      <td>...</td>\n",
              "      <td>...</td>\n",
              "      <td>...</td>\n",
              "      <td>...</td>\n",
              "    </tr>\n",
              "    <tr>\n",
              "      <th>1262331</th>\n",
              "      <td>134</td>\n",
              "      <td>CASH_OUT</td>\n",
              "      <td>1525742.02</td>\n",
              "      <td>1525742.02</td>\n",
              "      <td>0.0</td>\n",
              "      <td>0.00</td>\n",
              "      <td>1525742.02</td>\n",
              "      <td>1.0</td>\n",
              "      <td>0.0</td>\n",
              "      <td>1525742.02</td>\n",
              "      <td>1525742.02</td>\n",
              "    </tr>\n",
              "    <tr>\n",
              "      <th>1268132</th>\n",
              "      <td>135</td>\n",
              "      <td>TRANSFER</td>\n",
              "      <td>60646.82</td>\n",
              "      <td>60646.82</td>\n",
              "      <td>0.0</td>\n",
              "      <td>0.00</td>\n",
              "      <td>0.00</td>\n",
              "      <td>1.0</td>\n",
              "      <td>0.0</td>\n",
              "      <td>60646.82</td>\n",
              "      <td>0.00</td>\n",
              "    </tr>\n",
              "    <tr>\n",
              "      <th>1268133</th>\n",
              "      <td>135</td>\n",
              "      <td>CASH_OUT</td>\n",
              "      <td>60646.82</td>\n",
              "      <td>60646.82</td>\n",
              "      <td>0.0</td>\n",
              "      <td>43264.78</td>\n",
              "      <td>103911.60</td>\n",
              "      <td>1.0</td>\n",
              "      <td>0.0</td>\n",
              "      <td>60646.82</td>\n",
              "      <td>60646.82</td>\n",
              "    </tr>\n",
              "    <tr>\n",
              "      <th>1279179</th>\n",
              "      <td>135</td>\n",
              "      <td>TRANSFER</td>\n",
              "      <td>515645.16</td>\n",
              "      <td>515645.16</td>\n",
              "      <td>0.0</td>\n",
              "      <td>0.00</td>\n",
              "      <td>0.00</td>\n",
              "      <td>1.0</td>\n",
              "      <td>0.0</td>\n",
              "      <td>515645.16</td>\n",
              "      <td>0.00</td>\n",
              "    </tr>\n",
              "    <tr>\n",
              "      <th>1279180</th>\n",
              "      <td>135</td>\n",
              "      <td>CASH_OUT</td>\n",
              "      <td>515645.16</td>\n",
              "      <td>515645.16</td>\n",
              "      <td>0.0</td>\n",
              "      <td>283377.85</td>\n",
              "      <td>799023.01</td>\n",
              "      <td>1.0</td>\n",
              "      <td>0.0</td>\n",
              "      <td>515645.16</td>\n",
              "      <td>515645.16</td>\n",
              "    </tr>\n",
              "  </tbody>\n",
              "</table>\n",
              "<p>58190 rows × 11 columns</p>\n",
              "</div>"
            ],
            "text/plain": [
              "         step      type      amount  oldbalanceOrg  newbalanceOrig  \\\n",
              "19          1  TRANSFER   215310.30         705.00             0.0   \n",
              "24          1  TRANSFER   311685.89       10835.00             0.0   \n",
              "58          1  TRANSFER    62610.80       79114.00         16503.2   \n",
              "78          1  TRANSFER    42712.39       10363.39             0.0   \n",
              "79          1  TRANSFER    77957.68           0.00             0.0   \n",
              "...       ...       ...         ...            ...             ...   \n",
              "1262331   134  CASH_OUT  1525742.02     1525742.02             0.0   \n",
              "1268132   135  TRANSFER    60646.82       60646.82             0.0   \n",
              "1268133   135  CASH_OUT    60646.82       60646.82             0.0   \n",
              "1279179   135  TRANSFER   515645.16      515645.16             0.0   \n",
              "1279180   135  CASH_OUT   515645.16      515645.16             0.0   \n",
              "\n",
              "         oldbalanceDest  newbalanceDest  isFraud  isFlaggedFraud  \\\n",
              "19             22425.00            0.00      0.0             0.0   \n",
              "24              6267.00      2719172.89      0.0             0.0   \n",
              "58               517.00         8383.29      0.0             0.0   \n",
              "78             57901.66        24044.18      0.0             0.0   \n",
              "79             94900.00        22233.65      0.0             0.0   \n",
              "...                 ...             ...      ...             ...   \n",
              "1262331            0.00      1525742.02      1.0             0.0   \n",
              "1268132            0.00            0.00      1.0             0.0   \n",
              "1268133        43264.78       103911.60      1.0             0.0   \n",
              "1279179            0.00            0.00      1.0             0.0   \n",
              "1279180       283377.85       799023.01      1.0             0.0   \n",
              "\n",
              "         origin_bal_change  dest_bal_increase  \n",
              "19                  705.00          -22425.00  \n",
              "24                10835.00         2712905.89  \n",
              "58                62610.80            7866.29  \n",
              "78                10363.39          -33857.48  \n",
              "79                    0.00          -72666.35  \n",
              "...                    ...                ...  \n",
              "1262331         1525742.02         1525742.02  \n",
              "1268132           60646.82               0.00  \n",
              "1268133           60646.82           60646.82  \n",
              "1279179          515645.16               0.00  \n",
              "1279180          515645.16          515645.16  \n",
              "\n",
              "[58190 rows x 11 columns]"
            ]
          },
          "execution_count": 23,
          "metadata": {},
          "output_type": "execute_result"
        }
      ],
      "source": [
        "data1['origin_bal_change'] = data1['oldbalanceOrg'] - data1['newbalanceOrig']\n",
        "data1['dest_bal_increase'] = data1['newbalanceDest'] - data1['oldbalanceDest']\n",
        "data1"
      ]
    },
    {
      "cell_type": "markdown",
      "id": "ede7fabf",
      "metadata": {
        "id": "ede7fabf"
      },
      "source": [
        "#### Converting the step feature from hours into days"
      ]
    },
    {
      "cell_type": "code",
      "execution_count": 24,
      "id": "d609d097",
      "metadata": {
        "id": "d609d097"
      },
      "outputs": [],
      "source": [
        "num_days = 7\n",
        "num_hours = 2\n",
        "fraud_days = fraud.step % num_days\n",
        "fraud_hours = fraud.step % num_hours\n",
        "valid_days = valid.step % num_days\n",
        "valid_hours = valid.step % num_hours"
      ]
    },
    {
      "cell_type": "code",
      "execution_count": 25,
      "id": "68277197",
      "metadata": {
        "colab": {
          "base_uri": "https://localhost:8080/",
          "height": 481
        },
        "id": "68277197",
        "outputId": "ef095a7f-c1c0-4601-ae13-56a9b178436e",
        "scrolled": true
      },
      "outputs": [
        {
          "data": {
            "image/png": "[encoded data removed]",
            "text/plain": [
              "<Figure size 640x480 with 2 Axes>"
            ]
          },
          "metadata": {},
          "output_type": "display_data"
        }
      ],
      "source": [
        "# plotting scatterplot of the days of the week,\n",
        "plt.subplot(1, 2, 1)\n",
        "fraud_days.hist(bins=num_days)\n",
        "plt.title('Fraud transactions by Day')\n",
        "plt.xlabel('Day of the Week')\n",
        "plt.ylabel(\"# of transactions\")\n",
        "\n",
        "plt.subplot(1,2,2)\n",
        "valid_days.hist(bins=num_days)\n",
        "plt.title('Valid transactions by Day')\n",
        "plt.xlabel('Day of the Week')\n",
        "plt.ylabel(\"# of transactions\")\n",
        "\n",
        "plt.tight_layout()\n",
        "plt.show()"
      ]
    },
    {
      "cell_type": "code",
      "execution_count": 26,
      "id": "83dae981",
      "metadata": {
        "colab": {
          "base_uri": "https://localhost:8080/",
          "height": 481
        },
        "id": "83dae981",
        "outputId": "7118ecbf-8c9e-4e47-d6d1-95ff24894358"
      },
      "outputs": [
        {
          "data": {
            "image/png": "[encoded data removed]",
            "text/plain": [
              "<Figure size 640x480 with 2 Axes>"
            ]
          },
          "metadata": {},
          "output_type": "display_data"
        }
      ],
      "source": [
        "# plotting scatterplot of the hours of days, identifying the fraudulent transactions (red) from the valid transactions (green)\n",
        "plt.subplot(1, 2, 1)\n",
        "fraud_hours.hist(bins=num_hours, color=\"palegreen\")\n",
        "plt.title('Fraud transactions by Hour')\n",
        "plt.xlabel('Hour of the Day')\n",
        "plt.ylabel(\"# of transactions\")\n",
        "\n",
        "\n",
        "plt.subplot(1, 2, 2)\n",
        "valid_hours.hist(bins=num_hours, color=\"darkseagreen\")\n",
        "plt.title('Valid transactions by Hour')\n",
        "plt.xlabel('Hour of the Day')\n",
        "plt.ylabel(\"# of transactions\")\n",
        "\n",
        "plt.tight_layout()\n",
        "plt.show()"
      ]
    },
    {
      "cell_type": "markdown",
      "id": "c0cca771",
      "metadata": {
        "id": "c0cca771"
      },
      "source": [
        "##### INFERENCE:"
      ]
    },
    {
      "cell_type": "markdown",
      "id": "9c0a9459",
      "metadata": {
        "id": "9c0a9459"
      },
      "source": [
        "From the graphs above, there is strong evidence to suggest that from hour 0 to hour 9, valid transactions very rarely occur. On the other hand, fraudulent transactions still occur at similar rates to any hour of the day outside of hours 0 to 9.\n",
        "\n",
        "So I will add a new feature hour_of_day which is just the [(step column) %24]"
      ]
    },
    {
      "cell_type": "code",
      "execution_count": 27,
      "id": "04edaac4",
      "metadata": {
        "colab": {
          "base_uri": "https://localhost:8080/",
          "height": 443
        },
        "id": "04edaac4",
        "outputId": "f0cb0ff9-db89-4673-cc1a-3f3616865dc3"
      },
      "outputs": [
        {
          "data": {
            "text/html": [
              "<div>\n",
              "<style scoped>\n",
              "    .dataframe tbody tr th:only-of-type {\n",
              "        vertical-align: middle;\n",
              "    }\n",
              "\n",
              "    .dataframe tbody tr th {\n",
              "        vertical-align: top;\n",
              "    }\n",
              "\n",
              "    .dataframe thead th {\n",
              "        text-align: right;\n",
              "    }\n",
              "</style>\n",
              "<table border=\"1\" class=\"dataframe\">\n",
              "  <thead>\n",
              "    <tr style=\"text-align: right;\">\n",
              "      <th></th>\n",
              "      <th>step</th>\n",
              "      <th>type</th>\n",
              "      <th>amount</th>\n",
              "      <th>oldbalanceOrg</th>\n",
              "      <th>newbalanceOrig</th>\n",
              "      <th>oldbalanceDest</th>\n",
              "      <th>newbalanceDest</th>\n",
              "      <th>isFraud</th>\n",
              "      <th>isFlaggedFraud</th>\n",
              "      <th>origin_bal_change</th>\n",
              "      <th>dest_bal_increase</th>\n",
              "      <th>HourOfDay</th>\n",
              "    </tr>\n",
              "  </thead>\n",
              "  <tbody>\n",
              "    <tr>\n",
              "      <th>19</th>\n",
              "      <td>1</td>\n",
              "      <td>TRANSFER</td>\n",
              "      <td>215310.30</td>\n",
              "      <td>705.00</td>\n",
              "      <td>0.0</td>\n",
              "      <td>22425.00</td>\n",
              "      <td>0.00</td>\n",
              "      <td>0.0</td>\n",
              "      <td>0.0</td>\n",
              "      <td>705.00</td>\n",
              "      <td>-22425.00</td>\n",
              "      <td>0.041667</td>\n",
              "    </tr>\n",
              "    <tr>\n",
              "      <th>24</th>\n",
              "      <td>1</td>\n",
              "      <td>TRANSFER</td>\n",
              "      <td>311685.89</td>\n",
              "      <td>10835.00</td>\n",
              "      <td>0.0</td>\n",
              "      <td>6267.00</td>\n",
              "      <td>2719172.89</td>\n",
              "      <td>0.0</td>\n",
              "      <td>0.0</td>\n",
              "      <td>10835.00</td>\n",
              "      <td>2712905.89</td>\n",
              "      <td>0.041667</td>\n",
              "    </tr>\n",
              "    <tr>\n",
              "      <th>58</th>\n",
              "      <td>1</td>\n",
              "      <td>TRANSFER</td>\n",
              "      <td>62610.80</td>\n",
              "      <td>79114.00</td>\n",
              "      <td>16503.2</td>\n",
              "      <td>517.00</td>\n",
              "      <td>8383.29</td>\n",
              "      <td>0.0</td>\n",
              "      <td>0.0</td>\n",
              "      <td>62610.80</td>\n",
              "      <td>7866.29</td>\n",
              "      <td>0.041667</td>\n",
              "    </tr>\n",
              "    <tr>\n",
              "      <th>78</th>\n",
              "      <td>1</td>\n",
              "      <td>TRANSFER</td>\n",
              "      <td>42712.39</td>\n",
              "      <td>10363.39</td>\n",
              "      <td>0.0</td>\n",
              "      <td>57901.66</td>\n",
              "      <td>24044.18</td>\n",
              "      <td>0.0</td>\n",
              "      <td>0.0</td>\n",
              "      <td>10363.39</td>\n",
              "      <td>-33857.48</td>\n",
              "      <td>0.041667</td>\n",
              "    </tr>\n",
              "    <tr>\n",
              "      <th>79</th>\n",
              "      <td>1</td>\n",
              "      <td>TRANSFER</td>\n",
              "      <td>77957.68</td>\n",
              "      <td>0.00</td>\n",
              "      <td>0.0</td>\n",
              "      <td>94900.00</td>\n",
              "      <td>22233.65</td>\n",
              "      <td>0.0</td>\n",
              "      <td>0.0</td>\n",
              "      <td>0.00</td>\n",
              "      <td>-72666.35</td>\n",
              "      <td>0.041667</td>\n",
              "    </tr>\n",
              "    <tr>\n",
              "      <th>...</th>\n",
              "      <td>...</td>\n",
              "      <td>...</td>\n",
              "      <td>...</td>\n",
              "      <td>...</td>\n",
              "      <td>...</td>\n",
              "      <td>...</td>\n",
              "      <td>...</td>\n",
              "      <td>...</td>\n",
              "      <td>...</td>\n",
              "      <td>...</td>\n",
              "      <td>...</td>\n",
              "      <td>...</td>\n",
              "    </tr>\n",
              "    <tr>\n",
              "      <th>1262331</th>\n",
              "      <td>134</td>\n",
              "      <td>CASH_OUT</td>\n",
              "      <td>1525742.02</td>\n",
              "      <td>1525742.02</td>\n",
              "      <td>0.0</td>\n",
              "      <td>0.00</td>\n",
              "      <td>1525742.02</td>\n",
              "      <td>1.0</td>\n",
              "      <td>0.0</td>\n",
              "      <td>1525742.02</td>\n",
              "      <td>1525742.02</td>\n",
              "      <td>5.583333</td>\n",
              "    </tr>\n",
              "    <tr>\n",
              "      <th>1268132</th>\n",
              "      <td>135</td>\n",
              "      <td>TRANSFER</td>\n",
              "      <td>60646.82</td>\n",
              "      <td>60646.82</td>\n",
              "      <td>0.0</td>\n",
              "      <td>0.00</td>\n",
              "      <td>0.00</td>\n",
              "      <td>1.0</td>\n",
              "      <td>0.0</td>\n",
              "      <td>60646.82</td>\n",
              "      <td>0.00</td>\n",
              "      <td>5.625000</td>\n",
              "    </tr>\n",
              "    <tr>\n",
              "      <th>1268133</th>\n",
              "      <td>135</td>\n",
              "      <td>CASH_OUT</td>\n",
              "      <td>60646.82</td>\n",
              "      <td>60646.82</td>\n",
              "      <td>0.0</td>\n",
              "      <td>43264.78</td>\n",
              "      <td>103911.60</td>\n",
              "      <td>1.0</td>\n",
              "      <td>0.0</td>\n",
              "      <td>60646.82</td>\n",
              "      <td>60646.82</td>\n",
              "      <td>5.625000</td>\n",
              "    </tr>\n",
              "    <tr>\n",
              "      <th>1279179</th>\n",
              "      <td>135</td>\n",
              "      <td>TRANSFER</td>\n",
              "      <td>515645.16</td>\n",
              "      <td>515645.16</td>\n",
              "      <td>0.0</td>\n",
              "      <td>0.00</td>\n",
              "      <td>0.00</td>\n",
              "      <td>1.0</td>\n",
              "      <td>0.0</td>\n",
              "      <td>515645.16</td>\n",
              "      <td>0.00</td>\n",
              "      <td>5.625000</td>\n",
              "    </tr>\n",
              "    <tr>\n",
              "      <th>1279180</th>\n",
              "      <td>135</td>\n",
              "      <td>CASH_OUT</td>\n",
              "      <td>515645.16</td>\n",
              "      <td>515645.16</td>\n",
              "      <td>0.0</td>\n",
              "      <td>283377.85</td>\n",
              "      <td>799023.01</td>\n",
              "      <td>1.0</td>\n",
              "      <td>0.0</td>\n",
              "      <td>515645.16</td>\n",
              "      <td>515645.16</td>\n",
              "      <td>5.625000</td>\n",
              "    </tr>\n",
              "  </tbody>\n",
              "</table>\n",
              "<p>58190 rows × 12 columns</p>\n",
              "</div>"
            ],
            "text/plain": [
              "         step      type      amount  oldbalanceOrg  newbalanceOrig  \\\n",
              "19          1  TRANSFER   215310.30         705.00             0.0   \n",
              "24          1  TRANSFER   311685.89       10835.00             0.0   \n",
              "58          1  TRANSFER    62610.80       79114.00         16503.2   \n",
              "78          1  TRANSFER    42712.39       10363.39             0.0   \n",
              "79          1  TRANSFER    77957.68           0.00             0.0   \n",
              "...       ...       ...         ...            ...             ...   \n",
              "1262331   134  CASH_OUT  1525742.02     1525742.02             0.0   \n",
              "1268132   135  TRANSFER    60646.82       60646.82             0.0   \n",
              "1268133   135  CASH_OUT    60646.82       60646.82             0.0   \n",
              "1279179   135  TRANSFER   515645.16      515645.16             0.0   \n",
              "1279180   135  CASH_OUT   515645.16      515645.16             0.0   \n",
              "\n",
              "         oldbalanceDest  newbalanceDest  isFraud  isFlaggedFraud  \\\n",
              "19             22425.00            0.00      0.0             0.0   \n",
              "24              6267.00      2719172.89      0.0             0.0   \n",
              "58               517.00         8383.29      0.0             0.0   \n",
              "78             57901.66        24044.18      0.0             0.0   \n",
              "79             94900.00        22233.65      0.0             0.0   \n",
              "...                 ...             ...      ...             ...   \n",
              "1262331            0.00      1525742.02      1.0             0.0   \n",
              "1268132            0.00            0.00      1.0             0.0   \n",
              "1268133        43264.78       103911.60      1.0             0.0   \n",
              "1279179            0.00            0.00      1.0             0.0   \n",
              "1279180       283377.85       799023.01      1.0             0.0   \n",
              "\n",
              "         origin_bal_change  dest_bal_increase  HourOfDay  \n",
              "19                  705.00          -22425.00   0.041667  \n",
              "24                10835.00         2712905.89   0.041667  \n",
              "58                62610.80            7866.29   0.041667  \n",
              "78                10363.39          -33857.48   0.041667  \n",
              "79                    0.00          -72666.35   0.041667  \n",
              "...                    ...                ...        ...  \n",
              "1262331         1525742.02         1525742.02   5.583333  \n",
              "1268132           60646.82               0.00   5.625000  \n",
              "1268133           60646.82           60646.82   5.625000  \n",
              "1279179          515645.16               0.00   5.625000  \n",
              "1279180          515645.16          515645.16   5.625000  \n",
              "\n",
              "[58190 rows x 12 columns]"
            ]
          },
          "execution_count": 27,
          "metadata": {},
          "output_type": "execute_result"
        }
      ],
      "source": [
        "data1['HourOfDay'] = np.nan # initializing feature column\n",
        "data1.HourOfDay = data1['step'].apply(lambda i: i/24)\n",
        "data1"
      ]
    },
    {
      "cell_type": "markdown",
      "id": "45c4c228",
      "metadata": {
        "id": "45c4c228"
      },
      "source": [
        "#### DATA PREPARATION"
      ]
    },
    {
      "cell_type": "markdown",
      "id": "fbaa0551",
      "metadata": {
        "id": "fbaa0551"
      },
      "source": [
        "##### We apply Label_encoding to convert string datatype into float datatype"
      ]
    },
    {
      "cell_type": "code",
      "execution_count": 28,
      "id": "a8407280",
      "metadata": {
        "colab": {
          "base_uri": "https://localhost:8080/",
          "height": 443
        },
        "id": "a8407280",
        "outputId": "586c946f-01c4-4c86-afd6-61d99097c3fe",
        "scrolled": true
      },
      "outputs": [
        {
          "data": {
            "text/html": [
              "<div>\n",
              "<style scoped>\n",
              "    .dataframe tbody tr th:only-of-type {\n",
              "        vertical-align: middle;\n",
              "    }\n",
              "\n",
              "    .dataframe tbody tr th {\n",
              "        vertical-align: top;\n",
              "    }\n",
              "\n",
              "    .dataframe thead th {\n",
              "        text-align: right;\n",
              "    }\n",
              "</style>\n",
              "<table border=\"1\" class=\"dataframe\">\n",
              "  <thead>\n",
              "    <tr style=\"text-align: right;\">\n",
              "      <th></th>\n",
              "      <th>step</th>\n",
              "      <th>type</th>\n",
              "      <th>amount</th>\n",
              "      <th>oldbalanceOrg</th>\n",
              "      <th>newbalanceOrig</th>\n",
              "      <th>oldbalanceDest</th>\n",
              "      <th>newbalanceDest</th>\n",
              "      <th>isFraud</th>\n",
              "      <th>isFlaggedFraud</th>\n",
              "      <th>origin_bal_change</th>\n",
              "      <th>dest_bal_increase</th>\n",
              "      <th>HourOfDay</th>\n",
              "    </tr>\n",
              "  </thead>\n",
              "  <tbody>\n",
              "    <tr>\n",
              "      <th>19</th>\n",
              "      <td>1</td>\n",
              "      <td>4</td>\n",
              "      <td>215310.30</td>\n",
              "      <td>705.00</td>\n",
              "      <td>0.0</td>\n",
              "      <td>22425.00</td>\n",
              "      <td>0.00</td>\n",
              "      <td>0.0</td>\n",
              "      <td>0.0</td>\n",
              "      <td>705.00</td>\n",
              "      <td>-22425.00</td>\n",
              "      <td>0.041667</td>\n",
              "    </tr>\n",
              "    <tr>\n",
              "      <th>24</th>\n",
              "      <td>1</td>\n",
              "      <td>4</td>\n",
              "      <td>311685.89</td>\n",
              "      <td>10835.00</td>\n",
              "      <td>0.0</td>\n",
              "      <td>6267.00</td>\n",
              "      <td>2719172.89</td>\n",
              "      <td>0.0</td>\n",
              "      <td>0.0</td>\n",
              "      <td>10835.00</td>\n",
              "      <td>2712905.89</td>\n",
              "      <td>0.041667</td>\n",
              "    </tr>\n",
              "    <tr>\n",
              "      <th>58</th>\n",
              "      <td>1</td>\n",
              "      <td>4</td>\n",
              "      <td>62610.80</td>\n",
              "      <td>79114.00</td>\n",
              "      <td>16503.2</td>\n",
              "      <td>517.00</td>\n",
              "      <td>8383.29</td>\n",
              "      <td>0.0</td>\n",
              "      <td>0.0</td>\n",
              "      <td>62610.80</td>\n",
              "      <td>7866.29</td>\n",
              "      <td>0.041667</td>\n",
              "    </tr>\n",
              "    <tr>\n",
              "      <th>78</th>\n",
              "      <td>1</td>\n",
              "      <td>4</td>\n",
              "      <td>42712.39</td>\n",
              "      <td>10363.39</td>\n",
              "      <td>0.0</td>\n",
              "      <td>57901.66</td>\n",
              "      <td>24044.18</td>\n",
              "      <td>0.0</td>\n",
              "      <td>0.0</td>\n",
              "      <td>10363.39</td>\n",
              "      <td>-33857.48</td>\n",
              "      <td>0.041667</td>\n",
              "    </tr>\n",
              "    <tr>\n",
              "      <th>79</th>\n",
              "      <td>1</td>\n",
              "      <td>4</td>\n",
              "      <td>77957.68</td>\n",
              "      <td>0.00</td>\n",
              "      <td>0.0</td>\n",
              "      <td>94900.00</td>\n",
              "      <td>22233.65</td>\n",
              "      <td>0.0</td>\n",
              "      <td>0.0</td>\n",
              "      <td>0.00</td>\n",
              "      <td>-72666.35</td>\n",
              "      <td>0.041667</td>\n",
              "    </tr>\n",
              "    <tr>\n",
              "      <th>...</th>\n",
              "      <td>...</td>\n",
              "      <td>...</td>\n",
              "      <td>...</td>\n",
              "      <td>...</td>\n",
              "      <td>...</td>\n",
              "      <td>...</td>\n",
              "      <td>...</td>\n",
              "      <td>...</td>\n",
              "      <td>...</td>\n",
              "      <td>...</td>\n",
              "      <td>...</td>\n",
              "      <td>...</td>\n",
              "    </tr>\n",
              "    <tr>\n",
              "      <th>1262331</th>\n",
              "      <td>134</td>\n",
              "      <td>1</td>\n",
              "      <td>1525742.02</td>\n",
              "      <td>1525742.02</td>\n",
              "      <td>0.0</td>\n",
              "      <td>0.00</td>\n",
              "      <td>1525742.02</td>\n",
              "      <td>1.0</td>\n",
              "      <td>0.0</td>\n",
              "      <td>1525742.02</td>\n",
              "      <td>1525742.02</td>\n",
              "      <td>5.583333</td>\n",
              "    </tr>\n",
              "    <tr>\n",
              "      <th>1268132</th>\n",
              "      <td>135</td>\n",
              "      <td>4</td>\n",
              "      <td>60646.82</td>\n",
              "      <td>60646.82</td>\n",
              "      <td>0.0</td>\n",
              "      <td>0.00</td>\n",
              "      <td>0.00</td>\n",
              "      <td>1.0</td>\n",
              "      <td>0.0</td>\n",
              "      <td>60646.82</td>\n",
              "      <td>0.00</td>\n",
              "      <td>5.625000</td>\n",
              "    </tr>\n",
              "    <tr>\n",
              "      <th>1268133</th>\n",
              "      <td>135</td>\n",
              "      <td>1</td>\n",
              "      <td>60646.82</td>\n",
              "      <td>60646.82</td>\n",
              "      <td>0.0</td>\n",
              "      <td>43264.78</td>\n",
              "      <td>103911.60</td>\n",
              "      <td>1.0</td>\n",
              "      <td>0.0</td>\n",
              "      <td>60646.82</td>\n",
              "      <td>60646.82</td>\n",
              "      <td>5.625000</td>\n",
              "    </tr>\n",
              "    <tr>\n",
              "      <th>1279179</th>\n",
              "      <td>135</td>\n",
              "      <td>4</td>\n",
              "      <td>515645.16</td>\n",
              "      <td>515645.16</td>\n",
              "      <td>0.0</td>\n",
              "      <td>0.00</td>\n",
              "      <td>0.00</td>\n",
              "      <td>1.0</td>\n",
              "      <td>0.0</td>\n",
              "      <td>515645.16</td>\n",
              "      <td>0.00</td>\n",
              "      <td>5.625000</td>\n",
              "    </tr>\n",
              "    <tr>\n",
              "      <th>1279180</th>\n",
              "      <td>135</td>\n",
              "      <td>1</td>\n",
              "      <td>515645.16</td>\n",
              "      <td>515645.16</td>\n",
              "      <td>0.0</td>\n",
              "      <td>283377.85</td>\n",
              "      <td>799023.01</td>\n",
              "      <td>1.0</td>\n",
              "      <td>0.0</td>\n",
              "      <td>515645.16</td>\n",
              "      <td>515645.16</td>\n",
              "      <td>5.625000</td>\n",
              "    </tr>\n",
              "  </tbody>\n",
              "</table>\n",
              "<p>58190 rows × 12 columns</p>\n",
              "</div>"
            ],
            "text/plain": [
              "         step  type      amount  oldbalanceOrg  newbalanceOrig  \\\n",
              "19          1     4   215310.30         705.00             0.0   \n",
              "24          1     4   311685.89       10835.00             0.0   \n",
              "58          1     4    62610.80       79114.00         16503.2   \n",
              "78          1     4    42712.39       10363.39             0.0   \n",
              "79          1     4    77957.68           0.00             0.0   \n",
              "...       ...   ...         ...            ...             ...   \n",
              "1262331   134     1  1525742.02     1525742.02             0.0   \n",
              "1268132   135     4    60646.82       60646.82             0.0   \n",
              "1268133   135     1    60646.82       60646.82             0.0   \n",
              "1279179   135     4   515645.16      515645.16             0.0   \n",
              "1279180   135     1   515645.16      515645.16             0.0   \n",
              "\n",
              "         oldbalanceDest  newbalanceDest  isFraud  isFlaggedFraud  \\\n",
              "19             22425.00            0.00      0.0             0.0   \n",
              "24              6267.00      2719172.89      0.0             0.0   \n",
              "58               517.00         8383.29      0.0             0.0   \n",
              "78             57901.66        24044.18      0.0             0.0   \n",
              "79             94900.00        22233.65      0.0             0.0   \n",
              "...                 ...             ...      ...             ...   \n",
              "1262331            0.00      1525742.02      1.0             0.0   \n",
              "1268132            0.00            0.00      1.0             0.0   \n",
              "1268133        43264.78       103911.60      1.0             0.0   \n",
              "1279179            0.00            0.00      1.0             0.0   \n",
              "1279180       283377.85       799023.01      1.0             0.0   \n",
              "\n",
              "         origin_bal_change  dest_bal_increase  HourOfDay  \n",
              "19                  705.00          -22425.00   0.041667  \n",
              "24                10835.00         2712905.89   0.041667  \n",
              "58                62610.80            7866.29   0.041667  \n",
              "78                10363.39          -33857.48   0.041667  \n",
              "79                    0.00          -72666.35   0.041667  \n",
              "...                    ...                ...        ...  \n",
              "1262331         1525742.02         1525742.02   5.583333  \n",
              "1268132           60646.82               0.00   5.625000  \n",
              "1268133           60646.82           60646.82   5.625000  \n",
              "1279179          515645.16               0.00   5.625000  \n",
              "1279180          515645.16          515645.16   5.625000  \n",
              "\n",
              "[58190 rows x 12 columns]"
            ]
          },
          "execution_count": 28,
          "metadata": {},
          "output_type": "execute_result"
        }
      ],
      "source": [
        "#Converting string datatypes into float datatypes\n",
        "from sklearn import preprocessing\n",
        "label_encoder = preprocessing.LabelEncoder()\n",
        "data1['type'] = label_encoder.fit_transform(data1['type'])\n",
        "data1"
      ]
    },
    {
      "cell_type": "code",
      "execution_count": 29,
      "id": "edb04bf1",
      "metadata": {
        "colab": {
          "base_uri": "https://localhost:8080/",
          "height": 981
        },
        "id": "edb04bf1",
        "outputId": "8e9f64fc-095f-4f0a-995b-57f66041def2"
      },
      "outputs": [
        {
          "data": {
            "text/plain": [
              "<Axes: >"
            ]
          },
          "execution_count": 29,
          "metadata": {},
          "output_type": "execute_result"
        },
        {
          "data": {
            "image/png": "[encoded data removed]",
            "text/plain": [
              "<Figure size 1000x1000 with 2 Axes>"
            ]
          },
          "metadata": {},
          "output_type": "display_data"
        }
      ],
      "source": [
        "import matplotlib.pyplot as plt\n",
        "import seaborn as sns\n",
        "corrmat = data1.corr()\n",
        "top_corr_features = corrmat.index\n",
        "plt.figure(figsize=(10,10))\n",
        "sns.heatmap(data1[top_corr_features].corr(),annot=True,cmap=\"YlGnBu\")"
      ]
    },
    {
      "cell_type": "code",
      "execution_count": 30,
      "id": "b7f051c3",
      "metadata": {
        "colab": {
          "base_uri": "https://localhost:8080/"
        },
        "id": "b7f051c3",
        "outputId": "2b277911-8070-4854-ac82-75e8c231f661"
      },
      "outputs": [
        {
          "data": {
            "text/plain": [
              "type\n",
              "1    12778\n",
              "4    12764\n",
              "3    12000\n",
              "0    12000\n",
              "2     8648\n",
              "Name: count, dtype: int64"
            ]
          },
          "execution_count": 30,
          "metadata": {},
          "output_type": "execute_result"
        }
      ],
      "source": [
        "data1.type.value_counts()"
      ]
    },
    {
      "cell_type": "code",
      "execution_count": 31,
      "id": "f988dad8",
      "metadata": {
        "id": "f988dad8"
      },
      "outputs": [],
      "source": [
        "#Importing Packages\n",
        "from random import seed, sample\n",
        "from sklearn.model_selection import train_test_split\n",
        "from sklearn.preprocessing import StandardScaler"
      ]
    },
    {
      "cell_type": "code",
      "execution_count": 32,
      "id": "6b2d2f26",
      "metadata": {
        "id": "6b2d2f26"
      },
      "outputs": [],
      "source": [
        "X = data1.drop([\"isFraud\",\"step\"], axis=1)\n",
        "Y = data1.isFraud"
      ]
    },
    {
      "cell_type": "code",
      "execution_count": 33,
      "id": "0daaca64",
      "metadata": {
        "colab": {
          "base_uri": "https://localhost:8080/",
          "height": 443
        },
        "id": "0daaca64",
        "outputId": "f7750ee3-9b32-4f8f-a67f-52ced6ace01a"
      },
      "outputs": [
        {
          "data": {
            "text/html": [
              "<div>\n",
              "<style scoped>\n",
              "    .dataframe tbody tr th:only-of-type {\n",
              "        vertical-align: middle;\n",
              "    }\n",
              "\n",
              "    .dataframe tbody tr th {\n",
              "        vertical-align: top;\n",
              "    }\n",
              "\n",
              "    .dataframe thead th {\n",
              "        text-align: right;\n",
              "    }\n",
              "</style>\n",
              "<table border=\"1\" class=\"dataframe\">\n",
              "  <thead>\n",
              "    <tr style=\"text-align: right;\">\n",
              "      <th></th>\n",
              "      <th>type</th>\n",
              "      <th>amount</th>\n",
              "      <th>oldbalanceOrg</th>\n",
              "      <th>newbalanceOrig</th>\n",
              "      <th>oldbalanceDest</th>\n",
              "      <th>newbalanceDest</th>\n",
              "      <th>isFlaggedFraud</th>\n",
              "      <th>origin_bal_change</th>\n",
              "      <th>dest_bal_increase</th>\n",
              "      <th>HourOfDay</th>\n",
              "    </tr>\n",
              "  </thead>\n",
              "  <tbody>\n",
              "    <tr>\n",
              "      <th>19</th>\n",
              "      <td>4</td>\n",
              "      <td>215310.30</td>\n",
              "      <td>705.00</td>\n",
              "      <td>0.0</td>\n",
              "      <td>22425.00</td>\n",
              "      <td>0.00</td>\n",
              "      <td>0.0</td>\n",
              "      <td>705.00</td>\n",
              "      <td>-22425.00</td>\n",
              "      <td>0.041667</td>\n",
              "    </tr>\n",
              "    <tr>\n",
              "      <th>24</th>\n",
              "      <td>4</td>\n",
              "      <td>311685.89</td>\n",
              "      <td>10835.00</td>\n",
              "      <td>0.0</td>\n",
              "      <td>6267.00</td>\n",
              "      <td>2719172.89</td>\n",
              "      <td>0.0</td>\n",
              "      <td>10835.00</td>\n",
              "      <td>2712905.89</td>\n",
              "      <td>0.041667</td>\n",
              "    </tr>\n",
              "    <tr>\n",
              "      <th>58</th>\n",
              "      <td>4</td>\n",
              "      <td>62610.80</td>\n",
              "      <td>79114.00</td>\n",
              "      <td>16503.2</td>\n",
              "      <td>517.00</td>\n",
              "      <td>8383.29</td>\n",
              "      <td>0.0</td>\n",
              "      <td>62610.80</td>\n",
              "      <td>7866.29</td>\n",
              "      <td>0.041667</td>\n",
              "    </tr>\n",
              "    <tr>\n",
              "      <th>78</th>\n",
              "      <td>4</td>\n",
              "      <td>42712.39</td>\n",
              "      <td>10363.39</td>\n",
              "      <td>0.0</td>\n",
              "      <td>57901.66</td>\n",
              "      <td>24044.18</td>\n",
              "      <td>0.0</td>\n",
              "      <td>10363.39</td>\n",
              "      <td>-33857.48</td>\n",
              "      <td>0.041667</td>\n",
              "    </tr>\n",
              "    <tr>\n",
              "      <th>79</th>\n",
              "      <td>4</td>\n",
              "      <td>77957.68</td>\n",
              "      <td>0.00</td>\n",
              "      <td>0.0</td>\n",
              "      <td>94900.00</td>\n",
              "      <td>22233.65</td>\n",
              "      <td>0.0</td>\n",
              "      <td>0.00</td>\n",
              "      <td>-72666.35</td>\n",
              "      <td>0.041667</td>\n",
              "    </tr>\n",
              "    <tr>\n",
              "      <th>...</th>\n",
              "      <td>...</td>\n",
              "      <td>...</td>\n",
              "      <td>...</td>\n",
              "      <td>...</td>\n",
              "      <td>...</td>\n",
              "      <td>...</td>\n",
              "      <td>...</td>\n",
              "      <td>...</td>\n",
              "      <td>...</td>\n",
              "      <td>...</td>\n",
              "    </tr>\n",
              "    <tr>\n",
              "      <th>1262331</th>\n",
              "      <td>1</td>\n",
              "      <td>1525742.02</td>\n",
              "      <td>1525742.02</td>\n",
              "      <td>0.0</td>\n",
              "      <td>0.00</td>\n",
              "      <td>1525742.02</td>\n",
              "      <td>0.0</td>\n",
              "      <td>1525742.02</td>\n",
              "      <td>1525742.02</td>\n",
              "      <td>5.583333</td>\n",
              "    </tr>\n",
              "    <tr>\n",
              "      <th>1268132</th>\n",
              "      <td>4</td>\n",
              "      <td>60646.82</td>\n",
              "      <td>60646.82</td>\n",
              "      <td>0.0</td>\n",
              "      <td>0.00</td>\n",
              "      <td>0.00</td>\n",
              "      <td>0.0</td>\n",
              "      <td>60646.82</td>\n",
              "      <td>0.00</td>\n",
              "      <td>5.625000</td>\n",
              "    </tr>\n",
              "    <tr>\n",
              "      <th>1268133</th>\n",
              "      <td>1</td>\n",
              "      <td>60646.82</td>\n",
              "      <td>60646.82</td>\n",
              "      <td>0.0</td>\n",
              "      <td>43264.78</td>\n",
              "      <td>103911.60</td>\n",
              "      <td>0.0</td>\n",
              "      <td>60646.82</td>\n",
              "      <td>60646.82</td>\n",
              "      <td>5.625000</td>\n",
              "    </tr>\n",
              "    <tr>\n",
              "      <th>1279179</th>\n",
              "      <td>4</td>\n",
              "      <td>515645.16</td>\n",
              "      <td>515645.16</td>\n",
              "      <td>0.0</td>\n",
              "      <td>0.00</td>\n",
              "      <td>0.00</td>\n",
              "      <td>0.0</td>\n",
              "      <td>515645.16</td>\n",
              "      <td>0.00</td>\n",
              "      <td>5.625000</td>\n",
              "    </tr>\n",
              "    <tr>\n",
              "      <th>1279180</th>\n",
              "      <td>1</td>\n",
              "      <td>515645.16</td>\n",
              "      <td>515645.16</td>\n",
              "      <td>0.0</td>\n",
              "      <td>283377.85</td>\n",
              "      <td>799023.01</td>\n",
              "      <td>0.0</td>\n",
              "      <td>515645.16</td>\n",
              "      <td>515645.16</td>\n",
              "      <td>5.625000</td>\n",
              "    </tr>\n",
              "  </tbody>\n",
              "</table>\n",
              "<p>58190 rows × 10 columns</p>\n",
              "</div>"
            ],
            "text/plain": [
              "         type      amount  oldbalanceOrg  newbalanceOrig  oldbalanceDest  \\\n",
              "19          4   215310.30         705.00             0.0        22425.00   \n",
              "24          4   311685.89       10835.00             0.0         6267.00   \n",
              "58          4    62610.80       79114.00         16503.2          517.00   \n",
              "78          4    42712.39       10363.39             0.0        57901.66   \n",
              "79          4    77957.68           0.00             0.0        94900.00   \n",
              "...       ...         ...            ...             ...             ...   \n",
              "1262331     1  1525742.02     1525742.02             0.0            0.00   \n",
              "1268132     4    60646.82       60646.82             0.0            0.00   \n",
              "1268133     1    60646.82       60646.82             0.0        43264.78   \n",
              "1279179     4   515645.16      515645.16             0.0            0.00   \n",
              "1279180     1   515645.16      515645.16             0.0       283377.85   \n",
              "\n",
              "         newbalanceDest  isFlaggedFraud  origin_bal_change  dest_bal_increase  \\\n",
              "19                 0.00             0.0             705.00          -22425.00   \n",
              "24           2719172.89             0.0           10835.00         2712905.89   \n",
              "58              8383.29             0.0           62610.80            7866.29   \n",
              "78             24044.18             0.0           10363.39          -33857.48   \n",
              "79             22233.65             0.0               0.00          -72666.35   \n",
              "...                 ...             ...                ...                ...   \n",
              "1262331      1525742.02             0.0         1525742.02         1525742.02   \n",
              "1268132            0.00             0.0           60646.82               0.00   \n",
              "1268133       103911.60             0.0           60646.82           60646.82   \n",
              "1279179            0.00             0.0          515645.16               0.00   \n",
              "1279180       799023.01             0.0          515645.16          515645.16   \n",
              "\n",
              "         HourOfDay  \n",
              "19        0.041667  \n",
              "24        0.041667  \n",
              "58        0.041667  \n",
              "78        0.041667  \n",
              "79        0.041667  \n",
              "...            ...  \n",
              "1262331   5.583333  \n",
              "1268132   5.625000  \n",
              "1268133   5.625000  \n",
              "1279179   5.625000  \n",
              "1279180   5.625000  \n",
              "\n",
              "[58190 rows x 10 columns]"
            ]
          },
          "execution_count": 33,
          "metadata": {},
          "output_type": "execute_result"
        }
      ],
      "source": [
        "X"
      ]
    },
    {
      "cell_type": "code",
      "execution_count": 34,
      "id": "a9350591",
      "metadata": {
        "colab": {
          "base_uri": "https://localhost:8080/"
        },
        "id": "a9350591",
        "outputId": "7d0576a0-402d-4494-e6c1-da31f4b7bb90",
        "scrolled": true
      },
      "outputs": [
        {
          "data": {
            "text/plain": [
              "19         0.0\n",
              "24         0.0\n",
              "58         0.0\n",
              "78         0.0\n",
              "79         0.0\n",
              "          ... \n",
              "1262331    1.0\n",
              "1268132    1.0\n",
              "1268133    1.0\n",
              "1279179    1.0\n",
              "1279180    1.0\n",
              "Name: isFraud, Length: 58190, dtype: float64"
            ]
          },
          "execution_count": 34,
          "metadata": {},
          "output_type": "execute_result"
        }
      ],
      "source": [
        "Y"
      ]
    },
    {
      "cell_type": "code",
      "execution_count": 35,
      "id": "7f7faa88",
      "metadata": {
        "id": "7f7faa88"
      },
      "outputs": [],
      "source": [
        "x_train, x_test, y_train, y_test = train_test_split(X,Y, test_size=0.2, random_state=42)"
      ]
    },
    {
      "cell_type": "code",
      "execution_count": 36,
      "id": "d7d24ced",
      "metadata": {
        "id": "d7d24ced"
      },
      "outputs": [],
      "source": [
        "#Normalizing data so that all variables follow the same scale (0 to 1)\n",
        "scaler = StandardScaler()\n",
        "\n",
        "#Fit only to the training data\n",
        "scaler.fit(x_train)\n",
        "\n",
        "#Now apply the transformations to the data:\n",
        "x_train = scaler.transform(x_train)\n",
        "x_test = scaler.transform(x_test)"
      ]
    },
    {
      "cell_type": "code",
      "execution_count": 37,
      "id": "3cee49b6",
      "metadata": {},
      "outputs": [],
      "source": [
        "import pickle\n",
        "pickle.dump(scaler,open('scaling.pkl','wb'))"
      ]
    },
    {
      "cell_type": "code",
      "execution_count": 38,
      "id": "cd7f307e",
      "metadata": {
        "colab": {
          "base_uri": "https://localhost:8080/"
        },
        "id": "cd7f307e",
        "outputId": "af6dab45-f497-469a-a4ca-c371278dcd3a"
      },
      "outputs": [
        {
          "name": "stdout",
          "output_type": "stream",
          "text": [
            "Shape of x_train: (46552, 10)\n",
            "Shape of x_test: (11638, 10)\n",
            "Shape of y_train: (46552,)\n",
            "Shape of y_test: (11638,)\n"
          ]
        }
      ],
      "source": [
        "print(\"Shape of x_train:\", x_train.shape)\n",
        "print(\"Shape of x_test:\", x_test.shape)\n",
        "print(\"Shape of y_train:\", y_train.shape)\n",
        "print(\"Shape of y_test:\", y_test.shape)"
      ]
    },
    {
      "cell_type": "code",
      "execution_count": 39,
      "id": "e9fee821",
      "metadata": {
        "colab": {
          "base_uri": "https://localhost:8080/",
          "height": 506
        },
        "id": "e9fee821",
        "outputId": "10fa4435-d6e8-41b7-d588-c63086df1d97"
      },
      "outputs": [
        {
          "data": {
            "text/plain": [
              "<Axes: title={'center': 'COUNT OF FRAUDULENT VS NON-FRAUDULENT TRANSACTIONS'}, xlabel='isFraud'>"
            ]
          },
          "execution_count": 39,
          "metadata": {},
          "output_type": "execute_result"
        },
        {
          "data": {
            "image/png": "[encoded data removed]",
            "text/plain": [
              "<Figure size 640x480 with 1 Axes>"
            ]
          },
          "metadata": {},
          "output_type": "display_data"
        }
      ],
      "source": [
        "pd.Series(Y).value_counts().plot(kind='bar',title='COUNT OF FRAUDULENT VS NON-FRAUDULENT TRANSACTIONS', xlabel='isFraud')\n"
      ]
    },
    {
      "cell_type": "markdown",
      "id": "79d9638b",
      "metadata": {
        "id": "79d9638b"
      },
      "source": [
        "#### MODEL SELECTION"
      ]
    },
    {
      "cell_type": "markdown",
      "id": "6cd468db",
      "metadata": {
        "id": "6cd468db"
      },
      "source": [
        "#### Model1: LOGISTIC REGRESSION"
      ]
    },
    {
      "cell_type": "code",
      "execution_count": 40,
      "id": "15632e1f",
      "metadata": {
        "colab": {
          "base_uri": "https://localhost:8080/",
          "height": 74
        },
        "id": "15632e1f",
        "outputId": "d9550196-11f3-4b78-de48-6f9909e3f484"
      },
      "outputs": [
        {
          "data": {
            "text/html": [
              "<style>#sk-container-id-1 {color: black;}#sk-container-id-1 pre{padding: 0;}#sk-container-id-1 div.sk-toggleable {background-color: white;}#sk-container-id-1 label.sk-toggleable__label {cursor: pointer;display: block;width: 100%;margin-bottom: 0;padding: 0.3em;box-sizing: border-box;text-align: center;}#sk-container-id-1 label.sk-toggleable__label-arrow:before {content: \"▸\";float: left;margin-right: 0.25em;color: #696969;}#sk-container-id-1 label.sk-toggleable__label-arrow:hover:before {color: black;}#sk-container-id-1 div.sk-estimator:hover label.sk-toggleable__label-arrow:before {color: black;}#sk-container-id-1 div.sk-toggleable__content {max-height: 0;max-width: 0;overflow: hidden;text-align: left;background-color: #f0f8ff;}#sk-container-id-1 div.sk-toggleable__content pre {margin: 0.2em;color: black;border-radius: 0.25em;background-color: #f0f8ff;}#sk-container-id-1 input.sk-toggleable__control:checked~div.sk-toggleable__content {max-height: 200px;max-width: 100%;overflow: auto;}#sk-container-id-1 input.sk-toggleable__control:checked~label.sk-toggleable__label-arrow:before {content: \"▾\";}#sk-container-id-1 div.sk-estimator input.sk-toggleable__control:checked~label.sk-toggleable__label {background-color: #d4ebff;}#sk-container-id-1 div.sk-label input.sk-toggleable__control:checked~label.sk-toggleable__label {background-color: #d4ebff;}#sk-container-id-1 input.sk-hidden--visually {border: 0;clip: rect(1px 1px 1px 1px);clip: rect(1px, 1px, 1px, 1px);height: 1px;margin: -1px;overflow: hidden;padding: 0;position: absolute;width: 1px;}#sk-container-id-1 div.sk-estimator {font-family: monospace;background-color: #f0f8ff;border: 1px dotted black;border-radius: 0.25em;box-sizing: border-box;margin-bottom: 0.5em;}#sk-container-id-1 div.sk-estimator:hover {background-color: #d4ebff;}#sk-container-id-1 div.sk-parallel-item::after {content: \"\";width: 100%;border-bottom: 1px solid gray;flex-grow: 1;}#sk-container-id-1 div.sk-label:hover label.sk-toggleable__label {background-color: #d4ebff;}#sk-container-id-1 div.sk-serial::before {content: \"\";position: absolute;border-left: 1px solid gray;box-sizing: border-box;top: 0;bottom: 0;left: 50%;z-index: 0;}#sk-container-id-1 div.sk-serial {display: flex;flex-direction: column;align-items: center;background-color: white;padding-right: 0.2em;padding-left: 0.2em;position: relative;}#sk-container-id-1 div.sk-item {position: relative;z-index: 1;}#sk-container-id-1 div.sk-parallel {display: flex;align-items: stretch;justify-content: center;background-color: white;position: relative;}#sk-container-id-1 div.sk-item::before, #sk-container-id-1 div.sk-parallel-item::before {content: \"\";position: absolute;border-left: 1px solid gray;box-sizing: border-box;top: 0;bottom: 0;left: 50%;z-index: -1;}#sk-container-id-1 div.sk-parallel-item {display: flex;flex-direction: column;z-index: 1;position: relative;background-color: white;}#sk-container-id-1 div.sk-parallel-item:first-child::after {align-self: flex-end;width: 50%;}#sk-container-id-1 div.sk-parallel-item:last-child::after {align-self: flex-start;width: 50%;}#sk-container-id-1 div.sk-parallel-item:only-child::after {width: 0;}#sk-container-id-1 div.sk-dashed-wrapped {border: 1px dashed gray;margin: 0 0.4em 0.5em 0.4em;box-sizing: border-box;padding-bottom: 0.4em;background-color: white;}#sk-container-id-1 div.sk-label label {font-family: monospace;font-weight: bold;display: inline-block;line-height: 1.2em;}#sk-container-id-1 div.sk-label-container {text-align: center;}#sk-container-id-1 div.sk-container {/* jupyter's `normalize.less` sets `[hidden] { display: none; }` but bootstrap.min.css set `[hidden] { display: none !important; }` so we also need the `!important` here to be able to override the default hidden behavior on the sphinx rendered scikit-learn.org. See: https://github.com/scikit-learn/scikit-learn/issues/21755 */display: inline-block !important;position: relative;}#sk-container-id-1 div.sk-text-repr-fallback {display: none;}</style><div id=\"sk-container-id-1\" class=\"sk-top-container\"><div class=\"sk-text-repr-fallback\"><pre>LogisticRegression()</pre><b>In a Jupyter environment, please rerun this cell to show the HTML representation or trust the notebook. <br />On GitHub, the HTML representation is unable to render, please try loading this page with nbviewer.org.</b></div><div class=\"sk-container\" hidden><div class=\"sk-item\"><div class=\"sk-estimator sk-toggleable\"><input class=\"sk-toggleable__control sk-hidden--visually\" id=\"sk-estimator-id-1\" type=\"checkbox\" checked><label for=\"sk-estimator-id-1\" class=\"sk-toggleable__label sk-toggleable__label-arrow\">LogisticRegression</label><div class=\"sk-toggleable__content\"><pre>LogisticRegression()</pre></div></div></div></div></div>"
            ],
            "text/plain": [
              "LogisticRegression()"
            ]
          },
          "execution_count": 40,
          "metadata": {},
          "output_type": "execute_result"
        }
      ],
      "source": [
        "#Importing Libraries\n",
        "from sklearn.linear_model import LogisticRegression\n",
        "from sklearn.metrics import average_precision_score\n",
        "from sklearn.metrics import classification_report, confusion_matrix, accuracy_score, roc_curve, auc, precision_score\n",
        "classifier=LogisticRegression()\n",
        "classifier.fit(x_train,y_train)"
      ]
    },
    {
      "cell_type": "code",
      "execution_count": 41,
      "id": "e393ac8e",
      "metadata": {
        "colab": {
          "base_uri": "https://localhost:8080/"
        },
        "id": "e393ac8e",
        "outputId": "e965fb3b-2ddb-4e20-cc7a-06f8f0851758"
      },
      "outputs": [
        {
          "name": "stdout",
          "output_type": "stream",
          "text": [
            "Train data Accuracy is: 0.9855215672796013\n"
          ]
        }
      ],
      "source": [
        "#Predicting on Train data\n",
        "predt_log = classifier.predict(x_train)\n",
        "#Accuracy on Train data\n",
        "print(\"Train data Accuracy is:\", np.mean(predt_log==y_train))"
      ]
    },
    {
      "cell_type": "code",
      "execution_count": 42,
      "id": "bf4c5e94",
      "metadata": {
        "colab": {
          "base_uri": "https://localhost:8080/"
        },
        "id": "bf4c5e94",
        "outputId": "35a2e803-64f3-4321-8986-29fe215e55d9"
      },
      "outputs": [
        {
          "name": "stdout",
          "output_type": "stream",
          "text": [
            "Test data Accuracy is: 0.9855645299879704\n"
          ]
        }
      ],
      "source": [
        "#Predicting on test data\n",
        "preds1 = classifier.predict(x_test)\n",
        "#Accuracy on Test data\n",
        "print(\"Test data Accuracy is:\", np.mean(preds1==y_test))"
      ]
    },
    {
      "cell_type": "code",
      "execution_count": 43,
      "id": "09c293e0",
      "metadata": {
        "colab": {
          "base_uri": "https://localhost:8080/"
        },
        "id": "09c293e0",
        "outputId": "14d825e2-7803-4d3e-b683-279ca66e1fbf"
      },
      "outputs": [
        {
          "data": {
            "text/plain": [
              "array([[11314,    15],\n",
              "       [  153,   156]])"
            ]
          },
          "execution_count": 43,
          "metadata": {},
          "output_type": "execute_result"
        }
      ],
      "source": [
        "# Evaluating model\n",
        "CM_log = confusion_matrix(y_test,preds1)\n",
        "CM_log"
      ]
    },
    {
      "cell_type": "code",
      "execution_count": 44,
      "id": "f70ec1e2",
      "metadata": {
        "colab": {
          "base_uri": "https://localhost:8080/"
        },
        "id": "f70ec1e2",
        "outputId": "2668d698-5265-4156-f3b8-6829c835350e"
      },
      "outputs": [
        {
          "name": "stdout",
          "output_type": "stream",
          "text": [
            "              precision    recall  f1-score   support\n",
            "\n",
            "         0.0       1.00      0.99      0.99     11467\n",
            "         1.0       0.50      0.91      0.65       171\n",
            "\n",
            "    accuracy                           0.99     11638\n",
            "   macro avg       0.75      0.95      0.82     11638\n",
            "weighted avg       0.99      0.99      0.99     11638\n",
            "\n"
          ]
        }
      ],
      "source": [
        "CR_log=classification_report(preds1,y_test)\n",
        "print(CR_log)"
      ]
    },
    {
      "cell_type": "markdown",
      "id": "2fc18767",
      "metadata": {
        "id": "2fc18767"
      },
      "source": [
        "#### Model 2: Decision Tree"
      ]
    },
    {
      "cell_type": "code",
      "execution_count": 45,
      "id": "194c95f0",
      "metadata": {
        "colab": {
          "base_uri": "https://localhost:8080/",
          "height": 74
        },
        "id": "194c95f0",
        "outputId": "12c3cdff-c6a2-44df-d518-cbba18053470"
      },
      "outputs": [
        {
          "data": {
            "text/html": [
              "<style>#sk-container-id-2 {color: black;}#sk-container-id-2 pre{padding: 0;}#sk-container-id-2 div.sk-toggleable {background-color: white;}#sk-container-id-2 label.sk-toggleable__label {cursor: pointer;display: block;width: 100%;margin-bottom: 0;padding: 0.3em;box-sizing: border-box;text-align: center;}#sk-container-id-2 label.sk-toggleable__label-arrow:before {content: \"▸\";float: left;margin-right: 0.25em;color: #696969;}#sk-container-id-2 label.sk-toggleable__label-arrow:hover:before {color: black;}#sk-container-id-2 div.sk-estimator:hover label.sk-toggleable__label-arrow:before {color: black;}#sk-container-id-2 div.sk-toggleable__content {max-height: 0;max-width: 0;overflow: hidden;text-align: left;background-color: #f0f8ff;}#sk-container-id-2 div.sk-toggleable__content pre {margin: 0.2em;color: black;border-radius: 0.25em;background-color: #f0f8ff;}#sk-container-id-2 input.sk-toggleable__control:checked~div.sk-toggleable__content {max-height: 200px;max-width: 100%;overflow: auto;}#sk-container-id-2 input.sk-toggleable__control:checked~label.sk-toggleable__label-arrow:before {content: \"▾\";}#sk-container-id-2 div.sk-estimator input.sk-toggleable__control:checked~label.sk-toggleable__label {background-color: #d4ebff;}#sk-container-id-2 div.sk-label input.sk-toggleable__control:checked~label.sk-toggleable__label {background-color: #d4ebff;}#sk-container-id-2 input.sk-hidden--visually {border: 0;clip: rect(1px 1px 1px 1px);clip: rect(1px, 1px, 1px, 1px);height: 1px;margin: -1px;overflow: hidden;padding: 0;position: absolute;width: 1px;}#sk-container-id-2 div.sk-estimator {font-family: monospace;background-color: #f0f8ff;border: 1px dotted black;border-radius: 0.25em;box-sizing: border-box;margin-bottom: 0.5em;}#sk-container-id-2 div.sk-estimator:hover {background-color: #d4ebff;}#sk-container-id-2 div.sk-parallel-item::after {content: \"\";width: 100%;border-bottom: 1px solid gray;flex-grow: 1;}#sk-container-id-2 div.sk-label:hover label.sk-toggleable__label {background-color: #d4ebff;}#sk-container-id-2 div.sk-serial::before {content: \"\";position: absolute;border-left: 1px solid gray;box-sizing: border-box;top: 0;bottom: 0;left: 50%;z-index: 0;}#sk-container-id-2 div.sk-serial {display: flex;flex-direction: column;align-items: center;background-color: white;padding-right: 0.2em;padding-left: 0.2em;position: relative;}#sk-container-id-2 div.sk-item {position: relative;z-index: 1;}#sk-container-id-2 div.sk-parallel {display: flex;align-items: stretch;justify-content: center;background-color: white;position: relative;}#sk-container-id-2 div.sk-item::before, #sk-container-id-2 div.sk-parallel-item::before {content: \"\";position: absolute;border-left: 1px solid gray;box-sizing: border-box;top: 0;bottom: 0;left: 50%;z-index: -1;}#sk-container-id-2 div.sk-parallel-item {display: flex;flex-direction: column;z-index: 1;position: relative;background-color: white;}#sk-container-id-2 div.sk-parallel-item:first-child::after {align-self: flex-end;width: 50%;}#sk-container-id-2 div.sk-parallel-item:last-child::after {align-self: flex-start;width: 50%;}#sk-container-id-2 div.sk-parallel-item:only-child::after {width: 0;}#sk-container-id-2 div.sk-dashed-wrapped {border: 1px dashed gray;margin: 0 0.4em 0.5em 0.4em;box-sizing: border-box;padding-bottom: 0.4em;background-color: white;}#sk-container-id-2 div.sk-label label {font-family: monospace;font-weight: bold;display: inline-block;line-height: 1.2em;}#sk-container-id-2 div.sk-label-container {text-align: center;}#sk-container-id-2 div.sk-container {/* jupyter's `normalize.less` sets `[hidden] { display: none; }` but bootstrap.min.css set `[hidden] { display: none !important; }` so we also need the `!important` here to be able to override the default hidden behavior on the sphinx rendered scikit-learn.org. See: https://github.com/scikit-learn/scikit-learn/issues/21755 */display: inline-block !important;position: relative;}#sk-container-id-2 div.sk-text-repr-fallback {display: none;}</style><div id=\"sk-container-id-2\" class=\"sk-top-container\"><div class=\"sk-text-repr-fallback\"><pre>DecisionTreeClassifier(criterion=&#x27;entropy&#x27;, max_depth=10)</pre><b>In a Jupyter environment, please rerun this cell to show the HTML representation or trust the notebook. <br />On GitHub, the HTML representation is unable to render, please try loading this page with nbviewer.org.</b></div><div class=\"sk-container\" hidden><div class=\"sk-item\"><div class=\"sk-estimator sk-toggleable\"><input class=\"sk-toggleable__control sk-hidden--visually\" id=\"sk-estimator-id-2\" type=\"checkbox\" checked><label for=\"sk-estimator-id-2\" class=\"sk-toggleable__label sk-toggleable__label-arrow\">DecisionTreeClassifier</label><div class=\"sk-toggleable__content\"><pre>DecisionTreeClassifier(criterion=&#x27;entropy&#x27;, max_depth=10)</pre></div></div></div></div></div>"
            ],
            "text/plain": [
              "DecisionTreeClassifier(criterion='entropy', max_depth=10)"
            ]
          },
          "execution_count": 45,
          "metadata": {},
          "output_type": "execute_result"
        }
      ],
      "source": [
        "#Importing packages\n",
        "from sklearn import tree\n",
        "from sklearn.tree import DecisionTreeClassifier\n",
        "#Train Model\n",
        "DT = DecisionTreeClassifier()\n",
        "model1 = DecisionTreeClassifier(criterion = 'entropy', max_depth=10)\n",
        "model1.fit(x_train,y_train)"
      ]
    },
    {
      "cell_type": "code",
      "execution_count": 46,
      "id": "fab8522b",
      "metadata": {
        "colab": {
          "base_uri": "https://localhost:8080/",
          "height": 423
        },
        "id": "fab8522b",
        "outputId": "c50de98a-5ba1-4ce1-a36d-23f618f7fdba"
      },
      "outputs": [
        {
          "name": "stdout",
          "output_type": "stream",
          "text": [
            "No. Of Leaves: 64\n"
          ]
        },
        {
          "data": {
            "image/png": "[encoded data removed]",
            "text/plain": [
              "<Figure size 640x480 with 1 Axes>"
            ]
          },
          "metadata": {},
          "output_type": "display_data"
        }
      ],
      "source": [
        "#PLot the Decision Tree\n",
        "tree.plot_tree(model1);\n",
        "print(\"No. Of Leaves:\",model1.get_n_leaves())"
      ]
    },
    {
      "cell_type": "code",
      "execution_count": 47,
      "id": "5cef62f7",
      "metadata": {
        "colab": {
          "base_uri": "https://localhost:8080/"
        },
        "id": "5cef62f7",
        "outputId": "1c1ac866-70a0-4a4e-a237-227ea0e543b4"
      },
      "outputs": [
        {
          "name": "stdout",
          "output_type": "stream",
          "text": [
            "Test data Accuracy is: 0.9984533424987111\n"
          ]
        }
      ],
      "source": [
        "#Predicting on test data\n",
        "preds2= model1.predict(x_test)\n",
        "#Accuracy on test data\n",
        "print('Test data Accuracy is:',np.mean(preds2==y_test))"
      ]
    },
    {
      "cell_type": "code",
      "execution_count": 48,
      "id": "5479a4d4",
      "metadata": {
        "colab": {
          "base_uri": "https://localhost:8080/"
        },
        "id": "5479a4d4",
        "outputId": "c7039658-e830-46ce-f024-21010e830c33"
      },
      "outputs": [
        {
          "data": {
            "text/plain": [
              "array([[11322,     7],\n",
              "       [   11,   298]])"
            ]
          },
          "execution_count": 48,
          "metadata": {},
          "output_type": "execute_result"
        }
      ],
      "source": [
        "# Evaluating model\n",
        "CM_2 = confusion_matrix(y_test,preds2)\n",
        "CM_2"
      ]
    },
    {
      "cell_type": "code",
      "execution_count": 49,
      "id": "4bf7df8d",
      "metadata": {
        "colab": {
          "base_uri": "https://localhost:8080/"
        },
        "id": "4bf7df8d",
        "outputId": "56070027-9d93-4d9c-ce88-2a076aa63bb2"
      },
      "outputs": [
        {
          "name": "stdout",
          "output_type": "stream",
          "text": [
            "              precision    recall  f1-score   support\n",
            "\n",
            "         0.0       1.00      1.00      1.00     11333\n",
            "         1.0       0.96      0.98      0.97       305\n",
            "\n",
            "    accuracy                           1.00     11638\n",
            "   macro avg       0.98      0.99      0.98     11638\n",
            "weighted avg       1.00      1.00      1.00     11638\n",
            "\n"
          ]
        }
      ],
      "source": [
        "CR_2=classification_report(preds2,y_test)\n",
        "print(CR_2)"
      ]
    },
    {
      "cell_type": "markdown",
      "id": "6df5c463",
      "metadata": {
        "id": "6df5c463"
      },
      "source": [
        "#### Model 3: Random Forest"
      ]
    },
    {
      "cell_type": "code",
      "execution_count": 50,
      "id": "22a1e624",
      "metadata": {
        "id": "22a1e624"
      },
      "outputs": [],
      "source": [
        "# Random Forest Classification\n",
        "\n",
        "from sklearn.model_selection import KFold\n",
        "from sklearn.model_selection import cross_val_score\n",
        "from sklearn.ensemble import RandomForestClassifier"
      ]
    },
    {
      "cell_type": "code",
      "execution_count": 51,
      "id": "c85a4574",
      "metadata": {
        "colab": {
          "base_uri": "https://localhost:8080/"
        },
        "id": "c85a4574",
        "outputId": "d9475379-b268-4033-8c98-95725a24fb4e"
      },
      "outputs": [
        {
          "name": "stdout",
          "output_type": "stream",
          "text": [
            "Area Under Curve : \n",
            " 0.9804942552277984\n"
          ]
        }
      ],
      "source": [
        "# Train model\n",
        "parametersRF = {'n_estimators':15,'class_weight': \"balanced\",'n_jobs':-1,'random_state':42}\n",
        "RF = RandomForestClassifier(**parametersRF)\n",
        "model_3 = RF.fit(x_train, y_train)\n",
        "\n",
        "# Predict on testing set\n",
        "preds_3 = RF.predict(x_test)\n",
        "\n",
        "\n",
        "fprRF, recallRF, thresholdsRF = roc_curve(y_test, preds_3)\n",
        "AUC_rf = auc(fprRF, recallRF)\n",
        "\n",
        "resultsRF = {\"Area Under Curve\":AUC_rf}\n",
        "\n",
        "# showing results from Random Forest\n",
        "\n",
        "for measure in resultsRF:\n",
        "    print(measure,\": \\n\",resultsRF[measure])"
      ]
    },
    {
      "cell_type": "code",
      "execution_count": 52,
      "id": "8604b548",
      "metadata": {
        "colab": {
          "base_uri": "https://localhost:8080/"
        },
        "id": "8604b548",
        "outputId": "b69b0420-fe56-4ad8-b702-43aff5a805a6"
      },
      "outputs": [
        {
          "data": {
            "text/plain": [
              "array([[11327,     2],\n",
              "       [   12,   297]])"
            ]
          },
          "execution_count": 52,
          "metadata": {},
          "output_type": "execute_result"
        }
      ],
      "source": [
        "# Evaluating model\n",
        "CM_3 = confusion_matrix(y_test,preds_3)\n",
        "CM_3"
      ]
    },
    {
      "cell_type": "code",
      "execution_count": 53,
      "id": "32992907",
      "metadata": {
        "colab": {
          "base_uri": "https://localhost:8080/"
        },
        "id": "32992907",
        "outputId": "1cbe4f7a-bcfa-4acc-b7b4-f0736dbc9e17"
      },
      "outputs": [
        {
          "name": "stdout",
          "output_type": "stream",
          "text": [
            "              precision    recall  f1-score   support\n",
            "\n",
            "         0.0       1.00      1.00      1.00     11329\n",
            "         1.0       0.99      0.96      0.98       309\n",
            "\n",
            "    accuracy                           1.00     11638\n",
            "   macro avg       1.00      0.98      0.99     11638\n",
            "weighted avg       1.00      1.00      1.00     11638\n",
            "\n"
          ]
        }
      ],
      "source": [
        "CR_3=classification_report(y_test,preds_3)\n",
        "print(CR_3)"
      ]
    },
    {
      "cell_type": "markdown",
      "id": "dcb96415",
      "metadata": {
        "id": "dcb96415"
      },
      "source": [
        "#### Comparing the models: UnBalanced data"
      ]
    },
    {
      "cell_type": "code",
      "execution_count": 55,
      "id": "c2d8edc7",
      "metadata": {
        "colab": {
          "base_uri": "https://localhost:8080/"
        },
        "id": "c2d8edc7",
        "outputId": "798c0a7b-3bad-4e5f-bbcb-79788b626e73"
      },
      "outputs": [
        {
          "name": "stdout",
          "output_type": "stream",
          "text": [
            "Accuracy of Logistic Regression: 0.9855645299879704\n",
            "Accuracy of Decision Tree: 0.9984533424987111\n",
            "Accuracy of Random Forest: 0.9804942552277984\n"
          ]
        }
      ],
      "source": [
        "print(\"Accuracy of Logistic Regression:\",np.mean(preds1==y_test))\n",
        "print(\"Accuracy of Decision Tree:\",np.mean(preds2==y_test))\n",
        "print(\"Accuracy of Random Forest:\",AUC_rf)"
      ]
    },
    {
      "cell_type": "markdown",
      "id": "5fb824a6",
      "metadata": {
        "id": "5fb824a6"
      },
      "source": [
        "#### Handling Imbalanced Data"
      ]
    },
    {
      "cell_type": "code",
      "execution_count": 57,
      "id": "d2945755",
      "metadata": {
        "colab": {
          "base_uri": "https://localhost:8080/"
        },
        "id": "d2945755",
        "outputId": "8bdd8aec-098b-49c0-96d5-892f9aa181bb",
        "scrolled": true
      },
      "outputs": [
        {
          "name": "stdout",
          "output_type": "stream",
          "text": [
            "Resampled shape of X:  (113296, 10)\n",
            "Resampled shape of Y:  (113296,)\n",
            "Counter({0.0: 56648, 1.0: 56648})\n"
          ]
        }
      ],
      "source": [
        "from collections import Counter\n",
        "from sklearn.datasets import make_classification\n",
        "from imblearn.over_sampling import RandomOverSampler\n",
        "ros = RandomOverSampler(random_state=42)\n",
        "x_resampled, y_resampled = ros.fit_resample(X,Y)\n",
        "print(\"Resampled shape of X: \", x_resampled.shape)\n",
        "print(\"Resampled shape of Y: \", y_resampled.shape)\n",
        "value_counts = Counter(y_resampled)\n",
        "print(value_counts)\n",
        "train_x,test_x, train_y,test_y = train_test_split(x_resampled,y_resampled, test_size=0.3, random_state=42)"
      ]
    },
    {
      "cell_type": "code",
      "execution_count": 58,
      "id": "78684909",
      "metadata": {
        "colab": {
          "base_uri": "https://localhost:8080/"
        },
        "id": "78684909",
        "outputId": "b57b0ecc-afa1-47b5-c271-fe1a985ac117"
      },
      "outputs": [
        {
          "name": "stdout",
          "output_type": "stream",
          "text": [
            "Shape of resampled x_train: (79307, 10)\n",
            "Shape of resampled x_test: (33989, 10)\n",
            "Shape of resampled y_train: (79307,)\n",
            "Shape of resampled y_test: (33989,)\n"
          ]
        }
      ],
      "source": [
        "print(\"Shape of resampled x_train:\", train_x.shape)\n",
        "print(\"Shape of resampled x_test:\", test_x.shape)\n",
        "print(\"Shape of resampled y_train:\", train_y.shape)\n",
        "print(\"Shape of resampled y_test:\", test_y.shape)"
      ]
    },
    {
      "cell_type": "code",
      "execution_count": 59,
      "id": "47606497",
      "metadata": {
        "colab": {
          "base_uri": "https://localhost:8080/"
        },
        "id": "47606497",
        "outputId": "8a29307c-9004-48c5-b358-867dcada838a"
      },
      "outputs": [
        {
          "name": "stdout",
          "output_type": "stream",
          "text": [
            "resample y train counts:\n",
            " isFraud\n",
            "1.0    39782\n",
            "0.0    39525\n",
            "Name: count, dtype: int64\n",
            "resample y test counts:\n",
            " isFraud\n",
            "0.0    17123\n",
            "1.0    16866\n",
            "Name: count, dtype: int64\n"
          ]
        }
      ],
      "source": [
        "#Value Counts of ISFRAUD columns after resampling\n",
        "print(\"resample y train counts:\\n\",train_y.value_counts())\n",
        "print(\"resample y test counts:\\n\",test_y.value_counts())"
      ]
    },
    {
      "cell_type": "code",
      "execution_count": 60,
      "id": "a60ddeac",
      "metadata": {
        "colab": {
          "base_uri": "https://localhost:8080/",
          "height": 506
        },
        "id": "a60ddeac",
        "outputId": "4f3b08eb-3fdc-4f53-c7eb-20c88c9189f8",
        "scrolled": true
      },
      "outputs": [
        {
          "data": {
            "text/plain": [
              "<Axes: title={'center': 'CLASS DISTRIBUTION AFTER APPLYING OVERSAMPLING'}, xlabel='isFraud'>"
            ]
          },
          "execution_count": 60,
          "metadata": {},
          "output_type": "execute_result"
        },
        {
          "data": {
            "image/png": "[encoded data removed]",
            "text/plain": [
              "<Figure size 640x480 with 1 Axes>"
            ]
          },
          "metadata": {},
          "output_type": "display_data"
        }
      ],
      "source": [
        "pd.Series(y_resampled).value_counts().plot(kind='bar',title='CLASS DISTRIBUTION AFTER APPLYING OVERSAMPLING', xlabel='isFraud')\n"
      ]
    },
    {
      "cell_type": "markdown",
      "id": "d81cba23",
      "metadata": {
        "id": "d81cba23"
      },
      "source": [
        "#### Model : Logistic Regression"
      ]
    },
    {
      "cell_type": "code",
      "execution_count": 61,
      "id": "0ed9a798",
      "metadata": {
        "id": "0ed9a798"
      },
      "outputs": [],
      "source": [
        "#Importing Libraries\n",
        "from sklearn.linear_model import LogisticRegression\n",
        "from sklearn.metrics import confusion_matrix\n",
        "from sklearn.metrics import roc_curve\n",
        "from sklearn.metrics import roc_auc_score"
      ]
    },
    {
      "cell_type": "code",
      "execution_count": 62,
      "id": "b9a2a581",
      "metadata": {
        "colab": {
          "base_uri": "https://localhost:8080/",
          "height": 74
        },
        "id": "b9a2a581",
        "outputId": "3733a89f-d00f-4735-ba20-1ae436d963c2"
      },
      "outputs": [
        {
          "data": {
            "text/html": [
              "<style>#sk-container-id-3 {color: black;}#sk-container-id-3 pre{padding: 0;}#sk-container-id-3 div.sk-toggleable {background-color: white;}#sk-container-id-3 label.sk-toggleable__label {cursor: pointer;display: block;width: 100%;margin-bottom: 0;padding: 0.3em;box-sizing: border-box;text-align: center;}#sk-container-id-3 label.sk-toggleable__label-arrow:before {content: \"▸\";float: left;margin-right: 0.25em;color: #696969;}#sk-container-id-3 label.sk-toggleable__label-arrow:hover:before {color: black;}#sk-container-id-3 div.sk-estimator:hover label.sk-toggleable__label-arrow:before {color: black;}#sk-container-id-3 div.sk-toggleable__content {max-height: 0;max-width: 0;overflow: hidden;text-align: left;background-color: #f0f8ff;}#sk-container-id-3 div.sk-toggleable__content pre {margin: 0.2em;color: black;border-radius: 0.25em;background-color: #f0f8ff;}#sk-container-id-3 input.sk-toggleable__control:checked~div.sk-toggleable__content {max-height: 200px;max-width: 100%;overflow: auto;}#sk-container-id-3 input.sk-toggleable__control:checked~label.sk-toggleable__label-arrow:before {content: \"▾\";}#sk-container-id-3 div.sk-estimator input.sk-toggleable__control:checked~label.sk-toggleable__label {background-color: #d4ebff;}#sk-container-id-3 div.sk-label input.sk-toggleable__control:checked~label.sk-toggleable__label {background-color: #d4ebff;}#sk-container-id-3 input.sk-hidden--visually {border: 0;clip: rect(1px 1px 1px 1px);clip: rect(1px, 1px, 1px, 1px);height: 1px;margin: -1px;overflow: hidden;padding: 0;position: absolute;width: 1px;}#sk-container-id-3 div.sk-estimator {font-family: monospace;background-color: #f0f8ff;border: 1px dotted black;border-radius: 0.25em;box-sizing: border-box;margin-bottom: 0.5em;}#sk-container-id-3 div.sk-estimator:hover {background-color: #d4ebff;}#sk-container-id-3 div.sk-parallel-item::after {content: \"\";width: 100%;border-bottom: 1px solid gray;flex-grow: 1;}#sk-container-id-3 div.sk-label:hover label.sk-toggleable__label {background-color: #d4ebff;}#sk-container-id-3 div.sk-serial::before {content: \"\";position: absolute;border-left: 1px solid gray;box-sizing: border-box;top: 0;bottom: 0;left: 50%;z-index: 0;}#sk-container-id-3 div.sk-serial {display: flex;flex-direction: column;align-items: center;background-color: white;padding-right: 0.2em;padding-left: 0.2em;position: relative;}#sk-container-id-3 div.sk-item {position: relative;z-index: 1;}#sk-container-id-3 div.sk-parallel {display: flex;align-items: stretch;justify-content: center;background-color: white;position: relative;}#sk-container-id-3 div.sk-item::before, #sk-container-id-3 div.sk-parallel-item::before {content: \"\";position: absolute;border-left: 1px solid gray;box-sizing: border-box;top: 0;bottom: 0;left: 50%;z-index: -1;}#sk-container-id-3 div.sk-parallel-item {display: flex;flex-direction: column;z-index: 1;position: relative;background-color: white;}#sk-container-id-3 div.sk-parallel-item:first-child::after {align-self: flex-end;width: 50%;}#sk-container-id-3 div.sk-parallel-item:last-child::after {align-self: flex-start;width: 50%;}#sk-container-id-3 div.sk-parallel-item:only-child::after {width: 0;}#sk-container-id-3 div.sk-dashed-wrapped {border: 1px dashed gray;margin: 0 0.4em 0.5em 0.4em;box-sizing: border-box;padding-bottom: 0.4em;background-color: white;}#sk-container-id-3 div.sk-label label {font-family: monospace;font-weight: bold;display: inline-block;line-height: 1.2em;}#sk-container-id-3 div.sk-label-container {text-align: center;}#sk-container-id-3 div.sk-container {/* jupyter's `normalize.less` sets `[hidden] { display: none; }` but bootstrap.min.css set `[hidden] { display: none !important; }` so we also need the `!important` here to be able to override the default hidden behavior on the sphinx rendered scikit-learn.org. See: https://github.com/scikit-learn/scikit-learn/issues/21755 */display: inline-block !important;position: relative;}#sk-container-id-3 div.sk-text-repr-fallback {display: none;}</style><div id=\"sk-container-id-3\" class=\"sk-top-container\"><div class=\"sk-text-repr-fallback\"><pre>LogisticRegression()</pre><b>In a Jupyter environment, please rerun this cell to show the HTML representation or trust the notebook. <br />On GitHub, the HTML representation is unable to render, please try loading this page with nbviewer.org.</b></div><div class=\"sk-container\" hidden><div class=\"sk-item\"><div class=\"sk-estimator sk-toggleable\"><input class=\"sk-toggleable__control sk-hidden--visually\" id=\"sk-estimator-id-3\" type=\"checkbox\" checked><label for=\"sk-estimator-id-3\" class=\"sk-toggleable__label sk-toggleable__label-arrow\">LogisticRegression</label><div class=\"sk-toggleable__content\"><pre>LogisticRegression()</pre></div></div></div></div></div>"
            ],
            "text/plain": [
              "LogisticRegression()"
            ]
          },
          "execution_count": 62,
          "metadata": {},
          "output_type": "execute_result"
        }
      ],
      "source": [
        "classifier=LogisticRegression()\n",
        "classifier.fit(train_x,train_y)"
      ]
    },
    {
      "cell_type": "code",
      "execution_count": 63,
      "id": "03c94693",
      "metadata": {
        "colab": {
          "base_uri": "https://localhost:8080/"
        },
        "id": "03c94693",
        "outputId": "1157d2c7-6ab4-4e58-93b3-5abc4b4fab80"
      },
      "outputs": [
        {
          "name": "stdout",
          "output_type": "stream",
          "text": [
            "Train data Accuracy is: 0.94870566280404\n"
          ]
        }
      ],
      "source": [
        "#Predicting on Train data\n",
        "predt_log = classifier.predict(train_x)\n",
        "#Accuracy on Train data\n",
        "print(\"Train data Accuracy is:\", np.mean(predt_log==train_y))"
      ]
    },
    {
      "cell_type": "code",
      "execution_count": 64,
      "id": "c1d7876c",
      "metadata": {
        "colab": {
          "base_uri": "https://localhost:8080/"
        },
        "id": "c1d7876c",
        "outputId": "64b81333-a17b-4bfc-fcd3-b1336b56939b"
      },
      "outputs": [
        {
          "name": "stdout",
          "output_type": "stream",
          "text": [
            "Test data Accuracy is: 0.9500132395775104\n"
          ]
        }
      ],
      "source": [
        "#Predicting on test data\n",
        "preds_log = classifier.predict(test_x)\n",
        "#Accuracy on Test data\n",
        "print(\"Test data Accuracy is:\", np.mean(preds_log==test_y))"
      ]
    },
    {
      "cell_type": "code",
      "execution_count": 65,
      "id": "e1de9e6e",
      "metadata": {
        "colab": {
          "base_uri": "https://localhost:8080/"
        },
        "id": "e1de9e6e",
        "outputId": "3ead5973-95ab-4890-b0bb-9249cd39d575"
      },
      "outputs": [
        {
          "data": {
            "text/plain": [
              "array([[16051,  1072],\n",
              "       [  627, 16239]])"
            ]
          },
          "execution_count": 65,
          "metadata": {},
          "output_type": "execute_result"
        }
      ],
      "source": [
        "# Evaluating model\n",
        "CM_log = confusion_matrix(test_y,preds_log)\n",
        "CM_log"
      ]
    },
    {
      "cell_type": "code",
      "execution_count": 66,
      "id": "577d568c",
      "metadata": {
        "colab": {
          "base_uri": "https://localhost:8080/"
        },
        "id": "577d568c",
        "outputId": "51cac368-bf0a-4058-8a86-c00e1fb73901"
      },
      "outputs": [
        {
          "name": "stdout",
          "output_type": "stream",
          "text": [
            "              precision    recall  f1-score   support\n",
            "\n",
            "         0.0       0.94      0.96      0.95     16678\n",
            "         1.0       0.96      0.94      0.95     17311\n",
            "\n",
            "    accuracy                           0.95     33989\n",
            "   macro avg       0.95      0.95      0.95     33989\n",
            "weighted avg       0.95      0.95      0.95     33989\n",
            "\n"
          ]
        }
      ],
      "source": [
        "CR_log=classification_report(preds_log,test_y)\n",
        "print(CR_log)"
      ]
    },
    {
      "cell_type": "markdown",
      "id": "38f7ed68",
      "metadata": {
        "id": "38f7ed68"
      },
      "source": [
        "#### Model : Decision Tree"
      ]
    },
    {
      "cell_type": "code",
      "execution_count": 67,
      "id": "1f0fb392",
      "metadata": {
        "colab": {
          "base_uri": "https://localhost:8080/",
          "height": 74
        },
        "id": "1f0fb392",
        "outputId": "1f41ac8f-8277-49b5-9883-0a40a6df8470"
      },
      "outputs": [
        {
          "data": {
            "text/html": [
              "<style>#sk-container-id-4 {color: black;}#sk-container-id-4 pre{padding: 0;}#sk-container-id-4 div.sk-toggleable {background-color: white;}#sk-container-id-4 label.sk-toggleable__label {cursor: pointer;display: block;width: 100%;margin-bottom: 0;padding: 0.3em;box-sizing: border-box;text-align: center;}#sk-container-id-4 label.sk-toggleable__label-arrow:before {content: \"▸\";float: left;margin-right: 0.25em;color: #696969;}#sk-container-id-4 label.sk-toggleable__label-arrow:hover:before {color: black;}#sk-container-id-4 div.sk-estimator:hover label.sk-toggleable__label-arrow:before {color: black;}#sk-container-id-4 div.sk-toggleable__content {max-height: 0;max-width: 0;overflow: hidden;text-align: left;background-color: #f0f8ff;}#sk-container-id-4 div.sk-toggleable__content pre {margin: 0.2em;color: black;border-radius: 0.25em;background-color: #f0f8ff;}#sk-container-id-4 input.sk-toggleable__control:checked~div.sk-toggleable__content {max-height: 200px;max-width: 100%;overflow: auto;}#sk-container-id-4 input.sk-toggleable__control:checked~label.sk-toggleable__label-arrow:before {content: \"▾\";}#sk-container-id-4 div.sk-estimator input.sk-toggleable__control:checked~label.sk-toggleable__label {background-color: #d4ebff;}#sk-container-id-4 div.sk-label input.sk-toggleable__control:checked~label.sk-toggleable__label {background-color: #d4ebff;}#sk-container-id-4 input.sk-hidden--visually {border: 0;clip: rect(1px 1px 1px 1px);clip: rect(1px, 1px, 1px, 1px);height: 1px;margin: -1px;overflow: hidden;padding: 0;position: absolute;width: 1px;}#sk-container-id-4 div.sk-estimator {font-family: monospace;background-color: #f0f8ff;border: 1px dotted black;border-radius: 0.25em;box-sizing: border-box;margin-bottom: 0.5em;}#sk-container-id-4 div.sk-estimator:hover {background-color: #d4ebff;}#sk-container-id-4 div.sk-parallel-item::after {content: \"\";width: 100%;border-bottom: 1px solid gray;flex-grow: 1;}#sk-container-id-4 div.sk-label:hover label.sk-toggleable__label {background-color: #d4ebff;}#sk-container-id-4 div.sk-serial::before {content: \"\";position: absolute;border-left: 1px solid gray;box-sizing: border-box;top: 0;bottom: 0;left: 50%;z-index: 0;}#sk-container-id-4 div.sk-serial {display: flex;flex-direction: column;align-items: center;background-color: white;padding-right: 0.2em;padding-left: 0.2em;position: relative;}#sk-container-id-4 div.sk-item {position: relative;z-index: 1;}#sk-container-id-4 div.sk-parallel {display: flex;align-items: stretch;justify-content: center;background-color: white;position: relative;}#sk-container-id-4 div.sk-item::before, #sk-container-id-4 div.sk-parallel-item::before {content: \"\";position: absolute;border-left: 1px solid gray;box-sizing: border-box;top: 0;bottom: 0;left: 50%;z-index: -1;}#sk-container-id-4 div.sk-parallel-item {display: flex;flex-direction: column;z-index: 1;position: relative;background-color: white;}#sk-container-id-4 div.sk-parallel-item:first-child::after {align-self: flex-end;width: 50%;}#sk-container-id-4 div.sk-parallel-item:last-child::after {align-self: flex-start;width: 50%;}#sk-container-id-4 div.sk-parallel-item:only-child::after {width: 0;}#sk-container-id-4 div.sk-dashed-wrapped {border: 1px dashed gray;margin: 0 0.4em 0.5em 0.4em;box-sizing: border-box;padding-bottom: 0.4em;background-color: white;}#sk-container-id-4 div.sk-label label {font-family: monospace;font-weight: bold;display: inline-block;line-height: 1.2em;}#sk-container-id-4 div.sk-label-container {text-align: center;}#sk-container-id-4 div.sk-container {/* jupyter's `normalize.less` sets `[hidden] { display: none; }` but bootstrap.min.css set `[hidden] { display: none !important; }` so we also need the `!important` here to be able to override the default hidden behavior on the sphinx rendered scikit-learn.org. See: https://github.com/scikit-learn/scikit-learn/issues/21755 */display: inline-block !important;position: relative;}#sk-container-id-4 div.sk-text-repr-fallback {display: none;}</style><div id=\"sk-container-id-4\" class=\"sk-top-container\"><div class=\"sk-text-repr-fallback\"><pre>DecisionTreeClassifier(criterion=&#x27;entropy&#x27;, max_depth=10)</pre><b>In a Jupyter environment, please rerun this cell to show the HTML representation or trust the notebook. <br />On GitHub, the HTML representation is unable to render, please try loading this page with nbviewer.org.</b></div><div class=\"sk-container\" hidden><div class=\"sk-item\"><div class=\"sk-estimator sk-toggleable\"><input class=\"sk-toggleable__control sk-hidden--visually\" id=\"sk-estimator-id-4\" type=\"checkbox\" checked><label for=\"sk-estimator-id-4\" class=\"sk-toggleable__label sk-toggleable__label-arrow\">DecisionTreeClassifier</label><div class=\"sk-toggleable__content\"><pre>DecisionTreeClassifier(criterion=&#x27;entropy&#x27;, max_depth=10)</pre></div></div></div></div></div>"
            ],
            "text/plain": [
              "DecisionTreeClassifier(criterion='entropy', max_depth=10)"
            ]
          },
          "execution_count": 67,
          "metadata": {},
          "output_type": "execute_result"
        }
      ],
      "source": [
        "#Train Model\n",
        "DT = DecisionTreeClassifier()\n",
        "model_dt = DecisionTreeClassifier(criterion = 'entropy', max_depth = 10)\n",
        "model_dt.fit(train_x,train_y)"
      ]
    },
    {
      "cell_type": "code",
      "execution_count": 68,
      "id": "710018a5",
      "metadata": {
        "colab": {
          "base_uri": "https://localhost:8080/",
          "height": 423
        },
        "id": "710018a5",
        "outputId": "cee0e473-35ca-4557-bf96-81143b1f9a5b"
      },
      "outputs": [
        {
          "name": "stdout",
          "output_type": "stream",
          "text": [
            "No. Of Leaves: 89\n"
          ]
        },
        {
          "data": {
            "image/png": "[encoded data removed]",
            "text/plain": [
              "<Figure size 640x480 with 1 Axes>"
            ]
          },
          "metadata": {},
          "output_type": "display_data"
        }
      ],
      "source": [
        "#Plot the Decision Tree\n",
        "tree.plot_tree(model_dt);\n",
        "print(\"No. Of Leaves:\",model_dt.get_n_leaves())"
      ]
    },
    {
      "cell_type": "code",
      "execution_count": 69,
      "id": "ccd56934",
      "metadata": {
        "colab": {
          "base_uri": "https://localhost:8080/"
        },
        "id": "ccd56934",
        "outputId": "9dcf3b63-fd3b-48f5-afc2-a124d34ae74e"
      },
      "outputs": [
        {
          "name": "stdout",
          "output_type": "stream",
          "text": [
            "Test data Accuracy is: 0.998528935832181\n"
          ]
        }
      ],
      "source": [
        "#Predicting on test data\n",
        "preds_dt = model_dt.predict(test_x)\n",
        "#Accuracy on Test data\n",
        "print(\"Test data Accuracy is:\", np.mean(preds_dt==test_y))"
      ]
    },
    {
      "cell_type": "code",
      "execution_count": 70,
      "id": "76579e74",
      "metadata": {
        "colab": {
          "base_uri": "https://localhost:8080/"
        },
        "id": "76579e74",
        "outputId": "be38002f-a9ce-4620-cc95-20e79855ccdb"
      },
      "outputs": [
        {
          "data": {
            "text/plain": [
              "array([[17073,    50],\n",
              "       [    0, 16866]])"
            ]
          },
          "execution_count": 70,
          "metadata": {},
          "output_type": "execute_result"
        }
      ],
      "source": [
        "# Evaluating model\n",
        "CM_dt = confusion_matrix(test_y,preds_dt)\n",
        "CM_dt"
      ]
    },
    {
      "cell_type": "code",
      "execution_count": 71,
      "id": "91130912",
      "metadata": {
        "colab": {
          "base_uri": "https://localhost:8080/"
        },
        "id": "91130912",
        "outputId": "b412adbe-143f-4738-ee9c-3550274cff0f"
      },
      "outputs": [
        {
          "name": "stdout",
          "output_type": "stream",
          "text": [
            "              precision    recall  f1-score   support\n",
            "\n",
            "         0.0       1.00      1.00      1.00     17073\n",
            "         1.0       1.00      1.00      1.00     16916\n",
            "\n",
            "    accuracy                           1.00     33989\n",
            "   macro avg       1.00      1.00      1.00     33989\n",
            "weighted avg       1.00      1.00      1.00     33989\n",
            "\n"
          ]
        }
      ],
      "source": [
        "CR_dt=classification_report(preds_dt,test_y)\n",
        "print(CR_dt)"
      ]
    },
    {
      "cell_type": "markdown",
      "id": "72f199cb",
      "metadata": {
        "id": "72f199cb"
      },
      "source": [
        "#### Model : Random Forest"
      ]
    },
    {
      "cell_type": "code",
      "execution_count": 72,
      "id": "a42336a8",
      "metadata": {
        "id": "a42336a8"
      },
      "outputs": [],
      "source": [
        "from sklearn.model_selection import KFold\n",
        "from sklearn.model_selection import cross_val_score\n",
        "from sklearn.ensemble import RandomForestClassifier"
      ]
    },
    {
      "cell_type": "code",
      "execution_count": 73,
      "id": "40da1bbd",
      "metadata": {
        "colab": {
          "base_uri": "https://localhost:8080/"
        },
        "id": "40da1bbd",
        "outputId": "6172c61c-0bca-416e-ba71-50507ba65251"
      },
      "outputs": [
        {
          "name": "stdout",
          "output_type": "stream",
          "text": [
            "Area Under Curve : \n",
            " 0.999883198037727\n"
          ]
        }
      ],
      "source": [
        "# Train model\n",
        "parametersRF = {'n_estimators':15,'class_weight': \"balanced\",'n_jobs':-1,'random_state':42}\n",
        "RF = RandomForestClassifier(**parametersRF)\n",
        "model_rf= RF.fit(train_x, train_y)\n",
        "\n",
        "# Predict on testing set\n",
        "preds_rf = RF.predict(test_x)\n",
        "\n",
        "\n",
        "fprRF, recallRF, thresholdsRF = roc_curve(test_y, preds_rf)\n",
        "AUC_RF = auc(fprRF, recallRF)\n",
        "\n",
        "resultsRF = {\"Area Under Curve\":AUC_RF}\n",
        "\n",
        "# showing results from Random Forest\n",
        "\n",
        "for measure in resultsRF:\n",
        "    print(measure,\": \\n\",resultsRF[measure])"
      ]
    },
    {
      "cell_type": "code",
      "execution_count": 74,
      "id": "92993e42",
      "metadata": {
        "colab": {
          "base_uri": "https://localhost:8080/"
        },
        "id": "92993e42",
        "outputId": "586481f3-87de-4111-d5a9-95c8299a8832"
      },
      "outputs": [
        {
          "data": {
            "text/plain": [
              "array([[17119,     4],\n",
              "       [    0, 16866]])"
            ]
          },
          "execution_count": 74,
          "metadata": {},
          "output_type": "execute_result"
        }
      ],
      "source": [
        "# Evaluating model\n",
        "CM_rf = confusion_matrix(test_y,preds_rf)\n",
        "CM_rf"
      ]
    },
    {
      "cell_type": "code",
      "execution_count": 75,
      "id": "add05632",
      "metadata": {
        "colab": {
          "base_uri": "https://localhost:8080/"
        },
        "id": "add05632",
        "outputId": "9afa44e7-1a3e-4d8b-adb7-1f1c25e20e63"
      },
      "outputs": [
        {
          "name": "stdout",
          "output_type": "stream",
          "text": [
            "              precision    recall  f1-score   support\n",
            "\n",
            "         0.0       1.00      1.00      1.00     17119\n",
            "         1.0       1.00      1.00      1.00     16870\n",
            "\n",
            "    accuracy                           1.00     33989\n",
            "   macro avg       1.00      1.00      1.00     33989\n",
            "weighted avg       1.00      1.00      1.00     33989\n",
            "\n"
          ]
        }
      ],
      "source": [
        "CR_rf=classification_report(preds_rf,test_y)\n",
        "print(CR_rf)"
      ]
    },
    {
      "cell_type": "markdown",
      "id": "e54c81dc",
      "metadata": {
        "id": "e54c81dc"
      },
      "source": [
        "#### Comparing the models: Balanced data"
      ]
    },
    {
      "cell_type": "code",
      "execution_count": 76,
      "id": "eb8a66e9",
      "metadata": {
        "colab": {
          "base_uri": "https://localhost:8080/"
        },
        "id": "eb8a66e9",
        "outputId": "e28d2089-c38f-49ae-927d-19f175b03806"
      },
      "outputs": [
        {
          "name": "stdout",
          "output_type": "stream",
          "text": [
            "Accuracy of Logistic Regression: 0.9500132395775104\n",
            "Accuracy of Decision Tree: 0.998528935832181\n",
            "Accuracy of Random Forest: 0.999883198037727\n"
          ]
        }
      ],
      "source": [
        "print(\"Accuracy of Logistic Regression:\",np.mean(preds_log==test_y))\n",
        "print(\"Accuracy of Decision Tree:\",np.mean(preds_dt==test_y))\n",
        "print(\"Accuracy of Random Forest:\",AUC_RF)"
      ]
    },
    {
      "cell_type": "markdown",
      "id": "fd8a3ffa",
      "metadata": {
        "id": "fd8a3ffa"
      },
      "source": [
        "#### From above Accuracy Comparision, We got good accuracy in all Algorithms except Logistic Regression."
      ]
    },
    {
      "cell_type": "markdown",
      "id": "803852ce",
      "metadata": {
        "id": "803852ce"
      },
      "source": [
        "#### As RANDOM FOREST accuracy is very close to 100% however we finalised random forest as our Final Model."
      ]
    },
    {
      "cell_type": "markdown",
      "id": "67e568ec",
      "metadata": {
        "id": "67e568ec"
      },
      "source": [
        "#### Accuracy of Random Forest: 0.9998623348017621"
      ]
    },
    {
      "cell_type": "markdown",
      "id": "74a7b402",
      "metadata": {
        "id": "74a7b402"
      },
      "source": [
        "True negatives:  18155\n",
        "\n",
        "False positives:  5\n",
        "\n",
        "False negatives:  0\n",
        "\n",
        "True Positives:  17840"
      ]
    },
    {
      "cell_type": "markdown",
      "id": "48a7daa0",
      "metadata": {
        "id": "48a7daa0"
      },
      "source": [
        "### Final Model with Random Forest Classifier"
      ]
    },
    {
      "cell_type": "code",
      "execution_count": 77,
      "id": "838d59e9",
      "metadata": {
        "colab": {
          "base_uri": "https://localhost:8080/"
        },
        "id": "838d59e9",
        "outputId": "bc1bcea1-3a05-4dc4-b5df-57afd548bfdf"
      },
      "outputs": [
        {
          "name": "stdout",
          "output_type": "stream",
          "text": [
            "RandomForest_Deploy\n",
            "------------------\n"
          ]
        },
        {
          "data": {
            "text/plain": [
              "(RandomForestClassifier(class_weight='balanced', max_depth=7, max_features=4,\n",
              "                        n_estimators=50, random_state=42),\n",
              "         type      amount  oldbalanceOrg  newbalanceOrig  oldbalanceDest  \\\n",
              " 69097      1   155761.29      155761.29            0.00       192775.45   \n",
              " 34706      1   213682.15           0.00            0.00      1968940.99   \n",
              " 30228      1    31519.66           0.00            0.00        53487.41   \n",
              " 60453      4   212130.67      212130.67            0.00            0.00   \n",
              " 78432      4   146681.74      146681.74            0.00            0.00   \n",
              " ...      ...         ...            ...             ...             ...   \n",
              " 76820      4    39013.30       39013.30            0.00            0.00   \n",
              " 110268     1    18126.95       18126.95            0.00            0.00   \n",
              " 103694     1  1448630.38     1448630.38            0.00      1294571.45   \n",
              " 860        4   595846.21      118425.71            0.00        46257.07   \n",
              " 15795      3     6737.87        6867.00          129.13            0.00   \n",
              " \n",
              "         newbalanceDest  isFlaggedFraud  origin_bal_change  dest_bal_increase  \\\n",
              " 69097        348536.74             0.0          155761.29          155761.29   \n",
              " 34706       2182623.14             0.0               0.00          213682.15   \n",
              " 30228         85007.07             0.0               0.00           31519.66   \n",
              " 60453             0.00             0.0          212130.67               0.00   \n",
              " 78432             0.00             0.0          146681.74               0.00   \n",
              " ...                ...             ...                ...                ...   \n",
              " 76820             0.00             0.0           39013.30               0.00   \n",
              " 110268        18126.95             0.0           18126.95           18126.95   \n",
              " 103694      2743201.82             0.0         1448630.38         1448630.37   \n",
              " 860          642103.28             0.0          118425.71          595846.21   \n",
              " 15795             0.00             0.0            6737.87               0.00   \n",
              " \n",
              "         HourOfDay  \n",
              " 69097    1.875000  \n",
              " 34706    0.375000  \n",
              " 30228    0.333333  \n",
              " 60453    5.541667  \n",
              " 78432    4.208333  \n",
              " ...           ...  \n",
              " 76820    1.625000  \n",
              " 110268   1.041667  \n",
              " 103694   1.375000  \n",
              " 860      0.291667  \n",
              " 15795    0.250000  \n",
              " \n",
              " [79307 rows x 10 columns],\n",
              "        type      amount  oldbalanceOrg  newbalanceOrig  oldbalanceDest  \\\n",
              " 19356     3     7353.24           0.00            0.00            0.00   \n",
              " 8768      4  2388561.97        9098.00            0.00            0.00   \n",
              " 29762     1    14434.99      155195.61       140760.62       509153.86   \n",
              " 41479     2     1695.35        9046.00         7350.65       665100.43   \n",
              " 67769     1   438224.60      438224.60            0.00       320697.46   \n",
              " ...     ...         ...            ...             ...             ...   \n",
              " 16897     3     8284.33       24938.84        16654.51            0.00   \n",
              " 79929     4  1311150.90     1311150.90            0.00            0.00   \n",
              " 71446     4    11481.00       11481.00            0.00            0.00   \n",
              " 63915     4   969259.07      969259.07            0.00            0.00   \n",
              " 34916     1   156849.74           0.00            0.00       382629.92   \n",
              " \n",
              "        newbalanceDest  isFlaggedFraud  origin_bal_change  dest_bal_increase  \\\n",
              " 19356            0.00             0.0               0.00               0.00   \n",
              " 8768       2482850.83             0.0            9098.00         2482850.83   \n",
              " 29762       523588.86             0.0           14434.99           14435.00   \n",
              " 41479       666795.77             0.0            1695.35            1695.34   \n",
              " 67769       758922.05             0.0          438224.60          438224.59   \n",
              " ...               ...             ...                ...                ...   \n",
              " 16897            0.00             0.0            8284.33               0.00   \n",
              " 79929            0.00             0.0         1311150.90               0.00   \n",
              " 71446       263492.28             0.0           11481.00          263492.28   \n",
              " 63915            0.00             0.0          969259.07               0.00   \n",
              " 34916       542587.38             0.0               0.00          159957.46   \n",
              " \n",
              "        HourOfDay  \n",
              " 19356   0.291667  \n",
              " 8768    0.416667  \n",
              " 29762   0.333333  \n",
              " 41479   1.666667  \n",
              " 67769   2.250000  \n",
              " ...          ...  \n",
              " 16897   0.291667  \n",
              " 79929   3.083333  \n",
              " 71446   0.750000  \n",
              " 63915   2.166667  \n",
              " 34916   0.375000  \n",
              " \n",
              " [33989 rows x 10 columns])"
            ]
          },
          "execution_count": 77,
          "metadata": {},
          "output_type": "execute_result"
        }
      ],
      "source": [
        "from sklearn.metrics import f1_score\n",
        "from sklearn.metrics import recall_score\n",
        "from sklearn.metrics import precision_recall_curve\n",
        "\n",
        "\n",
        "RandomForest_Deploy = RandomForestClassifier(class_weight = 'balanced',\n",
        "                                       max_depth = 7,\n",
        "                                       max_features = 4,\n",
        "                                       min_samples_split = 2,\n",
        "                                       n_estimators = 50,\n",
        "                                       random_state = 42).fit(train_x,train_y)\n",
        "\n",
        "y_pred = RandomForest_Deploy.predict(test_x)\n",
        "y_train_pred = RandomForest_Deploy.predict(train_x)\n",
        "\n",
        "RandomForest_Deploy_f1 = f1_score(test_y, y_pred)\n",
        "RandomForest_Deploy_acc = accuracy_score(test_y, y_pred)\n",
        "RandomForest_Deploy_recall = recall_score(test_y, y_pred)\n",
        "RandomForest_Deploy_auc = roc_auc_score(test_y, y_pred)\n",
        "RandomForest_Deploy_pre = precision_score(test_y, y_pred)\n",
        "precision, recall, _ = precision_recall_curve(test_y, y_pred)\n",
        "RandomForest_Deploy_recall_auc = auc(recall, precision)\n",
        "\n",
        "print(\"RandomForest_Deploy\")\n",
        "print (\"------------------\")\n",
        "eval(\"RandomForest_Deploy, train_x, test_x\")"
      ]
    },
    {
      "cell_type": "code",
      "execution_count": 78,
      "id": "553f963f",
      "metadata": {
        "colab": {
          "base_uri": "https://localhost:8080/",
          "height": 226
        },
        "id": "553f963f",
        "outputId": "8c7c4743-8645-4766-feef-262427ae4080"
      },
      "outputs": [
        {
          "data": {
            "text/html": [
              "<div>\n",
              "<style scoped>\n",
              "    .dataframe tbody tr th:only-of-type {\n",
              "        vertical-align: middle;\n",
              "    }\n",
              "\n",
              "    .dataframe tbody tr th {\n",
              "        vertical-align: top;\n",
              "    }\n",
              "\n",
              "    .dataframe thead th {\n",
              "        text-align: right;\n",
              "    }\n",
              "</style>\n",
              "<table border=\"1\" class=\"dataframe\">\n",
              "  <thead>\n",
              "    <tr style=\"text-align: right;\">\n",
              "      <th></th>\n",
              "      <th>type</th>\n",
              "      <th>amount</th>\n",
              "      <th>oldbalanceOrg</th>\n",
              "      <th>newbalanceOrig</th>\n",
              "      <th>oldbalanceDest</th>\n",
              "      <th>newbalanceDest</th>\n",
              "      <th>isFlaggedFraud</th>\n",
              "      <th>origin_bal_change</th>\n",
              "      <th>dest_bal_increase</th>\n",
              "      <th>HourOfDay</th>\n",
              "    </tr>\n",
              "  </thead>\n",
              "  <tbody>\n",
              "    <tr>\n",
              "      <th>69097</th>\n",
              "      <td>1</td>\n",
              "      <td>155761.29</td>\n",
              "      <td>155761.29</td>\n",
              "      <td>0.0</td>\n",
              "      <td>192775.45</td>\n",
              "      <td>348536.74</td>\n",
              "      <td>0.0</td>\n",
              "      <td>155761.29</td>\n",
              "      <td>155761.29</td>\n",
              "      <td>1.875000</td>\n",
              "    </tr>\n",
              "    <tr>\n",
              "      <th>34706</th>\n",
              "      <td>1</td>\n",
              "      <td>213682.15</td>\n",
              "      <td>0.00</td>\n",
              "      <td>0.0</td>\n",
              "      <td>1968940.99</td>\n",
              "      <td>2182623.14</td>\n",
              "      <td>0.0</td>\n",
              "      <td>0.00</td>\n",
              "      <td>213682.15</td>\n",
              "      <td>0.375000</td>\n",
              "    </tr>\n",
              "    <tr>\n",
              "      <th>30228</th>\n",
              "      <td>1</td>\n",
              "      <td>31519.66</td>\n",
              "      <td>0.00</td>\n",
              "      <td>0.0</td>\n",
              "      <td>53487.41</td>\n",
              "      <td>85007.07</td>\n",
              "      <td>0.0</td>\n",
              "      <td>0.00</td>\n",
              "      <td>31519.66</td>\n",
              "      <td>0.333333</td>\n",
              "    </tr>\n",
              "    <tr>\n",
              "      <th>60453</th>\n",
              "      <td>4</td>\n",
              "      <td>212130.67</td>\n",
              "      <td>212130.67</td>\n",
              "      <td>0.0</td>\n",
              "      <td>0.00</td>\n",
              "      <td>0.00</td>\n",
              "      <td>0.0</td>\n",
              "      <td>212130.67</td>\n",
              "      <td>0.00</td>\n",
              "      <td>5.541667</td>\n",
              "    </tr>\n",
              "    <tr>\n",
              "      <th>78432</th>\n",
              "      <td>4</td>\n",
              "      <td>146681.74</td>\n",
              "      <td>146681.74</td>\n",
              "      <td>0.0</td>\n",
              "      <td>0.00</td>\n",
              "      <td>0.00</td>\n",
              "      <td>0.0</td>\n",
              "      <td>146681.74</td>\n",
              "      <td>0.00</td>\n",
              "      <td>4.208333</td>\n",
              "    </tr>\n",
              "  </tbody>\n",
              "</table>\n",
              "</div>"
            ],
            "text/plain": [
              "       type     amount  oldbalanceOrg  newbalanceOrig  oldbalanceDest  \\\n",
              "69097     1  155761.29      155761.29             0.0       192775.45   \n",
              "34706     1  213682.15           0.00             0.0      1968940.99   \n",
              "30228     1   31519.66           0.00             0.0        53487.41   \n",
              "60453     4  212130.67      212130.67             0.0            0.00   \n",
              "78432     4  146681.74      146681.74             0.0            0.00   \n",
              "\n",
              "       newbalanceDest  isFlaggedFraud  origin_bal_change  dest_bal_increase  \\\n",
              "69097       348536.74             0.0          155761.29          155761.29   \n",
              "34706      2182623.14             0.0               0.00          213682.15   \n",
              "30228        85007.07             0.0               0.00           31519.66   \n",
              "60453            0.00             0.0          212130.67               0.00   \n",
              "78432            0.00             0.0          146681.74               0.00   \n",
              "\n",
              "       HourOfDay  \n",
              "69097   1.875000  \n",
              "34706   0.375000  \n",
              "30228   0.333333  \n",
              "60453   5.541667  \n",
              "78432   4.208333  "
            ]
          },
          "execution_count": 78,
          "metadata": {},
          "output_type": "execute_result"
        }
      ],
      "source": [
        "train_x.head()"
      ]
    },
    {
      "cell_type": "code",
      "execution_count": 79,
      "id": "2191924d",
      "metadata": {
        "colab": {
          "base_uri": "https://localhost:8080/",
          "height": 226
        },
        "id": "2191924d",
        "outputId": "8a270705-141e-4d67-f62f-6b1cfb0ac8f1"
      },
      "outputs": [
        {
          "data": {
            "text/html": [
              "<div>\n",
              "<style scoped>\n",
              "    .dataframe tbody tr th:only-of-type {\n",
              "        vertical-align: middle;\n",
              "    }\n",
              "\n",
              "    .dataframe tbody tr th {\n",
              "        vertical-align: top;\n",
              "    }\n",
              "\n",
              "    .dataframe thead th {\n",
              "        text-align: right;\n",
              "    }\n",
              "</style>\n",
              "<table border=\"1\" class=\"dataframe\">\n",
              "  <thead>\n",
              "    <tr style=\"text-align: right;\">\n",
              "      <th></th>\n",
              "      <th>type</th>\n",
              "      <th>amount</th>\n",
              "      <th>oldbalanceOrg</th>\n",
              "      <th>newbalanceOrig</th>\n",
              "      <th>oldbalanceDest</th>\n",
              "      <th>newbalanceDest</th>\n",
              "      <th>isFlaggedFraud</th>\n",
              "      <th>origin_bal_change</th>\n",
              "      <th>dest_bal_increase</th>\n",
              "      <th>HourOfDay</th>\n",
              "    </tr>\n",
              "  </thead>\n",
              "  <tbody>\n",
              "    <tr>\n",
              "      <th>19356</th>\n",
              "      <td>3</td>\n",
              "      <td>7353.24</td>\n",
              "      <td>0.00</td>\n",
              "      <td>0.00</td>\n",
              "      <td>0.00</td>\n",
              "      <td>0.00</td>\n",
              "      <td>0.0</td>\n",
              "      <td>0.00</td>\n",
              "      <td>0.00</td>\n",
              "      <td>0.291667</td>\n",
              "    </tr>\n",
              "    <tr>\n",
              "      <th>8768</th>\n",
              "      <td>4</td>\n",
              "      <td>2388561.97</td>\n",
              "      <td>9098.00</td>\n",
              "      <td>0.00</td>\n",
              "      <td>0.00</td>\n",
              "      <td>2482850.83</td>\n",
              "      <td>0.0</td>\n",
              "      <td>9098.00</td>\n",
              "      <td>2482850.83</td>\n",
              "      <td>0.416667</td>\n",
              "    </tr>\n",
              "    <tr>\n",
              "      <th>29762</th>\n",
              "      <td>1</td>\n",
              "      <td>14434.99</td>\n",
              "      <td>155195.61</td>\n",
              "      <td>140760.62</td>\n",
              "      <td>509153.86</td>\n",
              "      <td>523588.86</td>\n",
              "      <td>0.0</td>\n",
              "      <td>14434.99</td>\n",
              "      <td>14435.00</td>\n",
              "      <td>0.333333</td>\n",
              "    </tr>\n",
              "    <tr>\n",
              "      <th>41479</th>\n",
              "      <td>2</td>\n",
              "      <td>1695.35</td>\n",
              "      <td>9046.00</td>\n",
              "      <td>7350.65</td>\n",
              "      <td>665100.43</td>\n",
              "      <td>666795.77</td>\n",
              "      <td>0.0</td>\n",
              "      <td>1695.35</td>\n",
              "      <td>1695.34</td>\n",
              "      <td>1.666667</td>\n",
              "    </tr>\n",
              "    <tr>\n",
              "      <th>67769</th>\n",
              "      <td>1</td>\n",
              "      <td>438224.60</td>\n",
              "      <td>438224.60</td>\n",
              "      <td>0.00</td>\n",
              "      <td>320697.46</td>\n",
              "      <td>758922.05</td>\n",
              "      <td>0.0</td>\n",
              "      <td>438224.60</td>\n",
              "      <td>438224.59</td>\n",
              "      <td>2.250000</td>\n",
              "    </tr>\n",
              "  </tbody>\n",
              "</table>\n",
              "</div>"
            ],
            "text/plain": [
              "       type      amount  oldbalanceOrg  newbalanceOrig  oldbalanceDest  \\\n",
              "19356     3     7353.24           0.00            0.00            0.00   \n",
              "8768      4  2388561.97        9098.00            0.00            0.00   \n",
              "29762     1    14434.99      155195.61       140760.62       509153.86   \n",
              "41479     2     1695.35        9046.00         7350.65       665100.43   \n",
              "67769     1   438224.60      438224.60            0.00       320697.46   \n",
              "\n",
              "       newbalanceDest  isFlaggedFraud  origin_bal_change  dest_bal_increase  \\\n",
              "19356            0.00             0.0               0.00               0.00   \n",
              "8768       2482850.83             0.0            9098.00         2482850.83   \n",
              "29762       523588.86             0.0           14434.99           14435.00   \n",
              "41479       666795.77             0.0            1695.35            1695.34   \n",
              "67769       758922.05             0.0          438224.60          438224.59   \n",
              "\n",
              "       HourOfDay  \n",
              "19356   0.291667  \n",
              "8768    0.416667  \n",
              "29762   0.333333  \n",
              "41479   1.666667  \n",
              "67769   2.250000  "
            ]
          },
          "execution_count": 79,
          "metadata": {},
          "output_type": "execute_result"
        }
      ],
      "source": [
        "test_x.head()"
      ]
    },
    {
      "cell_type": "code",
      "execution_count": 83,
      "id": "54bc3788",
      "metadata": {
        "id": "54bc3788"
      },
      "outputs": [],
      "source": [
        "import pickle\n",
        "# open a file, where you ant to store the data\n",
        "# dump information to that file\n",
        "pickle.dump(RandomForest_Deploy, open('random_forest_model.pkl', 'wb'))"
      ]
    },
    {
      "cell_type": "code",
      "execution_count": 84,
      "id": "5c27fa47",
      "metadata": {
        "id": "5c27fa47"
      },
      "outputs": [],
      "source": [
        "from pickle import dump\n",
        "from pickle import load"
      ]
    },
    {
      "cell_type": "code",
      "execution_count": 85,
      "id": "d464609b",
      "metadata": {
        "id": "d464609b"
      },
      "outputs": [],
      "source": [
        "pickle.model = pickle.load(open('random_forest_model.pkl', 'rb'))"
      ]
    },
    {
      "cell_type": "code",
      "execution_count": 140,
      "id": "ef8b2f03",
      "metadata": {
        "colab": {
          "base_uri": "https://localhost:8080/"
        },
        "id": "ef8b2f03",
        "outputId": "59c88287-eefa-40c1-f115-b6aeaa08b6f6"
      },
      "outputs": [
        {
          "data": {
            "text/plain": [
              "61523     1.0\n",
              "98358     1.0\n",
              "30853     0.0\n",
              "14486     0.0\n",
              "53677     0.0\n",
              "48189     0.0\n",
              "103523    1.0\n",
              "49654     0.0\n",
              "39778     0.0\n",
              "72646     1.0\n",
              "45776     0.0\n",
              "40493     0.0\n",
              "57015     1.0\n",
              "46204     0.0\n",
              "62889     1.0\n",
              "91389     1.0\n",
              "47912     0.0\n",
              "53261     0.0\n",
              "17749     0.0\n",
              "92788     1.0\n",
              "39394     0.0\n",
              "53174     0.0\n",
              "51064     0.0\n",
              "95160     1.0\n",
              "28010     0.0\n",
              "27646     0.0\n",
              "86391     1.0\n",
              "8592      0.0\n",
              "53572     0.0\n",
              "67407     1.0\n",
              "98522     1.0\n",
              "20900     0.0\n",
              "23170     0.0\n",
              "94200     1.0\n",
              "12080     0.0\n",
              "34330     0.0\n",
              "106529    1.0\n",
              "68465     1.0\n",
              "24323     0.0\n",
              "62800     1.0\n",
              "97178     1.0\n",
              "52507     0.0\n",
              "1315      0.0\n",
              "92560     1.0\n",
              "86578     1.0\n",
              "32226     0.0\n",
              "12435     0.0\n",
              "4643      0.0\n",
              "45523     0.0\n",
              "87713     1.0\n",
              "Name: isFraud, dtype: float64"
            ]
          },
          "execution_count": 140,
          "metadata": {},
          "output_type": "execute_result"
        }
      ],
      "source": [
        "test_y.head(50)"
      ]
    },
    {
      "cell_type": "code",
      "execution_count": 141,
      "id": "e34bd4a6",
      "metadata": {
        "colab": {
          "base_uri": "https://localhost:8080/"
        },
        "id": "e34bd4a6",
        "outputId": "b34d1118-352d-4503-ea6b-7260f8f89b80"
      },
      "outputs": [
        {
          "data": {
            "text/plain": [
              "isFraud\n",
              "0.0    16540\n",
              "1.0    16232\n",
              "Name: count, dtype: int64"
            ]
          },
          "execution_count": 141,
          "metadata": {},
          "output_type": "execute_result"
        }
      ],
      "source": [
        "test_y.value_counts()"
      ]
    },
    {
      "cell_type": "code",
      "execution_count": 142,
      "id": "a29229b4",
      "metadata": {
        "colab": {
          "base_uri": "https://localhost:8080/"
        },
        "id": "a29229b4",
        "outputId": "2ac95d62-aca9-4af2-d3a5-d732f2072cd4"
      },
      "outputs": [
        {
          "data": {
            "text/plain": [
              "isFraud\n",
              "1.0    38387\n",
              "0.0    38079\n",
              "Name: count, dtype: int64"
            ]
          },
          "execution_count": 142,
          "metadata": {},
          "output_type": "execute_result"
        }
      ],
      "source": [
        "train_y.value_counts()"
      ]
    },
    {
      "cell_type": "code",
      "execution_count": null,
      "id": "b52103a2",
      "metadata": {
        "id": "b52103a2"
      },
      "outputs": [],
      "source": []
    }
  ],
  "metadata": {
    "colab": {
      "provenance": []
    },
    "kernelspec": {
      "display_name": "Python 3 (ipykernel)",
      "language": "python",
      "name": "python3"
    },
    "language_info": {
      "codemirror_mode": {
        "name": "ipython",
        "version": 3
      },
      "file_extension": ".py",
      "mimetype": "text/x-python",
      "name": "python",
      "nbconvert_exporter": "python",
      "pygments_lexer": "ipython3",
      "version": "3.8.19"
    }
  },
  "nbformat": 4,
  "nbformat_minor": 5
}
